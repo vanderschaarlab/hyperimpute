{
 "cells": [
  {
   "cell_type": "markdown",
   "id": "74ed2303",
   "metadata": {},
   "source": [
    "# Bayesian Optimization over standard imputers"
   ]
  },
  {
   "cell_type": "code",
   "execution_count": 1,
   "id": "830c422f",
   "metadata": {},
   "outputs": [],
   "source": [
    "import sys\n",
    "import warnings\n",
    "import pandas as pd\n",
    "import numpy as np\n",
    "\n",
    "from IPython.display import HTML, display\n",
    "import tabulate\n",
    "\n",
    "warnings.simplefilter(\"ignore\")\n",
    "\n",
    "\n",
    "from hyperimpute.utils.distributions import enable_reproducible_results\n",
    "\n",
    "enable_reproducible_results()"
   ]
  },
  {
   "cell_type": "markdown",
   "id": "f95a86c6",
   "metadata": {},
   "source": [
    "# Load imputers"
   ]
  },
  {
   "cell_type": "code",
   "execution_count": 2,
   "id": "838235bc",
   "metadata": {},
   "outputs": [
    {
     "name": "stderr",
     "output_type": "stream",
     "text": [
      "2022-01-12 00:19:19.822381: W tensorflow/stream_executor/platform/default/dso_loader.cc:64] Could not load dynamic library 'libcudart.so.11.0'; dlerror: libcudart.so.11.0: cannot open shared object file: No such file or directory\n",
      "2022-01-12 00:19:19.822408: I tensorflow/stream_executor/cuda/cudart_stub.cc:29] Ignore above cudart dlerror if you do not have a GPU set up on your machine.\n"
     ]
    },
    {
     "name": "stdout",
     "output_type": "stream",
     "text": [
      "WARNING:tensorflow:From /home/bcebere/anaconda3/envs/py38/lib/python3.8/site-packages/tensorflow/python/compat/v2_compat.py:111: disable_resource_variables (from tensorflow.python.ops.variable_scope) is deprecated and will be removed in a future version.\n",
      "Instructions for updating:\n",
      "non-resource variables are not supported in the long term\n"
     ]
    }
   ],
   "source": [
    "from hyperimpute.plugins.imputers import Imputers, ImputerPlugin\n",
    "from hyperimpute.plugins.utils.metrics import RMSE\n",
    "from hyperimpute.plugins.utils.simulate import simulate_nan\n",
    "from hyperimpute.utils.optimizer import EarlyStoppingExceeded, create_study\n",
    "\n",
    "imputers = Imputers()\n",
    "\n",
    "imputers.list()\n",
    "\n",
    "imputers_seed = [\n",
    "    \"miracle\",\n",
    "    \"miwae\",\n",
    "    \"gain\",\n",
    "    \"softimpute\",\n",
    "    \"sinkhorn\",\n",
    "    \"mean\",\n",
    "    \"sklearn_ice\",\n",
    "    \"most_frequent\",\n",
    "    \"median\",\n",
    "    \"EM\",\n",
    "    \"sklearn_missforest\",\n",
    "]\n",
    "\n",
    "subsample = 500"
   ]
  },
  {
   "cell_type": "markdown",
   "id": "7b86c52a",
   "metadata": {},
   "source": [
    "# Helpers"
   ]
  },
  {
   "cell_type": "code",
   "execution_count": 3,
   "id": "ffb7c9d8",
   "metadata": {},
   "outputs": [],
   "source": [
    "from sklearn.preprocessing import MinMaxScaler\n",
    "\n",
    "\n",
    "def ampute(x, mechanism, p_miss):\n",
    "    x_simulated = simulate_nan(x, p_miss, mechanism)\n",
    "\n",
    "    mask = x_simulated[\"mask\"]\n",
    "    x_miss = x_simulated[\"X_incomp\"]\n",
    "\n",
    "    return x, x_miss, mask\n",
    "\n",
    "\n",
    "def scale_data(X):\n",
    "    X = np.asarray(X)\n",
    "    preproc = MinMaxScaler()\n",
    "\n",
    "    return np.asarray(preproc.fit_transform(X))\n",
    "\n",
    "\n",
    "def simulate_scenarios(X):\n",
    "    X = scale_data(X)\n",
    "\n",
    "    datasets = {}\n",
    "\n",
    "    mechanisms = [\"MAR\", \"MNAR\", \"MCAR\"]\n",
    "    percentages = [0.2, 0.3]\n",
    "\n",
    "    for ampute_mechanism in mechanisms:\n",
    "        for p_miss in percentages:\n",
    "            if ampute_mechanism not in datasets:\n",
    "                datasets[ampute_mechanism] = {}\n",
    "\n",
    "            datasets[ampute_mechanism][p_miss] = ampute(X, ampute_mechanism, p_miss)\n",
    "\n",
    "    return datasets"
   ]
  },
  {
   "cell_type": "markdown",
   "id": "bc1f90ba",
   "metadata": {},
   "source": [
    "# BO core"
   ]
  },
  {
   "cell_type": "code",
   "execution_count": 11,
   "id": "c4c853f5",
   "metadata": {},
   "outputs": [],
   "source": [
    "from typing import Any\n",
    "import optuna\n",
    "from sklearn.metrics import mean_squared_error\n",
    "from sklearn.model_selection import train_test_split\n",
    "import time\n",
    "\n",
    "\n",
    "def evaluate_plugin(\n",
    "    name: str,\n",
    "    plugin: ImputerPlugin,\n",
    "    X: np.ndarray,\n",
    "    X_miss: np.ndarray,\n",
    "    mask: np.ndarray,\n",
    "    prev_best_score: float,\n",
    "):\n",
    "\n",
    "    study, pruner = create_study(\n",
    "        study_name=f\"{name}_imputer_evaluation_{plugin.name()}\",\n",
    "        direction=\"minimize\",\n",
    "        load_if_exists=False,\n",
    "        patience=5,\n",
    "    )\n",
    "\n",
    "    def evaluate_args(**kwargs: Any) -> float:\n",
    "        imputer = plugin(**kwargs)\n",
    "\n",
    "        imputed = imputer.fit_transform(X_miss.copy())\n",
    "        return RMSE(np.asarray(imputed), X, mask)\n",
    "\n",
    "    baseline_score = evaluate_args(**{})\n",
    "\n",
    "    if baseline_score < prev_best_score:\n",
    "        return baseline_score, {}\n",
    "\n",
    "    pruner.report_score(baseline_score)\n",
    "    if prev_best_score < 100:\n",
    "        pruner.report_score(prev_best_score)\n",
    "\n",
    "    def objective(trial: optuna.Trial) -> float:\n",
    "        args = plugin.sample_hyperparameters(trial)\n",
    "        pruner.check_trial(trial)\n",
    "\n",
    "        score = evaluate_args(**args)\n",
    "\n",
    "        pruner.report_score(score)\n",
    "\n",
    "        return score\n",
    "\n",
    "    try:\n",
    "        study.optimize(objective, n_trials=50, timeout=60 * 3)\n",
    "    except EarlyStoppingExceeded:\n",
    "        pass\n",
    "        # print(f\"Early stopping triggered for imputer {plugin.name()}\")\n",
    "\n",
    "    try:\n",
    "        if baseline_score > study.best_value:\n",
    "            return baseline_score, {}\n",
    "\n",
    "        return study.best_value, study.best_trial.params\n",
    "    except BaseException:\n",
    "        return baseline_score, {}\n",
    "\n",
    "\n",
    "def benchmark(\n",
    "    name: str,\n",
    "    X: np.ndarray,\n",
    "    X_miss: np.ndarray,\n",
    "    mask: np.ndarray,\n",
    "):\n",
    "    scores = {}\n",
    "    start = time.time()\n",
    "\n",
    "    best_score = 999\n",
    "    for plugin in imputers_seed:\n",
    "\n",
    "        plugin_t = imputers.get_type(plugin)\n",
    "        try:\n",
    "            score, params = evaluate_plugin(name, plugin_t, X, X_miss, mask, best_score)\n",
    "            if score < best_score:\n",
    "                best_score = score\n",
    "        except BaseException as e:\n",
    "            print(\"      >>>  Plugin failed\", plugin, e)\n",
    "            raise e\n",
    "\n",
    "        scores[plugin] = (score, params)\n",
    "\n",
    "    print(f\" iteration for {name} took {time.time() - start} seconds\")\n",
    "    print(\" iteration scores\", scores)\n",
    "    return scores"
   ]
  },
  {
   "cell_type": "markdown",
   "id": "b6a09fa8",
   "metadata": {},
   "source": [
    "# Dataset: UCI Airfoil Self-Noise Data Set\n",
    "\n",
    "https://archive.ics.uci.edu/ml/datasets/airfoil+self-noise\n"
   ]
  },
  {
   "cell_type": "code",
   "execution_count": 5,
   "id": "ae8cc12e",
   "metadata": {
    "scrolled": false
   },
   "outputs": [
    {
     "data": {
      "text/html": [
       "<div>\n",
       "<style scoped>\n",
       "    .dataframe tbody tr th:only-of-type {\n",
       "        vertical-align: middle;\n",
       "    }\n",
       "\n",
       "    .dataframe tbody tr th {\n",
       "        vertical-align: top;\n",
       "    }\n",
       "\n",
       "    .dataframe thead th {\n",
       "        text-align: right;\n",
       "    }\n",
       "</style>\n",
       "<table border=\"1\" class=\"dataframe\">\n",
       "  <thead>\n",
       "    <tr style=\"text-align: right;\">\n",
       "      <th></th>\n",
       "      <th>0</th>\n",
       "      <th>1</th>\n",
       "      <th>2</th>\n",
       "      <th>3</th>\n",
       "      <th>4</th>\n",
       "      <th>5</th>\n",
       "    </tr>\n",
       "  </thead>\n",
       "  <tbody>\n",
       "    <tr>\n",
       "      <th>0</th>\n",
       "      <td>800</td>\n",
       "      <td>0.0</td>\n",
       "      <td>0.3048</td>\n",
       "      <td>71.3</td>\n",
       "      <td>0.002663</td>\n",
       "      <td>126.201</td>\n",
       "    </tr>\n",
       "    <tr>\n",
       "      <th>1</th>\n",
       "      <td>1000</td>\n",
       "      <td>0.0</td>\n",
       "      <td>0.3048</td>\n",
       "      <td>71.3</td>\n",
       "      <td>0.002663</td>\n",
       "      <td>125.201</td>\n",
       "    </tr>\n",
       "    <tr>\n",
       "      <th>2</th>\n",
       "      <td>1250</td>\n",
       "      <td>0.0</td>\n",
       "      <td>0.3048</td>\n",
       "      <td>71.3</td>\n",
       "      <td>0.002663</td>\n",
       "      <td>125.951</td>\n",
       "    </tr>\n",
       "    <tr>\n",
       "      <th>3</th>\n",
       "      <td>1600</td>\n",
       "      <td>0.0</td>\n",
       "      <td>0.3048</td>\n",
       "      <td>71.3</td>\n",
       "      <td>0.002663</td>\n",
       "      <td>127.591</td>\n",
       "    </tr>\n",
       "    <tr>\n",
       "      <th>4</th>\n",
       "      <td>2000</td>\n",
       "      <td>0.0</td>\n",
       "      <td>0.3048</td>\n",
       "      <td>71.3</td>\n",
       "      <td>0.002663</td>\n",
       "      <td>127.461</td>\n",
       "    </tr>\n",
       "    <tr>\n",
       "      <th>...</th>\n",
       "      <td>...</td>\n",
       "      <td>...</td>\n",
       "      <td>...</td>\n",
       "      <td>...</td>\n",
       "      <td>...</td>\n",
       "      <td>...</td>\n",
       "    </tr>\n",
       "    <tr>\n",
       "      <th>1498</th>\n",
       "      <td>2500</td>\n",
       "      <td>15.6</td>\n",
       "      <td>0.1016</td>\n",
       "      <td>39.6</td>\n",
       "      <td>0.052849</td>\n",
       "      <td>110.264</td>\n",
       "    </tr>\n",
       "    <tr>\n",
       "      <th>1499</th>\n",
       "      <td>3150</td>\n",
       "      <td>15.6</td>\n",
       "      <td>0.1016</td>\n",
       "      <td>39.6</td>\n",
       "      <td>0.052849</td>\n",
       "      <td>109.254</td>\n",
       "    </tr>\n",
       "    <tr>\n",
       "      <th>1500</th>\n",
       "      <td>4000</td>\n",
       "      <td>15.6</td>\n",
       "      <td>0.1016</td>\n",
       "      <td>39.6</td>\n",
       "      <td>0.052849</td>\n",
       "      <td>106.604</td>\n",
       "    </tr>\n",
       "    <tr>\n",
       "      <th>1501</th>\n",
       "      <td>5000</td>\n",
       "      <td>15.6</td>\n",
       "      <td>0.1016</td>\n",
       "      <td>39.6</td>\n",
       "      <td>0.052849</td>\n",
       "      <td>106.224</td>\n",
       "    </tr>\n",
       "    <tr>\n",
       "      <th>1502</th>\n",
       "      <td>6300</td>\n",
       "      <td>15.6</td>\n",
       "      <td>0.1016</td>\n",
       "      <td>39.6</td>\n",
       "      <td>0.052849</td>\n",
       "      <td>104.204</td>\n",
       "    </tr>\n",
       "  </tbody>\n",
       "</table>\n",
       "<p>1503 rows × 6 columns</p>\n",
       "</div>"
      ],
      "text/plain": [
       "         0     1       2     3         4        5\n",
       "0      800   0.0  0.3048  71.3  0.002663  126.201\n",
       "1     1000   0.0  0.3048  71.3  0.002663  125.201\n",
       "2     1250   0.0  0.3048  71.3  0.002663  125.951\n",
       "3     1600   0.0  0.3048  71.3  0.002663  127.591\n",
       "4     2000   0.0  0.3048  71.3  0.002663  127.461\n",
       "...    ...   ...     ...   ...       ...      ...\n",
       "1498  2500  15.6  0.1016  39.6  0.052849  110.264\n",
       "1499  3150  15.6  0.1016  39.6  0.052849  109.254\n",
       "1500  4000  15.6  0.1016  39.6  0.052849  106.604\n",
       "1501  5000  15.6  0.1016  39.6  0.052849  106.224\n",
       "1502  6300  15.6  0.1016  39.6  0.052849  104.204\n",
       "\n",
       "[1503 rows x 6 columns]"
      ]
     },
     "execution_count": 5,
     "metadata": {},
     "output_type": "execute_result"
    }
   ],
   "source": [
    "df = pd.read_csv(\n",
    "    \"https://archive.ics.uci.edu/ml/machine-learning-databases/00291/airfoil_self_noise.dat\",\n",
    "    header=None,\n",
    "    sep=\"\\\\t\",\n",
    ")\n",
    "\n",
    "df"
   ]
  },
  {
   "cell_type": "code",
   "execution_count": 6,
   "id": "013f7d3c",
   "metadata": {},
   "outputs": [
    {
     "name": "stdout",
     "output_type": "stream",
     "text": [
      "Evaluating  MAR\n"
     ]
    },
    {
     "name": "stderr",
     "output_type": "stream",
     "text": [
      "2022-01-12 00:19:24.616916: W tensorflow/stream_executor/platform/default/dso_loader.cc:64] Could not load dynamic library 'libcuda.so.1'; dlerror: libcuda.so.1: cannot open shared object file: No such file or directory\n",
      "2022-01-12 00:19:24.616951: W tensorflow/stream_executor/cuda/cuda_driver.cc:269] failed call to cuInit: UNKNOWN ERROR (303)\n",
      "2022-01-12 00:19:24.616974: I tensorflow/stream_executor/cuda/cuda_diagnostics.cc:156] kernel driver does not appear to be running on this host (bcebere-Latitude-E5570): /proc/driver/nvidia/version does not exist\n",
      "2022-01-12 00:19:24.617205: I tensorflow/core/platform/cpu_feature_guard.cc:151] This TensorFlow binary is optimized with oneAPI Deep Neural Network Library (oneDNN) to use the following CPU instructions in performance-critical operations:  AVX2 FMA\n",
      "To enable them in other operations, rebuild TensorFlow with the appropriate compiler flags.\n"
     ]
    },
    {
     "name": "stdout",
     "output_type": "stream",
     "text": [
      " iteration for airfoil took 471.84167885780334 seconds\n",
      " iteration scores {'miracle': (0.23944381163968922, {}), 'miwae': (0.2792718537174337, {}), 'gain': (0.36395007501845633, {}), 'softimpute': (0.2592579805675715, {}), 'sinkhorn': (0.26285034309085253, {}), 'mean': (0.2609491921826622, {}), 'sklearn_ice': (0.24114893131219062, {}), 'most_frequent': (0.3340366136173224, {}), 'median': (0.3120505455297883, {}), 'EM': (0.239399140360265, {}), 'sklearn_missforest': (0.23517457099603345, {})}\n",
      "Evaluating  MCAR\n",
      " iteration for airfoil took 504.14622807502747 seconds\n",
      " iteration scores {'miracle': (0.24720409089450374, {}), 'miwae': (0.2888107607113494, {}), 'gain': (0.2649810718607523, {'batch_size': 512, 'iterations': 1000, 'hint_rate': 0.8190691638010601, 'loss_alpha': 40}), 'softimpute': (0.3532868445658454, {}), 'sinkhorn': (0.2540941963007164, {'eps': 0.0017541402048089462, 'lr': 0.01, 'niter': 200, 'batchsize': 200, 'noise': 0.0001, 'scaling': 0.8920559600376342}), 'mean': (0.2778840904476426, {}), 'sklearn_ice': (0.2474023636017647, {}), 'most_frequent': (0.41506241738185234, {}), 'median': (0.292238115592306, {}), 'EM': (0.23391830892469684, {}), 'sklearn_missforest': (0.22280984936408862, {})}\n",
      "Evaluating  MNAR\n",
      " iteration for airfoil took 725.9558963775635 seconds\n",
      " iteration scores {'miracle': (0.24682181716803314, {}), 'miwae': (0.2846399809462001, {}), 'gain': (0.2902992810101905, {}), 'softimpute': (0.38637370733914067, {}), 'sinkhorn': (0.2640306581793857, {}), 'mean': (0.27338313737389497, {}), 'sklearn_ice': (0.2521276410183259, {}), 'most_frequent': (0.4186428965289229, {}), 'median': (0.3116242277286034, {}), 'EM': (0.23545612983033795, {}), 'sklearn_missforest': (0.2519411821527443, {})}\n"
     ]
    },
    {
     "data": {
      "text/html": [
       "<table>\n",
       "<thead>\n",
       "<tr><th>Scenario  </th><th>BO selected estimator  </th><th style=\"text-align: right;\">  BO score</th></tr>\n",
       "</thead>\n",
       "<tbody>\n",
       "<tr><td>MAR       </td><td>sklearn_missforest     </td><td style=\"text-align: right;\">  0.235175</td></tr>\n",
       "<tr><td>MCAR      </td><td>sklearn_missforest     </td><td style=\"text-align: right;\">  0.22281 </td></tr>\n",
       "<tr><td>MNAR      </td><td>EM                     </td><td style=\"text-align: right;\">  0.235456</td></tr>\n",
       "</tbody>\n",
       "</table>"
      ],
      "text/plain": [
       "<IPython.core.display.HTML object>"
      ]
     },
     "metadata": {},
     "output_type": "display_data"
    }
   ],
   "source": [
    "frac = subsample / len(df)\n",
    "X = df.sample(frac=frac).values\n",
    "\n",
    "imputation_scenarios = simulate_scenarios(X)\n",
    "\n",
    "\n",
    "results = []\n",
    "candidates = {}\n",
    "for scenario in [\"MAR\", \"MCAR\", \"MNAR\"]:\n",
    "    print(\"Evaluating \", scenario)\n",
    "    x, x_miss, mask = imputation_scenarios[scenario][0.3]\n",
    "\n",
    "    bo_results = benchmark(\"airfoil\", x, x_miss, mask)\n",
    "\n",
    "    best_candidate = \"\"\n",
    "    best_score = 99999\n",
    "    best_params = {}\n",
    "    for plugin in bo_results:\n",
    "        score, params = bo_results[plugin]\n",
    "        if score < best_score:\n",
    "            best_score = score\n",
    "            best_candidate = plugin\n",
    "            best_params = params\n",
    "\n",
    "    results.append([scenario, best_candidate, best_score])\n",
    "    candidates[scenario] = (best_candidate, best_params)\n",
    "results\n",
    "\n",
    "headers = [\"Scenario\", \"BO selected estimator\", \"BO score\"]\n",
    "\n",
    "display(HTML(tabulate.tabulate(results, headers=headers, tablefmt=\"html\")))"
   ]
  },
  {
   "cell_type": "code",
   "execution_count": 7,
   "id": "4077e11e",
   "metadata": {},
   "outputs": [
    {
     "data": {
      "text/html": [
       "<table>\n",
       "<thead>\n",
       "<tr><th>Scenario  </th><th>BO-selected model  </th><th style=\"text-align: right;\">  RMSE on full dataset</th></tr>\n",
       "</thead>\n",
       "<tbody>\n",
       "<tr><td>MAR       </td><td>sklearn_missforest </td><td style=\"text-align: right;\">              0.26868 </td></tr>\n",
       "<tr><td>MCAR      </td><td>sklearn_missforest </td><td style=\"text-align: right;\">              0.232572</td></tr>\n",
       "<tr><td>MNAR      </td><td>EM                 </td><td style=\"text-align: right;\">              0.232368</td></tr>\n",
       "</tbody>\n",
       "</table>"
      ],
      "text/plain": [
       "<IPython.core.display.HTML object>"
      ]
     },
     "metadata": {},
     "output_type": "display_data"
    }
   ],
   "source": [
    "# Full dataset evaluation\n",
    "X = df.values\n",
    "imputation_scenarios = simulate_scenarios(X)\n",
    "\n",
    "results = []\n",
    "for scenario in candidates:\n",
    "    x, x_miss, mask = imputation_scenarios[scenario][0.3]\n",
    "\n",
    "    plugin, plugin_params = candidates[scenario]\n",
    "\n",
    "    model = imputers.get(plugin, **plugin_params)\n",
    "\n",
    "    imputed = model.fit_transform(x_miss.copy())\n",
    "\n",
    "    loss = RMSE(np.asarray(imputed), x, mask)\n",
    "\n",
    "    results.append([scenario, plugin, loss])\n",
    "\n",
    "headers = [\"Scenario\", \"BO-selected model\", \"RMSE on full dataset\"]\n",
    "\n",
    "\n",
    "display(HTML(tabulate.tabulate(results, headers=headers, tablefmt=\"html\")))"
   ]
  },
  {
   "cell_type": "code",
   "execution_count": 8,
   "id": "ecd7c05f",
   "metadata": {},
   "outputs": [
    {
     "data": {
      "text/html": [
       "<table>\n",
       "<thead>\n",
       "<tr><th>Scenario  </th><th style=\"text-align: right;\">    mean</th><th style=\"text-align: right;\">  sklearn_missforest</th><th style=\"text-align: right;\">    gain</th><th style=\"text-align: right;\">      EM</th><th style=\"text-align: right;\">  sklearn_ice</th><th style=\"text-align: right;\">  softimpute</th><th style=\"text-align: right;\">  sinkhorn</th><th style=\"text-align: right;\">  miracle</th><th style=\"text-align: right;\">   miwae</th></tr>\n",
       "</thead>\n",
       "<tbody>\n",
       "<tr><td>MAR       </td><td style=\"text-align: right;\">0.280384</td><td style=\"text-align: right;\">            0.268111</td><td style=\"text-align: right;\">0.269012</td><td style=\"text-align: right;\">0.257384</td><td style=\"text-align: right;\">     0.256336</td><td style=\"text-align: right;\">    0.376559</td><td style=\"text-align: right;\">  0.282096</td><td style=\"text-align: right;\"> 0.259814</td><td style=\"text-align: right;\">0.31023 </td></tr>\n",
       "<tr><td>MCAR      </td><td style=\"text-align: right;\">0.274646</td><td style=\"text-align: right;\">            0.229501</td><td style=\"text-align: right;\">0.291209</td><td style=\"text-align: right;\">0.23171 </td><td style=\"text-align: right;\">     0.242434</td><td style=\"text-align: right;\">    0.341643</td><td style=\"text-align: right;\">  0.250579</td><td style=\"text-align: right;\"> 0.239689</td><td style=\"text-align: right;\">0.2666  </td></tr>\n",
       "<tr><td>MNAR      </td><td style=\"text-align: right;\">0.275186</td><td style=\"text-align: right;\">            0.230792</td><td style=\"text-align: right;\">0.30268 </td><td style=\"text-align: right;\">0.232368</td><td style=\"text-align: right;\">     0.251734</td><td style=\"text-align: right;\">    0.363269</td><td style=\"text-align: right;\">  0.256675</td><td style=\"text-align: right;\"> 0.245357</td><td style=\"text-align: right;\">0.281104</td></tr>\n",
       "</tbody>\n",
       "</table>"
      ],
      "text/plain": [
       "<IPython.core.display.HTML object>"
      ]
     },
     "metadata": {},
     "output_type": "display_data"
    }
   ],
   "source": [
    "# Raw methods evaluation\n",
    "ref_models = [\n",
    "    \"mean\",\n",
    "    \"sklearn_missforest\",\n",
    "    \"gain\",\n",
    "    \"EM\",\n",
    "    \"sklearn_ice\",\n",
    "    \"softimpute\",\n",
    "    \"sinkhorn\",\n",
    "    \"miracle\",\n",
    "    \"miwae\",\n",
    "]\n",
    "results = []\n",
    "for scenario in candidates:\n",
    "    x, x_miss, mask = imputation_scenarios[scenario][0.3]\n",
    "\n",
    "    local_res = [\n",
    "        scenario,\n",
    "    ]\n",
    "    for plugin in ref_models:\n",
    "\n",
    "        model = imputers.get(plugin)\n",
    "\n",
    "        imputed = model.fit_transform(x_miss.copy())\n",
    "\n",
    "        loss = RMSE(np.asarray(imputed), x, mask)\n",
    "\n",
    "        local_res.append(loss)\n",
    "\n",
    "    results.append(local_res)\n",
    "\n",
    "headers = [\"Scenario\"] + ref_models\n",
    "\n",
    "\n",
    "display(HTML(tabulate.tabulate(results, headers=headers, tablefmt=\"html\")))"
   ]
  },
  {
   "cell_type": "code",
   "execution_count": null,
   "id": "79ffd79a",
   "metadata": {},
   "outputs": [],
   "source": []
  },
  {
   "cell_type": "markdown",
   "id": "eeafd502",
   "metadata": {},
   "source": [
    "# Dataset: Blood Transfusion Service Center Data Set\n",
    "\n",
    "\n",
    "https://archive.ics.uci.edu/ml/datasets/Blood+Transfusion+Service+Center"
   ]
  },
  {
   "cell_type": "code",
   "execution_count": 12,
   "id": "46b44219",
   "metadata": {},
   "outputs": [
    {
     "data": {
      "text/html": [
       "<div>\n",
       "<style scoped>\n",
       "    .dataframe tbody tr th:only-of-type {\n",
       "        vertical-align: middle;\n",
       "    }\n",
       "\n",
       "    .dataframe tbody tr th {\n",
       "        vertical-align: top;\n",
       "    }\n",
       "\n",
       "    .dataframe thead th {\n",
       "        text-align: right;\n",
       "    }\n",
       "</style>\n",
       "<table border=\"1\" class=\"dataframe\">\n",
       "  <thead>\n",
       "    <tr style=\"text-align: right;\">\n",
       "      <th></th>\n",
       "      <th>Recency (months)</th>\n",
       "      <th>Frequency (times)</th>\n",
       "      <th>Monetary (c.c. blood)</th>\n",
       "      <th>Time (months)</th>\n",
       "      <th>whether he/she donated blood in March 2007</th>\n",
       "    </tr>\n",
       "  </thead>\n",
       "  <tbody>\n",
       "    <tr>\n",
       "      <th>0</th>\n",
       "      <td>2</td>\n",
       "      <td>50</td>\n",
       "      <td>12500</td>\n",
       "      <td>98</td>\n",
       "      <td>1</td>\n",
       "    </tr>\n",
       "    <tr>\n",
       "      <th>1</th>\n",
       "      <td>0</td>\n",
       "      <td>13</td>\n",
       "      <td>3250</td>\n",
       "      <td>28</td>\n",
       "      <td>1</td>\n",
       "    </tr>\n",
       "    <tr>\n",
       "      <th>2</th>\n",
       "      <td>1</td>\n",
       "      <td>16</td>\n",
       "      <td>4000</td>\n",
       "      <td>35</td>\n",
       "      <td>1</td>\n",
       "    </tr>\n",
       "    <tr>\n",
       "      <th>3</th>\n",
       "      <td>2</td>\n",
       "      <td>20</td>\n",
       "      <td>5000</td>\n",
       "      <td>45</td>\n",
       "      <td>1</td>\n",
       "    </tr>\n",
       "    <tr>\n",
       "      <th>4</th>\n",
       "      <td>1</td>\n",
       "      <td>24</td>\n",
       "      <td>6000</td>\n",
       "      <td>77</td>\n",
       "      <td>0</td>\n",
       "    </tr>\n",
       "    <tr>\n",
       "      <th>...</th>\n",
       "      <td>...</td>\n",
       "      <td>...</td>\n",
       "      <td>...</td>\n",
       "      <td>...</td>\n",
       "      <td>...</td>\n",
       "    </tr>\n",
       "    <tr>\n",
       "      <th>743</th>\n",
       "      <td>23</td>\n",
       "      <td>2</td>\n",
       "      <td>500</td>\n",
       "      <td>38</td>\n",
       "      <td>0</td>\n",
       "    </tr>\n",
       "    <tr>\n",
       "      <th>744</th>\n",
       "      <td>21</td>\n",
       "      <td>2</td>\n",
       "      <td>500</td>\n",
       "      <td>52</td>\n",
       "      <td>0</td>\n",
       "    </tr>\n",
       "    <tr>\n",
       "      <th>745</th>\n",
       "      <td>23</td>\n",
       "      <td>3</td>\n",
       "      <td>750</td>\n",
       "      <td>62</td>\n",
       "      <td>0</td>\n",
       "    </tr>\n",
       "    <tr>\n",
       "      <th>746</th>\n",
       "      <td>39</td>\n",
       "      <td>1</td>\n",
       "      <td>250</td>\n",
       "      <td>39</td>\n",
       "      <td>0</td>\n",
       "    </tr>\n",
       "    <tr>\n",
       "      <th>747</th>\n",
       "      <td>72</td>\n",
       "      <td>1</td>\n",
       "      <td>250</td>\n",
       "      <td>72</td>\n",
       "      <td>0</td>\n",
       "    </tr>\n",
       "  </tbody>\n",
       "</table>\n",
       "<p>748 rows × 5 columns</p>\n",
       "</div>"
      ],
      "text/plain": [
       "     Recency (months)  Frequency (times)  Monetary (c.c. blood)  \\\n",
       "0                   2                 50                  12500   \n",
       "1                   0                 13                   3250   \n",
       "2                   1                 16                   4000   \n",
       "3                   2                 20                   5000   \n",
       "4                   1                 24                   6000   \n",
       "..                ...                ...                    ...   \n",
       "743                23                  2                    500   \n",
       "744                21                  2                    500   \n",
       "745                23                  3                    750   \n",
       "746                39                  1                    250   \n",
       "747                72                  1                    250   \n",
       "\n",
       "     Time (months)  whether he/she donated blood in March 2007  \n",
       "0               98                                           1  \n",
       "1               28                                           1  \n",
       "2               35                                           1  \n",
       "3               45                                           1  \n",
       "4               77                                           0  \n",
       "..             ...                                         ...  \n",
       "743             38                                           0  \n",
       "744             52                                           0  \n",
       "745             62                                           0  \n",
       "746             39                                           0  \n",
       "747             72                                           0  \n",
       "\n",
       "[748 rows x 5 columns]"
      ]
     },
     "execution_count": 12,
     "metadata": {},
     "output_type": "execute_result"
    }
   ],
   "source": [
    "df = pd.read_csv(\n",
    "    \"https://archive.ics.uci.edu/ml/machine-learning-databases/blood-transfusion/transfusion.data\",\n",
    "    sep=\",\",\n",
    ")\n",
    "\n",
    "df"
   ]
  },
  {
   "cell_type": "code",
   "execution_count": 13,
   "id": "0cb6e6f6",
   "metadata": {},
   "outputs": [
    {
     "name": "stdout",
     "output_type": "stream",
     "text": [
      "Evaluating  MAR\n"
     ]
    },
    {
     "name": "stderr",
     "output_type": "stream",
     "text": [
      "[2022-01-12T01:38:45.186554+0200][478308][CRITICAL] EM step failed. Singular matrix\n",
      "[2022-01-12T01:38:45.188958+0200][478308][CRITICAL] EM step failed. Singular matrix\n",
      "[2022-01-12T01:38:45.191439+0200][478308][CRITICAL] EM step failed. Singular matrix\n",
      "[2022-01-12T01:38:45.193838+0200][478308][CRITICAL] EM step failed. Singular matrix\n",
      "[2022-01-12T01:38:45.195979+0200][478308][CRITICAL] EM step failed. Singular matrix\n",
      "[2022-01-12T01:38:45.198809+0200][478308][CRITICAL] EM step failed. Singular matrix\n",
      "[2022-01-12T01:38:45.201628+0200][478308][CRITICAL] EM step failed. Singular matrix\n"
     ]
    },
    {
     "name": "stdout",
     "output_type": "stream",
     "text": [
      " iteration for blood took 556.8235321044922 seconds\n",
      " iteration scores {'miracle': (0.22281374759075392, {}), 'miwae': (0.260319048497951, {}), 'gain': (0.25306086015982776, {'batch_size': 512, 'iterations': 700, 'hint_rate': 0.9036179920917125, 'loss_alpha': 50}), 'softimpute': (0.28522732769840636, {}), 'sinkhorn': (0.270472102754256, {}), 'mean': (0.25886789951389994, {}), 'sklearn_ice': (0.22538548685909174, {}), 'most_frequent': (0.29872522941428054, {}), 'median': (0.2867958365315854, {}), 'EM': (nan, {}), 'sklearn_missforest': (0.23558441853099082, {})}\n",
      "Evaluating  MCAR\n"
     ]
    },
    {
     "name": "stderr",
     "output_type": "stream",
     "text": [
      "[2022-01-12T01:49:45.103848+0200][478308][CRITICAL] EM step failed. Singular matrix\n",
      "[2022-01-12T01:49:52.560761+0200][478308][CRITICAL] EM step failed. Singular matrix\n",
      "[2022-01-12T01:50:00.027763+0200][478308][CRITICAL] EM step failed. Singular matrix\n"
     ]
    },
    {
     "name": "stdout",
     "output_type": "stream",
     "text": [
      " iteration for blood took 762.2715146541595 seconds\n",
      " iteration scores {'miracle': (0.20947002652190388, {}), 'miwae': (0.24198870588467067, {}), 'gain': (0.2477777219454598, {}), 'softimpute': (0.26143704317207644, {}), 'sinkhorn': (0.25451037277872035, {}), 'mean': (0.23659587032628376, {}), 'sklearn_ice': (0.20962083230420084, {}), 'most_frequent': (0.2987056947354749, {}), 'median': (0.2623392887982259, {}), 'EM': (7.8939466025778335, {}), 'sklearn_missforest': (0.21992133090538618, {})}\n",
      "Evaluating  MNAR\n"
     ]
    },
    {
     "name": "stderr",
     "output_type": "stream",
     "text": [
      "[2022-01-12T02:00:34.606225+0200][478308][CRITICAL] EM step failed. Singular matrix\n",
      "[2022-01-12T02:00:34.619227+0200][478308][CRITICAL] EM step failed. Singular matrix\n",
      "[2022-01-12T02:00:34.627477+0200][478308][CRITICAL] EM step failed. Singular matrix\n",
      "[2022-01-12T02:00:34.635127+0200][478308][CRITICAL] EM step failed. Singular matrix\n",
      "[2022-01-12T02:00:34.643377+0200][478308][CRITICAL] EM step failed. Singular matrix\n",
      "[2022-01-12T02:00:34.651916+0200][478308][CRITICAL] EM step failed. Singular matrix\n",
      "[2022-01-12T02:00:34.661754+0200][478308][CRITICAL] EM step failed. Singular matrix\n"
     ]
    },
    {
     "name": "stdout",
     "output_type": "stream",
     "text": [
      " iteration for blood took 625.5450501441956 seconds\n",
      " iteration scores {'miracle': (0.22776309601912056, {}), 'miwae': (0.26717905752654464, {}), 'gain': (0.24690032677525536, {}), 'softimpute': (0.2587294265268598, {}), 'sinkhorn': (0.24746037415093045, {}), 'mean': (0.24077118923176727, {}), 'sklearn_ice': (0.22648552929626112, {}), 'most_frequent': (0.3021178491432924, {}), 'median': (0.2657084502674204, {}), 'EM': (nan, {}), 'sklearn_missforest': (0.22852292523002024, {})}\n"
     ]
    },
    {
     "data": {
      "text/html": [
       "<table>\n",
       "<thead>\n",
       "<tr><th>Scenario  </th><th>BO selected estimator  </th><th style=\"text-align: right;\">  BO score</th></tr>\n",
       "</thead>\n",
       "<tbody>\n",
       "<tr><td>MAR       </td><td>miracle                </td><td style=\"text-align: right;\">  0.222814</td></tr>\n",
       "<tr><td>MCAR      </td><td>miracle                </td><td style=\"text-align: right;\">  0.20947 </td></tr>\n",
       "<tr><td>MNAR      </td><td>sklearn_ice            </td><td style=\"text-align: right;\">  0.226486</td></tr>\n",
       "</tbody>\n",
       "</table>"
      ],
      "text/plain": [
       "<IPython.core.display.HTML object>"
      ]
     },
     "metadata": {},
     "output_type": "display_data"
    }
   ],
   "source": [
    "frac = min(subsample / len(df), 1)\n",
    "X = df.sample(frac=frac).values\n",
    "\n",
    "imputation_scenarios = simulate_scenarios(X)\n",
    "\n",
    "\n",
    "results = []\n",
    "candidates = {}\n",
    "for scenario in [\"MAR\", \"MCAR\", \"MNAR\"]:\n",
    "    print(\"Evaluating \", scenario)\n",
    "    x, x_miss, mask = imputation_scenarios[scenario][0.3]\n",
    "\n",
    "    bo_results = benchmark(\"blood\", x, x_miss, mask)\n",
    "\n",
    "    best_candidate = \"\"\n",
    "    best_score = 99999\n",
    "    best_params = {}\n",
    "    for plugin in bo_results:\n",
    "        score, params = bo_results[plugin]\n",
    "        if score < best_score:\n",
    "            best_score = score\n",
    "            best_candidate = plugin\n",
    "            best_params = params\n",
    "\n",
    "    results.append([scenario, best_candidate, best_score])\n",
    "    candidates[scenario] = (best_candidate, best_params)\n",
    "results\n",
    "\n",
    "headers = [\"Scenario\", \"BO selected estimator\", \"BO score\"]\n",
    "\n",
    "display(HTML(tabulate.tabulate(results, headers=headers, tablefmt=\"html\")))"
   ]
  },
  {
   "cell_type": "code",
   "execution_count": 14,
   "id": "542dcbad",
   "metadata": {},
   "outputs": [
    {
     "data": {
      "text/html": [
       "<table>\n",
       "<thead>\n",
       "<tr><th>Scenario  </th><th>BO-selected model  </th><th style=\"text-align: right;\">  RMSE on full dataset</th></tr>\n",
       "</thead>\n",
       "<tbody>\n",
       "<tr><td>MAR       </td><td>miracle            </td><td style=\"text-align: right;\">              0.239968</td></tr>\n",
       "<tr><td>MCAR      </td><td>miracle            </td><td style=\"text-align: right;\">              0.201536</td></tr>\n",
       "<tr><td>MNAR      </td><td>sklearn_ice        </td><td style=\"text-align: right;\">              0.233664</td></tr>\n",
       "</tbody>\n",
       "</table>"
      ],
      "text/plain": [
       "<IPython.core.display.HTML object>"
      ]
     },
     "metadata": {},
     "output_type": "display_data"
    }
   ],
   "source": [
    "# Full dataset evaluation\n",
    "X = df.values\n",
    "imputation_scenarios = simulate_scenarios(X)\n",
    "\n",
    "results = []\n",
    "for scenario in candidates:\n",
    "    x, x_miss, mask = imputation_scenarios[scenario][0.3]\n",
    "\n",
    "    plugin, plugin_params = candidates[scenario]\n",
    "\n",
    "    model = imputers.get(plugin, **plugin_params)\n",
    "\n",
    "    imputed = model.fit_transform(x_miss.copy())\n",
    "\n",
    "    loss = RMSE(np.asarray(imputed), x, mask)\n",
    "\n",
    "    results.append([scenario, plugin, loss])\n",
    "\n",
    "headers = [\"Scenario\", \"BO-selected model\", \"RMSE on full dataset\"]\n",
    "\n",
    "\n",
    "display(HTML(tabulate.tabulate(results, headers=headers, tablefmt=\"html\")))"
   ]
  },
  {
   "cell_type": "code",
   "execution_count": 15,
   "id": "787836ef",
   "metadata": {},
   "outputs": [
    {
     "name": "stderr",
     "output_type": "stream",
     "text": [
      "[2022-01-12T02:05:43.877128+0200][478308][CRITICAL] EM step failed. Singular matrix\n",
      "[2022-01-12T02:13:28.133058+0200][478308][CRITICAL] EM step failed. Singular matrix\n"
     ]
    },
    {
     "data": {
      "text/html": [
       "<table>\n",
       "<thead>\n",
       "<tr><th>Scenario  </th><th style=\"text-align: right;\">    mean</th><th style=\"text-align: right;\">  sklearn_missforest</th><th style=\"text-align: right;\">    gain</th><th style=\"text-align: right;\">         EM</th><th style=\"text-align: right;\">  sklearn_ice</th><th style=\"text-align: right;\">  softimpute</th><th style=\"text-align: right;\">  sinkhorn</th><th style=\"text-align: right;\">  miracle</th><th style=\"text-align: right;\">   miwae</th></tr>\n",
       "</thead>\n",
       "<tbody>\n",
       "<tr><td>MAR       </td><td style=\"text-align: right;\">0.281461</td><td style=\"text-align: right;\">            0.261399</td><td style=\"text-align: right;\">0.305318</td><td style=\"text-align: right;\">5.06981e+46</td><td style=\"text-align: right;\">     0.254981</td><td style=\"text-align: right;\">    0.293861</td><td style=\"text-align: right;\">  0.305232</td><td style=\"text-align: right;\"> 0.241764</td><td style=\"text-align: right;\">0.465015</td></tr>\n",
       "<tr><td>MCAR      </td><td style=\"text-align: right;\">0.231743</td><td style=\"text-align: right;\">            0.211176</td><td style=\"text-align: right;\">0.236752</td><td style=\"text-align: right;\">0.196185   </td><td style=\"text-align: right;\">     0.19779 </td><td style=\"text-align: right;\">    0.238292</td><td style=\"text-align: right;\">  0.245107</td><td style=\"text-align: right;\"> 0.198667</td><td style=\"text-align: right;\">0.230015</td></tr>\n",
       "<tr><td>MNAR      </td><td style=\"text-align: right;\">0.244997</td><td style=\"text-align: right;\">            0.247402</td><td style=\"text-align: right;\">0.243897</td><td style=\"text-align: right;\">0.223115   </td><td style=\"text-align: right;\">     0.233664</td><td style=\"text-align: right;\">    0.288444</td><td style=\"text-align: right;\">  0.251398</td><td style=\"text-align: right;\"> 0.229792</td><td style=\"text-align: right;\">0.248547</td></tr>\n",
       "</tbody>\n",
       "</table>"
      ],
      "text/plain": [
       "<IPython.core.display.HTML object>"
      ]
     },
     "metadata": {},
     "output_type": "display_data"
    }
   ],
   "source": [
    "# Other methods evaluation\n",
    "\n",
    "ref_models = [\n",
    "    \"mean\",\n",
    "    \"sklearn_missforest\",\n",
    "    \"gain\",\n",
    "    \"EM\",\n",
    "    \"sklearn_ice\",\n",
    "    \"softimpute\",\n",
    "    \"sinkhorn\",\n",
    "    \"miracle\",\n",
    "    \"miwae\",\n",
    "]\n",
    "results = []\n",
    "for scenario in candidates:\n",
    "    x, x_miss, mask = imputation_scenarios[scenario][0.3]\n",
    "\n",
    "    local_res = [\n",
    "        scenario,\n",
    "    ]\n",
    "    for plugin in ref_models:\n",
    "\n",
    "        model = imputers.get(plugin)\n",
    "\n",
    "        imputed = model.fit_transform(x_miss.copy())\n",
    "\n",
    "        loss = RMSE(np.asarray(imputed), x, mask)\n",
    "\n",
    "        local_res.append(loss)\n",
    "\n",
    "    results.append(local_res)\n",
    "\n",
    "headers = [\"Scenario\"] + ref_models\n",
    "\n",
    "\n",
    "display(HTML(tabulate.tabulate(results, headers=headers, tablefmt=\"html\")))"
   ]
  },
  {
   "cell_type": "code",
   "execution_count": null,
   "id": "4ebb0e4c",
   "metadata": {},
   "outputs": [],
   "source": []
  },
  {
   "cell_type": "code",
   "execution_count": null,
   "id": "29ff1544",
   "metadata": {},
   "outputs": [],
   "source": []
  },
  {
   "cell_type": "code",
   "execution_count": null,
   "id": "855e65be",
   "metadata": {},
   "outputs": [],
   "source": []
  }
 ],
 "metadata": {
  "kernelspec": {
   "display_name": "py38",
   "language": "python",
   "name": "py38"
  },
  "language_info": {
   "codemirror_mode": {
    "name": "ipython",
    "version": 3
   },
   "file_extension": ".py",
   "mimetype": "text/x-python",
   "name": "python",
   "nbconvert_exporter": "python",
   "pygments_lexer": "ipython3",
   "version": "3.8.12"
  }
 },
 "nbformat": 4,
 "nbformat_minor": 5
}
