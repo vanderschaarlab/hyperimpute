{
 "cells": [
  {
   "cell_type": "code",
   "execution_count": 1,
   "id": "2b69b924",
   "metadata": {},
   "outputs": [],
   "source": [
    "import copy\n",
    "import os\n",
    "import time\n",
    "import random\n",
    "import sys\n",
    "import warnings\n",
    "\n",
    "import numpy as np\n",
    "import pandas as pd\n",
    "from typing import Any\n",
    "\n",
    "\n",
    "from hyperimpute.plugins.imputers import Imputers\n",
    "from hyperimpute.utils.distributions import enable_reproducible_results\n",
    "import hyperimpute.logger as log\n",
    "\n",
    "from benchmark_imputation import evaluate_dataset_repeated_internal\n",
    "\n",
    "from IPython.display import HTML, display\n",
    "import tabulate\n",
    "\n",
    "warnings.filterwarnings('ignore')\n",
    "enable_reproducible_results()\n",
    "\n",
    "imputers = Imputers()\n",
    "log.add(sink=sys.stderr, level=\"INFO\")"
   ]
  },
  {
   "cell_type": "code",
   "execution_count": 2,
   "id": "fa238824",
   "metadata": {},
   "outputs": [],
   "source": [
    "def get_imputer():\n",
    "    return imputers.get(\"hyperimpute\", \n",
    "        optimizer = \"simple\"\n",
    "    )\n",
    "\n",
    "def evaluate_dataset_repeated(\n",
    "    name,\n",
    "    X_raw,\n",
    "    y,\n",
    "    ref_methods=[\"mean\", \"sklearn_missforest\", \"sklearn_ice\", \"gain\", \"sinkhorn\", \"softimpute\"],\n",
    "    scenarios=[\"MNAR\", \"MCAR\", \"MAR\"],\n",
    "    miss_pct=[0.1, 0.3, 0.5, 0.7],\n",
    "    n_iter=2,\n",
    "    debug=False,\n",
    "):\n",
    "    return evaluate_dataset_repeated_internal(\n",
    "        name = name,\n",
    "        evaluated_model = get_imputer(),\n",
    "        X_raw = X_raw,\n",
    "        y = y,\n",
    "        ref_methods=ref_methods,\n",
    "        scenarios=scenarios,\n",
    "        miss_pct=miss_pct,\n",
    "        n_iter=n_iter,\n",
    "        debug=debug,\n",
    "    )\n"
   ]
  },
  {
   "cell_type": "code",
   "execution_count": null,
   "id": "c860d806",
   "metadata": {},
   "outputs": [],
   "source": []
  },
  {
   "cell_type": "markdown",
   "id": "a13f18f0",
   "metadata": {},
   "source": [
    "## Sanity check in  debug mode"
   ]
  },
  {
   "cell_type": "code",
   "execution_count": 3,
   "id": "9008e15c",
   "metadata": {
    "scrolled": false
   },
   "outputs": [
    {
     "name": "stdout",
     "output_type": "stream",
     "text": [
      "> evaluation trial  0\n",
      "  > eval  MNAR 0.3\n"
     ]
    },
    {
     "name": "stderr",
     "output_type": "stream",
     "text": [
      "[2022-01-10T11:55:08.501278+0200][31115][INFO]   > BO iter 0\n",
      "[2022-01-10T11:55:09.045764+0200][31115][INFO]      >>> Column 0 <-- score -0.02205200381533318 <-- Model random_forest_regressor\n",
      "[2022-01-10T11:55:09.474049+0200][31115][INFO]      >>> Column 1 <-- score -0.024103476543516647 <-- Model catboost_regressor\n",
      "[2022-01-10T11:55:11.165393+0200][31115][INFO]      >>> Column 2 <-- score 0.9467684 <-- Model catboost\n",
      "[2022-01-10T11:55:12.367450+0200][31115][INFO]      >>> Column 3 <-- score 0.81683 <-- Model catboost\n",
      "[2022-01-10T11:55:12.758875+0200][31115][INFO]      >>> Column 4 <-- score -0.01805905811542978 <-- Model catboost_regressor\n",
      "[2022-01-10T11:55:55.692778+0200][31115][INFO]   > BO iter 1\n",
      "[2022-01-10T11:55:57.080857+0200][31115][INFO]      >>> Column 3 <-- score 0.9173439999999999 <-- Model catboost\n",
      "[2022-01-10T11:55:57.506701+0200][31115][INFO]      >>> Column 4 <-- score -0.00014304528998656266 <-- Model xgboost_regressor\n",
      "[2022-01-10T11:55:59.039961+0200][31115][INFO]      >>> Column 2 <-- score 0.9972292 <-- Model catboost\n",
      "[2022-01-10T11:55:59.564823+0200][31115][INFO]      >>> Column 1 <-- score -0.00031823392876989916 <-- Model xgboost_regressor\n",
      "[2022-01-10T11:56:00.071724+0200][31115][INFO]      >>> Column 0 <-- score -0.02205200381533318 <-- Model random_forest_regressor\n",
      "[2022-01-10T11:56:32.110060+0200][31115][INFO]   > BO iter 2\n",
      "[2022-01-10T11:56:32.965887+0200][31115][INFO]      >>> Column 3 <-- score 0.9529906666666667 <-- Model catboost\n",
      "[2022-01-10T11:56:33.473906+0200][31115][INFO]      >>> Column 0 <-- score -0.02205200381533318 <-- Model random_forest_regressor\n",
      "[2022-01-10T11:56:34.478388+0200][31115][INFO]      >>> Column 2 <-- score 0.9987844 <-- Model catboost\n",
      "[2022-01-10T11:56:34.967994+0200][31115][INFO]      >>> Column 1 <-- score -6.659793319328611e-05 <-- Model xgboost_regressor\n",
      "[2022-01-10T11:56:35.382230+0200][31115][INFO]      >>> Column 4 <-- score -8.165827164626834e-05 <-- Model xgboost_regressor\n",
      "[2022-01-10T11:57:10.110530+0200][31115][INFO]   > BO iter 3\n",
      "[2022-01-10T11:57:10.614240+0200][31115][INFO]      >>> Column 4 <-- score -5.000001082870791e-05 <-- Model xgboost_regressor\n",
      "[2022-01-10T11:57:11.222462+0200][31115][INFO]      >>> Column 0 <-- score -0.021353566316734764 <-- Model random_forest_regressor\n",
      "[2022-01-10T11:57:11.780765+0200][31115][INFO]      >>> Column 1 <-- score -6.659793319328611e-05 <-- Model xgboost_regressor\n",
      "[2022-01-10T11:57:14.214641+0200][31115][INFO]      >>> Column 2 <-- score 0.9996128 <-- Model catboost\n",
      "[2022-01-10T11:57:15.137081+0200][31115][INFO]      >>> Column 3 <-- score 0.9529906666666667 <-- Model catboost\n",
      "[2022-01-10T11:57:53.009001+0200][31115][INFO]   > BO iter 4\n",
      "[2022-01-10T11:57:53.551660+0200][31115][INFO]      >>> Column 1 <-- score -6.659793319328611e-05 <-- Model xgboost_regressor\n",
      "[2022-01-10T11:57:54.120402+0200][31115][INFO]      >>> Column 4 <-- score -1.6871951832748692e-05 <-- Model xgboost_regressor\n",
      "[2022-01-10T11:57:54.985265+0200][31115][INFO]      >>> Column 3 <-- score 0.972496 <-- Model catboost\n",
      "[2022-01-10T11:57:55.523965+0200][31115][INFO]      >>> Column 0 <-- score -0.021353566316734764 <-- Model random_forest_regressor\n",
      "[2022-01-10T11:57:56.887582+0200][31115][INFO]      >>> Column 2 <-- score 0.9996128 <-- Model catboost\n",
      "[2022-01-10T11:58:33.394995+0200][31115][INFO]   > BO iter 0\n"
     ]
    },
    {
     "name": "stdout",
     "output_type": "stream",
     "text": [
      "  > eval  MNAR 0.5\n"
     ]
    },
    {
     "name": "stderr",
     "output_type": "stream",
     "text": [
      "[2022-01-10T11:58:33.839548+0200][31115][INFO]      >>> Column 0 <-- score -0.028120643458368982 <-- Model random_forest_regressor\n",
      "[2022-01-10T11:58:34.267790+0200][31115][INFO]      >>> Column 1 <-- score -0.029424511091093154 <-- Model catboost_regressor\n",
      "[2022-01-10T11:58:35.060886+0200][31115][INFO]      >>> Column 2 <-- score 0.8449091601065641 <-- Model catboost\n",
      "[2022-01-10T11:58:35.719576+0200][31115][INFO]      >>> Column 3 <-- score 0.633037342816909 <-- Model xgboost\n",
      "[2022-01-10T11:58:36.091867+0200][31115][INFO]      >>> Column 4 <-- score -0.029780313809634813 <-- Model catboost_regressor\n",
      "[2022-01-10T11:59:11.066358+0200][31115][INFO]   > BO iter 1\n",
      "[2022-01-10T11:59:12.011021+0200][31115][INFO]      >>> Column 2 <-- score 0.9954343021586576 <-- Model catboost\n",
      "[2022-01-10T11:59:12.479834+0200][31115][INFO]      >>> Column 1 <-- score -0.0007007482960861136 <-- Model xgboost_regressor\n",
      "[2022-01-10T11:59:13.255994+0200][31115][INFO]      >>> Column 3 <-- score 0.8357438246627417 <-- Model catboost\n",
      "[2022-01-10T11:59:13.694374+0200][31115][INFO]      >>> Column 4 <-- score -0.000791495748209209 <-- Model catboost_regressor\n",
      "[2022-01-10T11:59:14.192608+0200][31115][INFO]      >>> Column 0 <-- score -0.022848507438768668 <-- Model catboost_regressor\n",
      "[2022-01-10T11:59:50.180836+0200][31115][INFO]   > BO iter 2\n",
      "[2022-01-10T11:59:51.144227+0200][31115][INFO]      >>> Column 2 <-- score 0.9964698969746744 <-- Model catboost\n",
      "[2022-01-10T11:59:51.567734+0200][31115][INFO]      >>> Column 4 <-- score -0.000329778496465802 <-- Model xgboost_regressor\n",
      "[2022-01-10T11:59:52.075329+0200][31115][INFO]      >>> Column 1 <-- score -0.0006811141439719887 <-- Model xgboost_regressor\n",
      "[2022-01-10T11:59:52.857205+0200][31115][INFO]      >>> Column 3 <-- score 0.8423714384000673 <-- Model catboost\n",
      "[2022-01-10T11:59:53.333174+0200][31115][INFO]      >>> Column 0 <-- score -0.020503693731850653 <-- Model catboost_regressor\n",
      "[2022-01-10T12:00:25.247769+0200][31115][INFO]   > BO iter 3\n",
      "[2022-01-10T12:00:25.735705+0200][31115][INFO]      >>> Column 1 <-- score -0.0003339205297340534 <-- Model xgboost_regressor\n",
      "[2022-01-10T12:00:26.168186+0200][31115][INFO]      >>> Column 4 <-- score -0.0001612124506081698 <-- Model xgboost_regressor\n",
      "[2022-01-10T12:00:27.094005+0200][31115][INFO]      >>> Column 2 <-- score 0.9980743678598375 <-- Model catboost\n",
      "[2022-01-10T12:00:27.865953+0200][31115][INFO]      >>> Column 3 <-- score 0.8900739233839934 <-- Model catboost\n",
      "[2022-01-10T12:00:28.368553+0200][31115][INFO]      >>> Column 0 <-- score -0.020503693731850653 <-- Model catboost_regressor\n",
      "[2022-01-10T12:01:00.361859+0200][31115][INFO]   > BO iter 4\n",
      "[2022-01-10T12:01:01.168141+0200][31115][INFO]      >>> Column 3 <-- score 0.8900739233839934 <-- Model catboost\n",
      "[2022-01-10T12:01:01.662085+0200][31115][INFO]      >>> Column 1 <-- score -0.0003339205297340534 <-- Model xgboost_regressor\n",
      "[2022-01-10T12:01:02.578676+0200][31115][INFO]      >>> Column 2 <-- score 0.9980743678598375 <-- Model catboost\n",
      "[2022-01-10T12:01:03.013187+0200][31115][INFO]      >>> Column 4 <-- score -0.0001493307569479164 <-- Model xgboost_regressor\n",
      "[2022-01-10T12:01:03.504247+0200][31115][INFO]      >>> Column 0 <-- score -0.020503693731850653 <-- Model catboost_regressor\n"
     ]
    },
    {
     "name": "stdout",
     "output_type": "stream",
     "text": [
      "RMSE score\n"
     ]
    },
    {
     "data": {
      "text/html": [
       "<table>\n",
       "<thead>\n",
       "<tr><th>Scenario  </th><th style=\"text-align: right;\">  miss_pct [0, 1]</th><th style=\"text-align: right;\">  Our method</th><th style=\"text-align: right;\">    mean</th></tr>\n",
       "</thead>\n",
       "<tbody>\n",
       "<tr><td>MNAR      </td><td style=\"text-align: right;\">              0.3</td><td style=\"text-align: right;\">    0.215636</td><td style=\"text-align: right;\">0.291261</td></tr>\n",
       "<tr><td>MNAR      </td><td style=\"text-align: right;\">              0.5</td><td style=\"text-align: right;\">    0.28744 </td><td style=\"text-align: right;\">0.293272</td></tr>\n",
       "</tbody>\n",
       "</table>"
      ],
      "text/plain": [
       "<IPython.core.display.HTML object>"
      ]
     },
     "metadata": {},
     "output_type": "display_data"
    },
    {
     "name": "stdout",
     "output_type": "stream",
     "text": [
      "\n",
      "==========================================================\n",
      "\n",
      "Wasserstein score\n"
     ]
    },
    {
     "data": {
      "text/html": [
       "<table>\n",
       "<thead>\n",
       "<tr><th>Scenario  </th><th style=\"text-align: right;\">  miss_pct [0, 1]</th><th style=\"text-align: right;\">  Our method</th><th style=\"text-align: right;\">    mean</th></tr>\n",
       "</thead>\n",
       "<tbody>\n",
       "<tr><td>MNAR      </td><td style=\"text-align: right;\">              0.3</td><td style=\"text-align: right;\">   0.049091 </td><td style=\"text-align: right;\">0.368713</td></tr>\n",
       "<tr><td>MNAR      </td><td style=\"text-align: right;\">              0.5</td><td style=\"text-align: right;\">   0.0767515</td><td style=\"text-align: right;\">0.581678</td></tr>\n",
       "</tbody>\n",
       "</table>"
      ],
      "text/plain": [
       "<IPython.core.display.HTML object>"
      ]
     },
     "metadata": {},
     "output_type": "display_data"
    },
    {
     "name": "stdout",
     "output_type": "stream",
     "text": [
      "\n",
      "==========================================================\n",
      "\n",
      "Downstream model prediction error\n"
     ]
    },
    {
     "data": {
      "text/html": [
       "<table>\n",
       "<thead>\n",
       "<tr><th>Scenario  </th><th style=\"text-align: right;\">  miss_pct [0, 1]</th><th style=\"text-align: right;\">  Our method</th><th style=\"text-align: right;\">    mean</th></tr>\n",
       "</thead>\n",
       "<tbody>\n",
       "<tr><td>MNAR      </td><td style=\"text-align: right;\">              0.3</td><td style=\"text-align: right;\">     5.68334</td><td style=\"text-align: right;\"> 6.11345</td></tr>\n",
       "<tr><td>MNAR      </td><td style=\"text-align: right;\">              0.5</td><td style=\"text-align: right;\">    15.4386 </td><td style=\"text-align: right;\">17.8344 </td></tr>\n",
       "</tbody>\n",
       "</table>"
      ],
      "text/plain": [
       "<IPython.core.display.HTML object>"
      ]
     },
     "metadata": {},
     "output_type": "display_data"
    }
   ],
   "source": [
    "df = pd.read_csv('https://archive.ics.uci.edu/ml/machine-learning-databases/00291/airfoil_self_noise.dat', header = None, sep =\"\\\\t\")\n",
    "\n",
    "y = df[5]\n",
    "X_raw = df.drop(columns = [5])\n",
    "\n",
    "evaluate_dataset_repeated(\"airfoil\", X_raw, y,        \n",
    "            scenarios =  [\"MNAR\"],      \n",
    "            ref_methods=[\"mean\"],\n",
    "            debug = True,\n",
    "            n_iter = 1,\n",
    "            miss_pct = [0.3, 0.5]\n",
    ")"
   ]
  },
  {
   "cell_type": "markdown",
   "id": "f47cf927",
   "metadata": {},
   "source": [
    "# Datasets"
   ]
  },
  {
   "cell_type": "code",
   "execution_count": 4,
   "id": "b7b57094",
   "metadata": {},
   "outputs": [],
   "source": [
    "import hyperimpute.logger as log\n",
    "\n",
    "log.remove()"
   ]
  },
  {
   "cell_type": "markdown",
   "id": "5d154c51",
   "metadata": {},
   "source": [
    "|           Dataset          |  Size |\n",
    "|:--------------------------:|:-----:|\n",
    "|     airfoil self noise     |  1503 |\n",
    "|     blood transfusion      |  748  |\n",
    "|  breast cancer diagnostic  |  569  |\n",
    "|         california         | 20640 |\n",
    "|   climate model crashes    |  540  |\n",
    "|    concrete compression    |  1030 |\n",
    "|       concrete slump       |  103  |\n",
    "| connectionist bench sonar  |  208  |\n",
    "|  connectionist bench vowel |  990  |\n",
    "|            iris            |  150  |\n",
    "|      wine quality red      |  1599 |\n",
    "|     wine quality white     |  4899 |\n",
    "|            yeast           |  1484 |"
   ]
  },
  {
   "cell_type": "markdown",
   "id": "9e804b73",
   "metadata": {},
   "source": [
    "## Dataset: UCI Airfoil Self-Noise Data Set\n",
    "\n",
    "https://archive.ics.uci.edu/ml/datasets/airfoil+self-noise\n"
   ]
  },
  {
   "cell_type": "code",
   "execution_count": 5,
   "id": "1b74580a",
   "metadata": {},
   "outputs": [
    {
     "data": {
      "text/html": [
       "<div>\n",
       "<style scoped>\n",
       "    .dataframe tbody tr th:only-of-type {\n",
       "        vertical-align: middle;\n",
       "    }\n",
       "\n",
       "    .dataframe tbody tr th {\n",
       "        vertical-align: top;\n",
       "    }\n",
       "\n",
       "    .dataframe thead th {\n",
       "        text-align: right;\n",
       "    }\n",
       "</style>\n",
       "<table border=\"1\" class=\"dataframe\">\n",
       "  <thead>\n",
       "    <tr style=\"text-align: right;\">\n",
       "      <th></th>\n",
       "      <th>0</th>\n",
       "      <th>1</th>\n",
       "      <th>2</th>\n",
       "      <th>3</th>\n",
       "      <th>4</th>\n",
       "      <th>5</th>\n",
       "    </tr>\n",
       "  </thead>\n",
       "  <tbody>\n",
       "    <tr>\n",
       "      <th>0</th>\n",
       "      <td>800</td>\n",
       "      <td>0.0</td>\n",
       "      <td>0.3048</td>\n",
       "      <td>71.3</td>\n",
       "      <td>0.002663</td>\n",
       "      <td>126.201</td>\n",
       "    </tr>\n",
       "    <tr>\n",
       "      <th>1</th>\n",
       "      <td>1000</td>\n",
       "      <td>0.0</td>\n",
       "      <td>0.3048</td>\n",
       "      <td>71.3</td>\n",
       "      <td>0.002663</td>\n",
       "      <td>125.201</td>\n",
       "    </tr>\n",
       "    <tr>\n",
       "      <th>2</th>\n",
       "      <td>1250</td>\n",
       "      <td>0.0</td>\n",
       "      <td>0.3048</td>\n",
       "      <td>71.3</td>\n",
       "      <td>0.002663</td>\n",
       "      <td>125.951</td>\n",
       "    </tr>\n",
       "    <tr>\n",
       "      <th>3</th>\n",
       "      <td>1600</td>\n",
       "      <td>0.0</td>\n",
       "      <td>0.3048</td>\n",
       "      <td>71.3</td>\n",
       "      <td>0.002663</td>\n",
       "      <td>127.591</td>\n",
       "    </tr>\n",
       "    <tr>\n",
       "      <th>4</th>\n",
       "      <td>2000</td>\n",
       "      <td>0.0</td>\n",
       "      <td>0.3048</td>\n",
       "      <td>71.3</td>\n",
       "      <td>0.002663</td>\n",
       "      <td>127.461</td>\n",
       "    </tr>\n",
       "    <tr>\n",
       "      <th>...</th>\n",
       "      <td>...</td>\n",
       "      <td>...</td>\n",
       "      <td>...</td>\n",
       "      <td>...</td>\n",
       "      <td>...</td>\n",
       "      <td>...</td>\n",
       "    </tr>\n",
       "    <tr>\n",
       "      <th>1498</th>\n",
       "      <td>2500</td>\n",
       "      <td>15.6</td>\n",
       "      <td>0.1016</td>\n",
       "      <td>39.6</td>\n",
       "      <td>0.052849</td>\n",
       "      <td>110.264</td>\n",
       "    </tr>\n",
       "    <tr>\n",
       "      <th>1499</th>\n",
       "      <td>3150</td>\n",
       "      <td>15.6</td>\n",
       "      <td>0.1016</td>\n",
       "      <td>39.6</td>\n",
       "      <td>0.052849</td>\n",
       "      <td>109.254</td>\n",
       "    </tr>\n",
       "    <tr>\n",
       "      <th>1500</th>\n",
       "      <td>4000</td>\n",
       "      <td>15.6</td>\n",
       "      <td>0.1016</td>\n",
       "      <td>39.6</td>\n",
       "      <td>0.052849</td>\n",
       "      <td>106.604</td>\n",
       "    </tr>\n",
       "    <tr>\n",
       "      <th>1501</th>\n",
       "      <td>5000</td>\n",
       "      <td>15.6</td>\n",
       "      <td>0.1016</td>\n",
       "      <td>39.6</td>\n",
       "      <td>0.052849</td>\n",
       "      <td>106.224</td>\n",
       "    </tr>\n",
       "    <tr>\n",
       "      <th>1502</th>\n",
       "      <td>6300</td>\n",
       "      <td>15.6</td>\n",
       "      <td>0.1016</td>\n",
       "      <td>39.6</td>\n",
       "      <td>0.052849</td>\n",
       "      <td>104.204</td>\n",
       "    </tr>\n",
       "  </tbody>\n",
       "</table>\n",
       "<p>1503 rows × 6 columns</p>\n",
       "</div>"
      ],
      "text/plain": [
       "         0     1       2     3         4        5\n",
       "0      800   0.0  0.3048  71.3  0.002663  126.201\n",
       "1     1000   0.0  0.3048  71.3  0.002663  125.201\n",
       "2     1250   0.0  0.3048  71.3  0.002663  125.951\n",
       "3     1600   0.0  0.3048  71.3  0.002663  127.591\n",
       "4     2000   0.0  0.3048  71.3  0.002663  127.461\n",
       "...    ...   ...     ...   ...       ...      ...\n",
       "1498  2500  15.6  0.1016  39.6  0.052849  110.264\n",
       "1499  3150  15.6  0.1016  39.6  0.052849  109.254\n",
       "1500  4000  15.6  0.1016  39.6  0.052849  106.604\n",
       "1501  5000  15.6  0.1016  39.6  0.052849  106.224\n",
       "1502  6300  15.6  0.1016  39.6  0.052849  104.204\n",
       "\n",
       "[1503 rows x 6 columns]"
      ]
     },
     "execution_count": 5,
     "metadata": {},
     "output_type": "execute_result"
    }
   ],
   "source": [
    "df = pd.read_csv('https://archive.ics.uci.edu/ml/machine-learning-databases/00291/airfoil_self_noise.dat', header = None, sep =\"\\\\t\")\n",
    "\n",
    "df"
   ]
  },
  {
   "cell_type": "code",
   "execution_count": null,
   "id": "1ce05b6e",
   "metadata": {
    "scrolled": false
   },
   "outputs": [
    {
     "name": "stdout",
     "output_type": "stream",
     "text": [
      "scenario failed \n"
     ]
    }
   ],
   "source": [
    "last_col = df.columns[-1]\n",
    "y = df[last_col]\n",
    "X_raw = df.drop(columns = [last_col])\n",
    "\n",
    "evaluate_dataset_repeated(\"airfoil\", X_raw, y)"
   ]
  },
  {
   "cell_type": "markdown",
   "id": "31ddf41b",
   "metadata": {},
   "source": [
    "## Dataset: UCI Blood Transfusion Service Center Data Set\n",
    "\n",
    "https://archive.ics.uci.edu/ml/machine-learning-databases/blood-transfusion/transfusion.data"
   ]
  },
  {
   "cell_type": "code",
   "execution_count": null,
   "id": "ad01a14b",
   "metadata": {},
   "outputs": [],
   "source": [
    "df = pd.read_csv('https://archive.ics.uci.edu/ml/machine-learning-databases/blood-transfusion/transfusion.data')\n",
    "\n",
    "df"
   ]
  },
  {
   "cell_type": "code",
   "execution_count": null,
   "id": "1e8fc567",
   "metadata": {},
   "outputs": [],
   "source": [
    "last_col = df.columns[-1]\n",
    "y = df[last_col]\n",
    "X_raw = df.drop(columns = [last_col])\n",
    "\n",
    "evaluate_dataset_repeated(\"blood\", X_raw, y)"
   ]
  },
  {
   "cell_type": "markdown",
   "id": "e948afbe",
   "metadata": {},
   "source": [
    "## Dataset: Breast Cancer Wisconsin (Diagnostic)\n",
    "\n",
    "https://archive.ics.uci.edu/ml/datasets/Breast+Cancer+Wisconsin+(Diagnostic)"
   ]
  },
  {
   "cell_type": "code",
   "execution_count": null,
   "id": "408ef088",
   "metadata": {},
   "outputs": [],
   "source": [
    "from sklearn.datasets import load_breast_cancer\n",
    "\n",
    "X_raw, y = load_breast_cancer(as_frame = True, return_X_y = True)\n",
    "\n",
    "X_raw"
   ]
  },
  {
   "cell_type": "code",
   "execution_count": null,
   "id": "acfc039f",
   "metadata": {},
   "outputs": [],
   "source": [
    "evaluate_dataset_repeated(\"bc\", X_raw, y)"
   ]
  },
  {
   "cell_type": "markdown",
   "id": "2437d3ed",
   "metadata": {},
   "source": [
    "## Dataset: California Housing\n",
    "\n"
   ]
  },
  {
   "cell_type": "code",
   "execution_count": null,
   "id": "0801cf47",
   "metadata": {},
   "outputs": [],
   "source": [
    "from sklearn.datasets import fetch_california_housing\n",
    "\n",
    "X_raw, y = fetch_california_housing(as_frame = True, return_X_y = True)\n",
    "\n",
    "X_raw"
   ]
  },
  {
   "cell_type": "code",
   "execution_count": null,
   "id": "735ef3b5",
   "metadata": {},
   "outputs": [],
   "source": [
    "evaluate_dataset_repeated(\"california\", X_raw, y)"
   ]
  },
  {
   "cell_type": "markdown",
   "id": "78aa5248",
   "metadata": {},
   "source": [
    "# Dataset: Climate Model Simulation Crashes\n",
    "https://archive.ics.uci.edu/ml/datasets/climate+model+simulation+crashes"
   ]
  },
  {
   "cell_type": "code",
   "execution_count": null,
   "id": "f694a827",
   "metadata": {},
   "outputs": [],
   "source": [
    "samples = np.loadtxt(\"https://archive.ics.uci.edu/ml/machine-learning-databases/00252/pop_failures.dat\", skiprows=1)\n",
    "df = pd.DataFrame(samples)\n",
    "\n",
    "df"
   ]
  },
  {
   "cell_type": "code",
   "execution_count": null,
   "id": "965aece2",
   "metadata": {},
   "outputs": [],
   "source": [
    "last_col = df.columns[-1]\n",
    "y = df[last_col]\n",
    "X_raw = df.drop(columns = [last_col])\n",
    "\n",
    "evaluate_dataset_repeated(\"climate_model\", X_raw, y)"
   ]
  },
  {
   "cell_type": "markdown",
   "id": "3748baa7",
   "metadata": {},
   "source": [
    "## Concrete Compressive Strength Data Set\n",
    "https://archive.ics.uci.edu/ml/datasets/concrete+compressive+strength"
   ]
  },
  {
   "cell_type": "code",
   "execution_count": null,
   "id": "04ca75d1",
   "metadata": {},
   "outputs": [],
   "source": [
    "df = pd.read_excel(\"https://archive.ics.uci.edu/ml/machine-learning-databases/concrete/compressive/Concrete_Data.xls\")\n",
    "\n",
    "df"
   ]
  },
  {
   "cell_type": "code",
   "execution_count": null,
   "id": "05a6d950",
   "metadata": {},
   "outputs": [],
   "source": [
    "last_col = df.columns[-1]\n",
    "y = df[last_col]\n",
    "X_raw = df.drop(columns = [last_col])\n",
    "\n",
    "evaluate_dataset_repeated(\"concrete_compressive\", X_raw, y)"
   ]
  },
  {
   "cell_type": "markdown",
   "id": "ecc7544a",
   "metadata": {},
   "source": [
    "## Concrete Slump Test Data Set\n",
    "\n",
    "https://archive.ics.uci.edu/ml/datasets/concrete+slump+test"
   ]
  },
  {
   "cell_type": "code",
   "execution_count": null,
   "id": "d28615af",
   "metadata": {},
   "outputs": [],
   "source": [
    "df = pd.read_csv(\"https://archive.ics.uci.edu/ml/machine-learning-databases/concrete/slump/slump_test.data\")\n",
    "\n",
    "df"
   ]
  },
  {
   "cell_type": "code",
   "execution_count": null,
   "id": "00c68857",
   "metadata": {},
   "outputs": [],
   "source": [
    "last_col = df.columns[-1]\n",
    "y = df[last_col]\n",
    "X_raw = df.drop(columns = [\"No\", last_col])\n",
    "\n",
    "evaluate_dataset_repeated(\"concret_slump\", X_raw, y)"
   ]
  },
  {
   "cell_type": "markdown",
   "id": "50c7f050",
   "metadata": {},
   "source": [
    "## Connectionist Bench (Sonar, Mines vs. Rocks) Data Set\n",
    "\n",
    "https://archive.ics.uci.edu/ml/datasets/connectionist+bench+(sonar,+mines+vs.+rocks)"
   ]
  },
  {
   "cell_type": "code",
   "execution_count": null,
   "id": "26c621df",
   "metadata": {},
   "outputs": [],
   "source": [
    "df = pd.read_csv(\"https://archive.ics.uci.edu/ml/machine-learning-databases/undocumented/connectionist-bench/sonar/sonar.all-data\", header = None)\n",
    "\n",
    "df"
   ]
  },
  {
   "cell_type": "code",
   "execution_count": null,
   "id": "eddd9c63",
   "metadata": {},
   "outputs": [],
   "source": [
    "last_col = df.columns[-1]\n",
    "y = (df[last_col] == 'M').astype(int)\n",
    "X_raw = df.drop(columns = [last_col])\n",
    "\n",
    "evaluate_dataset_repeated(\"connectionist_sonar\", X_raw, y)"
   ]
  },
  {
   "cell_type": "markdown",
   "id": "45ee79c8",
   "metadata": {},
   "source": [
    "## Wine-Red dataset"
   ]
  },
  {
   "cell_type": "code",
   "execution_count": null,
   "id": "2f08eb92",
   "metadata": {},
   "outputs": [],
   "source": [
    "# Wine Quality Data Set\n",
    "\n",
    "df = pd.read_csv(\"https://archive.ics.uci.edu/ml/machine-learning-databases/wine-quality/winequality-red.csv\", sep = ';')\n",
    "\n",
    "df"
   ]
  },
  {
   "cell_type": "code",
   "execution_count": null,
   "id": "7a654176",
   "metadata": {},
   "outputs": [],
   "source": [
    "last_col = df.columns[-1]\n",
    "\n",
    "y = df[last_col]\n",
    "mapped_labels = sorted(y.unique())\n",
    "mapping = {}\n",
    "for idx, label in enumerate(mapped_labels):\n",
    "    mapping[label] = idx\n",
    "y = y.map(mapping)       \n",
    "\n",
    "X_raw = df.drop(columns = [last_col])\n",
    "\n",
    "evaluate_dataset_repeated(\"wine_red\", X_raw, y)"
   ]
  },
  {
   "cell_type": "markdown",
   "id": "47233931",
   "metadata": {},
   "source": [
    "## Wine-White dataset"
   ]
  },
  {
   "cell_type": "code",
   "execution_count": null,
   "id": "0acdacaa",
   "metadata": {},
   "outputs": [],
   "source": [
    "df = pd.read_csv(\"https://archive.ics.uci.edu/ml/machine-learning-databases/wine-quality/winequality-white.csv\", sep = ';')\n",
    "\n",
    "df"
   ]
  },
  {
   "cell_type": "code",
   "execution_count": null,
   "id": "4230133e",
   "metadata": {},
   "outputs": [],
   "source": [
    "last_col = df.columns[-1]\n",
    "\n",
    "y = df[last_col]\n",
    "mapped_labels = sorted(y.unique())\n",
    "mapping = {}\n",
    "for idx, label in enumerate(mapped_labels):\n",
    "    mapping[label] = idx\n",
    "y = y.map(mapping)  \n",
    "\n",
    "X_raw = df.drop(columns = [last_col])\n",
    "\n",
    "evaluate_dataset_repeated(\"wine_white\", X_raw, y)"
   ]
  },
  {
   "cell_type": "markdown",
   "id": "ba32ed49",
   "metadata": {},
   "source": [
    "## Yeast Data Set\n"
   ]
  },
  {
   "cell_type": "code",
   "execution_count": null,
   "id": "22aa8a86",
   "metadata": {},
   "outputs": [],
   "source": [
    "from sklearn.preprocessing import LabelEncoder\n",
    "\n",
    "df = pd.read_csv(\"https://archive.ics.uci.edu/ml/machine-learning-databases/yeast/yeast.data\",sep=\"\\s+\", header = None)\n",
    "\n",
    "df = df.drop(columns = [0])\n",
    "\n",
    "for col in [9]:\n",
    "    df[col] = LabelEncoder().fit_transform(df[col])\n",
    "\n",
    "df"
   ]
  },
  {
   "cell_type": "code",
   "execution_count": null,
   "id": "509b2f61",
   "metadata": {},
   "outputs": [],
   "source": [
    "last_col = df.columns[-1]\n",
    "y = df[last_col]\n",
    "X_raw = df.drop(columns = [last_col])\n",
    "\n",
    "evaluate_dataset_repeated(\"yeast\", X_raw, y)"
   ]
  },
  {
   "cell_type": "code",
   "execution_count": null,
   "id": "c2927c6e",
   "metadata": {},
   "outputs": [],
   "source": []
  },
  {
   "cell_type": "markdown",
   "id": "74bb2e4a",
   "metadata": {},
   "source": [
    "## Diabetes\n"
   ]
  },
  {
   "cell_type": "code",
   "execution_count": null,
   "id": "e373319d",
   "metadata": {},
   "outputs": [],
   "source": [
    "from sklearn.datasets import load_diabetes\n",
    "\n",
    "X, y = load_diabetes(as_frame = True, return_X_y = True)\n",
    "\n",
    "X"
   ]
  },
  {
   "cell_type": "code",
   "execution_count": null,
   "id": "bd1572f8",
   "metadata": {},
   "outputs": [],
   "source": [
    "evaluate_dataset_repeated(\"diabetes\", X, y)"
   ]
  },
  {
   "cell_type": "markdown",
   "id": "668a31f9",
   "metadata": {},
   "source": [
    "## Iris\n"
   ]
  },
  {
   "cell_type": "code",
   "execution_count": null,
   "id": "dab4e85f",
   "metadata": {},
   "outputs": [],
   "source": [
    "from sklearn.datasets import load_iris\n",
    "\n",
    "X, y = load_iris(as_frame = True, return_X_y = True)\n",
    "\n",
    "X"
   ]
  },
  {
   "cell_type": "code",
   "execution_count": null,
   "id": "2481a432",
   "metadata": {},
   "outputs": [],
   "source": [
    "evaluate_dataset_repeated(\"iris\", X, y)"
   ]
  },
  {
   "cell_type": "markdown",
   "id": "548637d8",
   "metadata": {},
   "source": [
    "# Conclusion\n"
   ]
  },
  {
   "cell_type": "code",
   "execution_count": null,
   "id": "73b8e05b",
   "metadata": {},
   "outputs": [],
   "source": []
  }
 ],
 "metadata": {
  "kernelspec": {
   "display_name": "py38",
   "language": "python",
   "name": "py38"
  },
  "language_info": {
   "codemirror_mode": {
    "name": "ipython",
    "version": 3
   },
   "file_extension": ".py",
   "mimetype": "text/x-python",
   "name": "python",
   "nbconvert_exporter": "python",
   "pygments_lexer": "ipython3",
   "version": "3.8.12"
  }
 },
 "nbformat": 4,
 "nbformat_minor": 5
}
