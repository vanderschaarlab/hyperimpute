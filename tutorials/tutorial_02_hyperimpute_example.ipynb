{
 "cells": [
  {
   "cell_type": "code",
   "execution_count": 1,
   "id": "2b69b924",
   "metadata": {},
   "outputs": [
    {
     "name": "stdout",
     "output_type": "stream",
     "text": [
      "WARNING:tensorflow:From /code/anaconda3/envs/py38/lib/python3.8/site-packages/tensorflow/python/compat/v2_compat.py:111: disable_resource_variables (from tensorflow.python.ops.variable_scope) is deprecated and will be removed in a future version.\n",
      "Instructions for updating:\n",
      "non-resource variables are not supported in the long term\n"
     ]
    }
   ],
   "source": [
    "import copy\n",
    "import os\n",
    "import time\n",
    "import random\n",
    "import sys\n",
    "import warnings\n",
    "\n",
    "import numpy as np\n",
    "import pandas as pd\n",
    "from typing import Any\n",
    "\n",
    "\n",
    "from hyperimpute.plugins.imputers import Imputers\n",
    "from hyperimpute.utils.distributions import enable_reproducible_results\n",
    "import hyperimpute.logger as log\n",
    "\n",
    "from benchmark_imputation import evaluate_dataset_repeated_internal\n",
    "\n",
    "from IPython.display import HTML, display\n",
    "import tabulate\n",
    "\n",
    "import json\n",
    "\n",
    "warnings.filterwarnings('ignore')\n",
    "enable_reproducible_results()\n",
    "\n",
    "imputers = Imputers()\n",
    "log.add(sink=sys.stderr, level=\"INFO\")"
   ]
  },
  {
   "cell_type": "code",
   "execution_count": 2,
   "id": "fa238824",
   "metadata": {},
   "outputs": [],
   "source": [
    "def get_imputer():\n",
    "    return imputers.get(\"hyperimpute\", \n",
    "        optimizer = \"simple\"\n",
    "    )\n",
    "\n",
    "def save_results(fname, results):\n",
    "    path = Path(\"tutorial_02_hyperimpute_example_results\")\n",
    "    path.mkdir(parents=True, exist_ok=True)\n",
    "\n",
    "    out = path / fname\n",
    "    \n",
    "    with open(out, 'w') as outfile:\n",
    "        json.dump(results, outfile)\n",
    "        \n",
    "def evaluate_dataset_repeated(\n",
    "    name,\n",
    "    X_raw,\n",
    "    y,\n",
    "    ref_methods=[\"mean\", \"sklearn_missforest\", \"sklearn_ice\", \n",
    "                 \"gain\", \"sinkhorn\", \"softimpute\", \"miracle\", \"miwae\"],\n",
    "    scenarios=[\"MNAR\", \"MCAR\", \"MAR\"],\n",
    "    miss_pct=[0.1, 0.3, 0.5, 0.7],\n",
    "    n_iter=2,\n",
    "    debug=False,\n",
    "):\n",
    "    results = evaluate_dataset_repeated_internal(\n",
    "        name = name,\n",
    "        evaluated_model = get_imputer(),\n",
    "        X_raw = X_raw,\n",
    "        y = y,\n",
    "        ref_methods=ref_methods,\n",
    "        scenarios=scenarios,\n",
    "        miss_pct=miss_pct,\n",
    "        n_iter=n_iter,\n",
    "        debug=debug,\n",
    "    )\n",
    "    \n",
    "    save_results(name, results)"
   ]
  },
  {
   "cell_type": "code",
   "execution_count": null,
   "id": "c860d806",
   "metadata": {},
   "outputs": [],
   "source": []
  },
  {
   "cell_type": "markdown",
   "id": "a13f18f0",
   "metadata": {},
   "source": [
    "## Sanity check in  debug mode"
   ]
  },
  {
   "cell_type": "code",
   "execution_count": null,
   "id": "9008e15c",
   "metadata": {
    "scrolled": false
   },
   "outputs": [
    {
     "name": "stdout",
     "output_type": "stream",
     "text": [
      "> evaluation trial  0\n",
      "  > eval  MNAR 0.3\n"
     ]
    },
    {
     "name": "stderr",
     "output_type": "stream",
     "text": [
      "[2022-01-12T00:52:01.849959+0200][1559448][INFO]   > BO iter 0\n",
      "[2022-01-12T00:52:02.396027+0200][1559448][INFO]      >>> Column 0 <-- score -0.02205200381533318 <-- Model random_forest_regressor\n",
      "[2022-01-12T00:52:02.834490+0200][1559448][INFO]      >>> Column 1 <-- score -0.024103476543516647 <-- Model catboost_regressor\n",
      "[2022-01-12T00:52:04.835471+0200][1559448][INFO]      >>> Column 2 <-- score 0.9467684 <-- Model catboost\n",
      "[2022-01-12T00:52:06.054087+0200][1559448][INFO]      >>> Column 3 <-- score 0.81683 <-- Model catboost\n",
      "[2022-01-12T00:52:06.438119+0200][1559448][INFO]      >>> Column 4 <-- score -0.01805905811542978 <-- Model catboost_regressor\n",
      "[2022-01-12T00:52:48.263299+0200][1559448][INFO]   > BO iter 1\n",
      "[2022-01-12T00:52:49.701818+0200][1559448][INFO]      >>> Column 3 <-- score 0.9173439999999999 <-- Model catboost\n",
      "[2022-01-12T00:52:50.155329+0200][1559448][INFO]      >>> Column 4 <-- score -0.00014304528998656266 <-- Model xgboost_regressor\n",
      "[2022-01-12T00:52:51.742386+0200][1559448][INFO]      >>> Column 2 <-- score 0.9972292 <-- Model catboost\n",
      "[2022-01-12T00:52:52.271256+0200][1559448][INFO]      >>> Column 1 <-- score -0.00031823392876989916 <-- Model xgboost_regressor\n",
      "[2022-01-12T00:52:52.801914+0200][1559448][INFO]      >>> Column 0 <-- score -0.02205200381533318 <-- Model random_forest_regressor\n",
      "[2022-01-12T00:53:25.862757+0200][1559448][INFO]   > BO iter 2\n",
      "[2022-01-12T00:53:26.721675+0200][1559448][INFO]      >>> Column 3 <-- score 0.9529906666666667 <-- Model catboost\n",
      "[2022-01-12T00:53:27.216892+0200][1559448][INFO]      >>> Column 0 <-- score -0.02205200381533318 <-- Model random_forest_regressor\n",
      "[2022-01-12T00:53:28.220931+0200][1559448][INFO]      >>> Column 2 <-- score 0.9987844 <-- Model catboost\n",
      "[2022-01-12T00:53:28.712482+0200][1559448][INFO]      >>> Column 1 <-- score -6.659793319328611e-05 <-- Model xgboost_regressor\n",
      "[2022-01-12T00:53:29.128616+0200][1559448][INFO]      >>> Column 4 <-- score -8.165827164626834e-05 <-- Model xgboost_regressor\n",
      "[2022-01-12T00:54:01.022313+0200][1559448][INFO]   > BO iter 3\n",
      "[2022-01-12T00:54:01.440797+0200][1559448][INFO]      >>> Column 4 <-- score -5.000001082870791e-05 <-- Model xgboost_regressor\n",
      "[2022-01-12T00:54:01.930940+0200][1559448][INFO]      >>> Column 0 <-- score -0.021353566316734764 <-- Model random_forest_regressor\n",
      "[2022-01-12T00:54:02.411443+0200][1559448][INFO]      >>> Column 1 <-- score -6.659793319328611e-05 <-- Model xgboost_regressor\n",
      "[2022-01-12T00:54:03.394717+0200][1559448][INFO]      >>> Column 2 <-- score 0.9996128 <-- Model catboost\n",
      "[2022-01-12T00:54:04.248926+0200][1559448][INFO]      >>> Column 3 <-- score 0.9529906666666667 <-- Model catboost\n",
      "[2022-01-12T00:54:36.596484+0200][1559448][INFO]   > BO iter 4\n",
      "[2022-01-12T00:54:37.076643+0200][1559448][INFO]      >>> Column 1 <-- score -6.659793319328611e-05 <-- Model xgboost_regressor\n",
      "[2022-01-12T00:54:37.484555+0200][1559448][INFO]      >>> Column 4 <-- score -1.6871951832748692e-05 <-- Model xgboost_regressor\n",
      "[2022-01-12T00:54:38.323532+0200][1559448][INFO]      >>> Column 3 <-- score 0.972496 <-- Model catboost\n",
      "[2022-01-12T00:54:38.820478+0200][1559448][INFO]      >>> Column 0 <-- score -0.021353566316734764 <-- Model random_forest_regressor\n",
      "[2022-01-12T00:54:39.876956+0200][1559448][INFO]      >>> Column 2 <-- score 0.9996128 <-- Model catboost\n"
     ]
    }
   ],
   "source": [
    "df = pd.read_csv('https://archive.ics.uci.edu/ml/machine-learning-databases/00291/airfoil_self_noise.dat', header = None, sep =\"\\\\t\")\n",
    "\n",
    "y = df[5]\n",
    "X_raw = df.drop(columns = [5])\n",
    "\n",
    "evaluate_dataset_repeated(\"airfoil_debug\", X_raw, y,        \n",
    "            scenarios =  [\"MNAR\"],      \n",
    "            ref_methods=[\"mean\", \"miracle\", \"miwae\"],\n",
    "            debug = True,\n",
    "            n_iter = 1,\n",
    "            miss_pct = [0.3, 0.5]\n",
    ")"
   ]
  },
  {
   "cell_type": "markdown",
   "id": "f47cf927",
   "metadata": {},
   "source": [
    "# Datasets"
   ]
  },
  {
   "cell_type": "code",
   "execution_count": null,
   "id": "b7b57094",
   "metadata": {},
   "outputs": [],
   "source": [
    "import hyperimpute.logger as log\n",
    "\n",
    "log.remove()"
   ]
  },
  {
   "cell_type": "markdown",
   "id": "5d154c51",
   "metadata": {},
   "source": [
    "|           Dataset          |  Size |\n",
    "|:--------------------------:|:-----:|\n",
    "|     airfoil self noise     |  1503 |\n",
    "|     blood transfusion      |  748  |\n",
    "|  breast cancer diagnostic  |  569  |\n",
    "|         california         | 20640 |\n",
    "|   climate model crashes    |  540  |\n",
    "|    concrete compression    |  1030 |\n",
    "|       concrete slump       |  103  |\n",
    "| connectionist bench sonar  |  208  |\n",
    "|  connectionist bench vowel |  990  |\n",
    "|            iris            |  150  |\n",
    "|      wine quality red      |  1599 |\n",
    "|     wine quality white     |  4899 |\n",
    "|            yeast           |  1484 |"
   ]
  },
  {
   "cell_type": "markdown",
   "id": "9e804b73",
   "metadata": {},
   "source": [
    "## Dataset: UCI Airfoil Self-Noise Data Set\n",
    "\n",
    "https://archive.ics.uci.edu/ml/datasets/airfoil+self-noise\n"
   ]
  },
  {
   "cell_type": "code",
   "execution_count": null,
   "id": "1b74580a",
   "metadata": {},
   "outputs": [],
   "source": [
    "df = pd.read_csv('https://archive.ics.uci.edu/ml/machine-learning-databases/00291/airfoil_self_noise.dat', header = None, sep =\"\\\\t\")\n",
    "\n",
    "df"
   ]
  },
  {
   "cell_type": "code",
   "execution_count": null,
   "id": "1ce05b6e",
   "metadata": {
    "scrolled": false
   },
   "outputs": [],
   "source": [
    "last_col = df.columns[-1]\n",
    "y = df[last_col]\n",
    "X_raw = df.drop(columns = [last_col])\n",
    "\n",
    "evaluate_dataset_repeated(\"airfoil\", X_raw, y)"
   ]
  },
  {
   "cell_type": "markdown",
   "id": "31ddf41b",
   "metadata": {},
   "source": [
    "## Dataset: UCI Blood Transfusion Service Center Data Set\n",
    "\n",
    "https://archive.ics.uci.edu/ml/machine-learning-databases/blood-transfusion/transfusion.data"
   ]
  },
  {
   "cell_type": "code",
   "execution_count": null,
   "id": "ad01a14b",
   "metadata": {},
   "outputs": [],
   "source": [
    "df = pd.read_csv('https://archive.ics.uci.edu/ml/machine-learning-databases/blood-transfusion/transfusion.data')\n",
    "\n",
    "df"
   ]
  },
  {
   "cell_type": "code",
   "execution_count": null,
   "id": "1e8fc567",
   "metadata": {},
   "outputs": [],
   "source": [
    "last_col = df.columns[-1]\n",
    "y = df[last_col]\n",
    "X_raw = df.drop(columns = [last_col])\n",
    "\n",
    "evaluate_dataset_repeated(\"blood\", X_raw, y)"
   ]
  },
  {
   "cell_type": "markdown",
   "id": "e948afbe",
   "metadata": {},
   "source": [
    "## Dataset: Breast Cancer Wisconsin (Diagnostic)\n",
    "\n",
    "https://archive.ics.uci.edu/ml/datasets/Breast+Cancer+Wisconsin+(Diagnostic)"
   ]
  },
  {
   "cell_type": "code",
   "execution_count": null,
   "id": "408ef088",
   "metadata": {},
   "outputs": [],
   "source": [
    "from sklearn.datasets import load_breast_cancer\n",
    "\n",
    "X_raw, y = load_breast_cancer(as_frame = True, return_X_y = True)\n",
    "\n",
    "X_raw"
   ]
  },
  {
   "cell_type": "code",
   "execution_count": null,
   "id": "acfc039f",
   "metadata": {},
   "outputs": [],
   "source": [
    "evaluate_dataset_repeated(\"bc\", X_raw, y)"
   ]
  },
  {
   "cell_type": "markdown",
   "id": "2437d3ed",
   "metadata": {},
   "source": [
    "## Dataset: California Housing\n",
    "\n"
   ]
  },
  {
   "cell_type": "code",
   "execution_count": null,
   "id": "0801cf47",
   "metadata": {},
   "outputs": [],
   "source": [
    "from sklearn.datasets import fetch_california_housing\n",
    "\n",
    "X_raw, y = fetch_california_housing(as_frame = True, return_X_y = True)\n",
    "\n",
    "X_raw"
   ]
  },
  {
   "cell_type": "code",
   "execution_count": null,
   "id": "735ef3b5",
   "metadata": {},
   "outputs": [],
   "source": [
    "evaluate_dataset_repeated(\"california\", X_raw, y)"
   ]
  },
  {
   "cell_type": "markdown",
   "id": "78aa5248",
   "metadata": {},
   "source": [
    "# Dataset: Climate Model Simulation Crashes\n",
    "https://archive.ics.uci.edu/ml/datasets/climate+model+simulation+crashes"
   ]
  },
  {
   "cell_type": "code",
   "execution_count": null,
   "id": "f694a827",
   "metadata": {},
   "outputs": [],
   "source": [
    "samples = np.loadtxt(\"https://archive.ics.uci.edu/ml/machine-learning-databases/00252/pop_failures.dat\", skiprows=1)\n",
    "df = pd.DataFrame(samples)\n",
    "\n",
    "df"
   ]
  },
  {
   "cell_type": "code",
   "execution_count": null,
   "id": "965aece2",
   "metadata": {},
   "outputs": [],
   "source": [
    "last_col = df.columns[-1]\n",
    "y = df[last_col]\n",
    "X_raw = df.drop(columns = [last_col])\n",
    "\n",
    "evaluate_dataset_repeated(\"climate_model\", X_raw, y)"
   ]
  },
  {
   "cell_type": "markdown",
   "id": "3748baa7",
   "metadata": {},
   "source": [
    "## Concrete Compressive Strength Data Set\n",
    "https://archive.ics.uci.edu/ml/datasets/concrete+compressive+strength"
   ]
  },
  {
   "cell_type": "code",
   "execution_count": null,
   "id": "04ca75d1",
   "metadata": {},
   "outputs": [],
   "source": [
    "!pip install xlrd\n",
    "\n",
    "df = pd.read_excel(\"https://archive.ics.uci.edu/ml/machine-learning-databases/concrete/compressive/Concrete_Data.xls\")\n",
    "\n",
    "df"
   ]
  },
  {
   "cell_type": "code",
   "execution_count": null,
   "id": "05a6d950",
   "metadata": {},
   "outputs": [],
   "source": [
    "last_col = df.columns[-1]\n",
    "y = df[last_col]\n",
    "X_raw = df.drop(columns = [last_col])\n",
    "\n",
    "evaluate_dataset_repeated(\"concrete_compressive\", X_raw, y)"
   ]
  },
  {
   "cell_type": "markdown",
   "id": "ecc7544a",
   "metadata": {},
   "source": [
    "## Concrete Slump Test Data Set\n",
    "\n",
    "https://archive.ics.uci.edu/ml/datasets/concrete+slump+test"
   ]
  },
  {
   "cell_type": "code",
   "execution_count": null,
   "id": "d28615af",
   "metadata": {},
   "outputs": [],
   "source": [
    "df = pd.read_csv(\"https://archive.ics.uci.edu/ml/machine-learning-databases/concrete/slump/slump_test.data\")\n",
    "\n",
    "df"
   ]
  },
  {
   "cell_type": "code",
   "execution_count": null,
   "id": "00c68857",
   "metadata": {},
   "outputs": [],
   "source": [
    "last_col = df.columns[-1]\n",
    "y = df[last_col]\n",
    "X_raw = df.drop(columns = [\"No\", last_col])\n",
    "\n",
    "evaluate_dataset_repeated(\"concret_slump\", X_raw, y)"
   ]
  },
  {
   "cell_type": "markdown",
   "id": "50c7f050",
   "metadata": {},
   "source": [
    "## Connectionist Bench (Sonar, Mines vs. Rocks) Data Set\n",
    "\n",
    "https://archive.ics.uci.edu/ml/datasets/connectionist+bench+(sonar,+mines+vs.+rocks)"
   ]
  },
  {
   "cell_type": "code",
   "execution_count": null,
   "id": "26c621df",
   "metadata": {},
   "outputs": [],
   "source": [
    "df = pd.read_csv(\"https://archive.ics.uci.edu/ml/machine-learning-databases/undocumented/connectionist-bench/sonar/sonar.all-data\", header = None)\n",
    "\n",
    "df"
   ]
  },
  {
   "cell_type": "code",
   "execution_count": null,
   "id": "eddd9c63",
   "metadata": {},
   "outputs": [],
   "source": [
    "last_col = df.columns[-1]\n",
    "y = (df[last_col] == 'M').astype(int)\n",
    "X_raw = df.drop(columns = [last_col])\n",
    "\n",
    "evaluate_dataset_repeated(\"connectionist_sonar\", X_raw, y)"
   ]
  },
  {
   "cell_type": "markdown",
   "id": "45ee79c8",
   "metadata": {},
   "source": [
    "## Wine-Red dataset"
   ]
  },
  {
   "cell_type": "code",
   "execution_count": null,
   "id": "2f08eb92",
   "metadata": {},
   "outputs": [],
   "source": [
    "# Wine Quality Data Set\n",
    "\n",
    "df = pd.read_csv(\"https://archive.ics.uci.edu/ml/machine-learning-databases/wine-quality/winequality-red.csv\", sep = ';')\n",
    "\n",
    "df"
   ]
  },
  {
   "cell_type": "code",
   "execution_count": null,
   "id": "7a654176",
   "metadata": {},
   "outputs": [],
   "source": [
    "last_col = df.columns[-1]\n",
    "\n",
    "y = df[last_col]\n",
    "mapped_labels = sorted(y.unique())\n",
    "mapping = {}\n",
    "for idx, label in enumerate(mapped_labels):\n",
    "    mapping[label] = idx\n",
    "y = y.map(mapping)       \n",
    "\n",
    "X_raw = df.drop(columns = [last_col])\n",
    "\n",
    "evaluate_dataset_repeated(\"wine_red\", X_raw, y)"
   ]
  },
  {
   "cell_type": "markdown",
   "id": "47233931",
   "metadata": {},
   "source": [
    "## Wine-White dataset"
   ]
  },
  {
   "cell_type": "code",
   "execution_count": null,
   "id": "0acdacaa",
   "metadata": {},
   "outputs": [],
   "source": [
    "df = pd.read_csv(\"https://archive.ics.uci.edu/ml/machine-learning-databases/wine-quality/winequality-white.csv\", sep = ';')\n",
    "\n",
    "df"
   ]
  },
  {
   "cell_type": "code",
   "execution_count": null,
   "id": "4230133e",
   "metadata": {},
   "outputs": [],
   "source": [
    "last_col = df.columns[-1]\n",
    "\n",
    "y = df[last_col]\n",
    "mapped_labels = sorted(y.unique())\n",
    "mapping = {}\n",
    "for idx, label in enumerate(mapped_labels):\n",
    "    mapping[label] = idx\n",
    "y = y.map(mapping)  \n",
    "\n",
    "X_raw = df.drop(columns = [last_col])\n",
    "\n",
    "evaluate_dataset_repeated(\"wine_white\", X_raw, y)"
   ]
  },
  {
   "cell_type": "markdown",
   "id": "ba32ed49",
   "metadata": {},
   "source": [
    "## Yeast Data Set\n"
   ]
  },
  {
   "cell_type": "code",
   "execution_count": null,
   "id": "22aa8a86",
   "metadata": {},
   "outputs": [],
   "source": [
    "from sklearn.preprocessing import LabelEncoder\n",
    "\n",
    "df = pd.read_csv(\"https://archive.ics.uci.edu/ml/machine-learning-databases/yeast/yeast.data\",sep=\"\\s+\", header = None)\n",
    "\n",
    "df = df.drop(columns = [0])\n",
    "\n",
    "for col in [9]:\n",
    "    df[col] = LabelEncoder().fit_transform(df[col])\n",
    "\n",
    "df"
   ]
  },
  {
   "cell_type": "code",
   "execution_count": null,
   "id": "509b2f61",
   "metadata": {},
   "outputs": [],
   "source": [
    "last_col = df.columns[-1]\n",
    "y = df[last_col]\n",
    "X_raw = df.drop(columns = [last_col])\n",
    "\n",
    "evaluate_dataset_repeated(\"yeast\", X_raw, y)"
   ]
  },
  {
   "cell_type": "code",
   "execution_count": null,
   "id": "c2927c6e",
   "metadata": {},
   "outputs": [],
   "source": []
  },
  {
   "cell_type": "markdown",
   "id": "74bb2e4a",
   "metadata": {},
   "source": [
    "## Diabetes\n"
   ]
  },
  {
   "cell_type": "code",
   "execution_count": null,
   "id": "e373319d",
   "metadata": {},
   "outputs": [],
   "source": [
    "from sklearn.datasets import load_diabetes\n",
    "\n",
    "X, y = load_diabetes(as_frame = True, return_X_y = True)\n",
    "\n",
    "X"
   ]
  },
  {
   "cell_type": "code",
   "execution_count": null,
   "id": "bd1572f8",
   "metadata": {},
   "outputs": [],
   "source": [
    "evaluate_dataset_repeated(\"diabetes\", X, y)"
   ]
  },
  {
   "cell_type": "markdown",
   "id": "668a31f9",
   "metadata": {},
   "source": [
    "## Iris\n"
   ]
  },
  {
   "cell_type": "code",
   "execution_count": null,
   "id": "dab4e85f",
   "metadata": {},
   "outputs": [],
   "source": [
    "from sklearn.datasets import load_iris\n",
    "\n",
    "X, y = load_iris(as_frame = True, return_X_y = True)\n",
    "\n",
    "X"
   ]
  },
  {
   "cell_type": "code",
   "execution_count": null,
   "id": "2481a432",
   "metadata": {},
   "outputs": [],
   "source": [
    "evaluate_dataset_repeated(\"iris\", X, y)"
   ]
  },
  {
   "cell_type": "markdown",
   "id": "548637d8",
   "metadata": {},
   "source": [
    "# Conclusion\n"
   ]
  },
  {
   "cell_type": "code",
   "execution_count": null,
   "id": "73b8e05b",
   "metadata": {},
   "outputs": [],
   "source": []
  }
 ],
 "metadata": {
  "kernelspec": {
   "display_name": "py38",
   "language": "python",
   "name": "py38"
  },
  "language_info": {
   "codemirror_mode": {
    "name": "ipython",
    "version": 3
   },
   "file_extension": ".py",
   "mimetype": "text/x-python",
   "name": "python",
   "nbconvert_exporter": "python",
   "pygments_lexer": "ipython3",
   "version": "3.8.12"
  }
 },
 "nbformat": 4,
 "nbformat_minor": 5
}
