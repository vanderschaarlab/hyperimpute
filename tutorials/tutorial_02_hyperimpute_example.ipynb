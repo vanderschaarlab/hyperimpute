{
 "cells": [
  {
   "cell_type": "code",
   "execution_count": 1,
   "id": "2b69b924",
   "metadata": {},
   "outputs": [
    {
     "name": "stdout",
     "output_type": "stream",
     "text": [
      "WARNING:tensorflow:From /code/anaconda3/envs/py38/lib/python3.8/site-packages/tensorflow/python/compat/v2_compat.py:111: disable_resource_variables (from tensorflow.python.ops.variable_scope) is deprecated and will be removed in a future version.\n",
      "Instructions for updating:\n",
      "non-resource variables are not supported in the long term\n"
     ]
    }
   ],
   "source": [
    "import copy\n",
    "import os\n",
    "import time\n",
    "import random\n",
    "import sys\n",
    "import warnings\n",
    "\n",
    "import numpy as np\n",
    "import pandas as pd\n",
    "from typing import Any\n",
    "\n",
    "\n",
    "from hyperimpute.plugins.imputers import Imputers\n",
    "from hyperimpute.utils.distributions import enable_reproducible_results\n",
    "import hyperimpute.logger as log\n",
    "\n",
    "from benchmark_imputation import evaluate_dataset_repeated_internal\n",
    "\n",
    "from IPython.display import HTML, display\n",
    "import tabulate\n",
    "\n",
    "import json\n",
    "\n",
    "warnings.filterwarnings('ignore')\n",
    "enable_reproducible_results()\n",
    "\n",
    "imputers = Imputers()\n",
    "log.add(sink=sys.stderr, level=\"INFO\")"
   ]
  },
  {
   "cell_type": "code",
   "execution_count": 2,
   "id": "fa238824",
   "metadata": {},
   "outputs": [],
   "source": [
    "from pathlib import Path\n",
    "\n",
    "def get_imputer():\n",
    "    return imputers.get(\"hyperimpute\", \n",
    "        optimizer = \"simple\"\n",
    "    )\n",
    "\n",
    "def save_results(fname, results):\n",
    "    path = Path(\"tutorial_02_hyperimpute_example_results\")\n",
    "    path.mkdir(parents=True, exist_ok=True)\n",
    "\n",
    "    out = path / fname\n",
    "    \n",
    "    with open(out, 'w') as outfile:\n",
    "        json.dump(results, outfile)\n",
    "        \n",
    "def evaluate_dataset_repeated(\n",
    "    name,\n",
    "    X_raw,\n",
    "    y,\n",
    "    ref_methods=[\"mean\", \"sklearn_missforest\", \"sklearn_ice\", \n",
    "                 \"gain\", \"sinkhorn\", \"softimpute\", \"miracle\", \"miwae\"],\n",
    "    scenarios=[\"MNAR\", \"MCAR\", \"MAR\"],\n",
    "    miss_pct=[0.1, 0.3, 0.5, 0.7],\n",
    "    n_iter=1,\n",
    "    debug=False,\n",
    "):\n",
    "    results = evaluate_dataset_repeated_internal(\n",
    "        name = name,\n",
    "        evaluated_model = get_imputer(),\n",
    "        X_raw = X_raw,\n",
    "        y = y,\n",
    "        ref_methods=ref_methods,\n",
    "        scenarios=scenarios,\n",
    "        miss_pct=miss_pct,\n",
    "        n_iter=n_iter,\n",
    "        debug=debug,\n",
    "    )\n",
    "    \n",
    "    save_results(name, results)"
   ]
  },
  {
   "cell_type": "code",
   "execution_count": null,
   "id": "c860d806",
   "metadata": {},
   "outputs": [],
   "source": []
  },
  {
   "cell_type": "markdown",
   "id": "a13f18f0",
   "metadata": {},
   "source": [
    "## Sanity check in  debug mode"
   ]
  },
  {
   "cell_type": "code",
   "execution_count": 3,
   "id": "9008e15c",
   "metadata": {
    "scrolled": false
   },
   "outputs": [
    {
     "name": "stdout",
     "output_type": "stream",
     "text": [
      "> evaluation trial  0\n",
      "  > eval  MNAR 0.3\n"
     ]
    },
    {
     "name": "stderr",
     "output_type": "stream",
     "text": [
      "[2022-01-13T12:34:26.576142+0200][353152][INFO]   > BO iter 0\n",
      "[2022-01-13T12:34:26.969530+0200][353152][INFO]      >>> Column 0 <-- score -0.02207321259644897 <-- Model random_forest_regressor\n",
      "[2022-01-13T12:34:27.392770+0200][353152][INFO]      >>> Column 1 <-- score -0.02305180517219732 <-- Model catboost_regressor\n",
      "[2022-01-13T12:34:27.770646+0200][353152][INFO]      >>> Column 2 <-- score -0.03354103691649689 <-- Model catboost_regressor\n",
      "[2022-01-13T12:34:31.111581+0200][353152][INFO]   > BO iter 1\n",
      "[2022-01-13T12:34:31.537858+0200][353152][INFO]      >>> Column 3 <-- score -0.04553676254540827 <-- Model catboost_regressor\n",
      "[2022-01-13T12:34:31.886386+0200][353152][INFO]      >>> Column 4 <-- score -0.0005044679073548755 <-- Model xgboost_regressor\n",
      "[2022-01-13T12:34:32.296918+0200][353152][INFO]      >>> Column 2 <-- score -0.0019666368204545367 <-- Model catboost_regressor\n",
      "[2022-01-13T12:34:35.606147+0200][353152][INFO]   > BO iter 2\n",
      "[2022-01-13T12:34:36.060592+0200][353152][INFO]      >>> Column 3 <-- score -0.03676910225909123 <-- Model catboost_regressor\n",
      "[2022-01-13T12:34:36.473433+0200][353152][INFO]      >>> Column 0 <-- score -0.0219022820080847 <-- Model linear_regression\n",
      "[2022-01-13T12:34:36.878886+0200][353152][INFO]      >>> Column 2 <-- score -0.0011345264149549951 <-- Model catboost_regressor\n",
      "[2022-01-13T12:34:39.848942+0200][353152][INFO]   > BO iter 3\n",
      "[2022-01-13T12:34:40.264884+0200][353152][INFO]      >>> Column 4 <-- score -0.00039445765982233823 <-- Model catboost_regressor\n",
      "[2022-01-13T12:34:40.723098+0200][353152][INFO]      >>> Column 0 <-- score -0.0219022820080847 <-- Model linear_regression\n",
      "[2022-01-13T12:34:41.131375+0200][353152][INFO]      >>> Column 1 <-- score -0.0006948874806702968 <-- Model xgboost_regressor\n",
      "[2022-01-13T12:34:41.543482+0200][353152][INFO]      >>> Column 2 <-- score -0.0011345264149549951 <-- Model catboost_regressor\n",
      "[2022-01-13T12:34:44.544103+0200][353152][INFO]   > BO iter 4\n",
      "[2022-01-13T12:34:44.965078+0200][353152][INFO]      >>> Column 1 <-- score -0.0006019095696506678 <-- Model xgboost_regressor\n",
      "[2022-01-13T12:34:45.320941+0200][353152][INFO]      >>> Column 4 <-- score -0.00021127426874793142 <-- Model xgboost_regressor\n",
      "[2022-01-13T12:34:48.308549+0200][353152][INFO] Number of Indicators = 5\n",
      "[2022-01-13T12:34:50.365166+0200][353152][INFO] Using hyperparameters\n",
      "            reg_lambda = 1,\n",
      "            reg_beta = 1,\n",
      "            reg_m = 1.0, lr = 0.001\n",
      "            \n"
     ]
    },
    {
     "name": "stdout",
     "output_type": "stream",
     "text": [
      "benchmark took  62.69257068634033\n",
      "RMSE score\n"
     ]
    },
    {
     "data": {
      "text/html": [
       "<table>\n",
       "<thead>\n",
       "<tr><th>Scenario  </th><th style=\"text-align: right;\">  miss_pct [0, 1]</th><th style=\"text-align: right;\">  Our method</th><th style=\"text-align: right;\">    mean</th><th style=\"text-align: right;\">  miracle</th></tr>\n",
       "</thead>\n",
       "<tbody>\n",
       "<tr><td>MNAR      </td><td style=\"text-align: right;\">              0.3</td><td style=\"text-align: right;\">    0.212094</td><td style=\"text-align: right;\">0.291261</td><td style=\"text-align: right;\"> 0.265912</td></tr>\n",
       "</tbody>\n",
       "</table>"
      ],
      "text/plain": [
       "<IPython.core.display.HTML object>"
      ]
     },
     "metadata": {},
     "output_type": "display_data"
    },
    {
     "name": "stdout",
     "output_type": "stream",
     "text": [
      "\n",
      "==========================================================\n",
      "\n",
      "Wasserstein score\n"
     ]
    },
    {
     "data": {
      "text/html": [
       "<table>\n",
       "<thead>\n",
       "<tr><th>Scenario  </th><th style=\"text-align: right;\">  miss_pct [0, 1]</th><th style=\"text-align: right;\">  Our method</th><th style=\"text-align: right;\">    mean</th><th style=\"text-align: right;\">  miracle</th></tr>\n",
       "</thead>\n",
       "<tbody>\n",
       "<tr><td>MNAR      </td><td style=\"text-align: right;\">              0.3</td><td style=\"text-align: right;\">   0.0579122</td><td style=\"text-align: right;\">0.368713</td><td style=\"text-align: right;\"> 0.226537</td></tr>\n",
       "</tbody>\n",
       "</table>"
      ],
      "text/plain": [
       "<IPython.core.display.HTML object>"
      ]
     },
     "metadata": {},
     "output_type": "display_data"
    },
    {
     "name": "stdout",
     "output_type": "stream",
     "text": [
      "\n",
      "==========================================================\n",
      "\n",
      "Downstream model prediction error\n"
     ]
    },
    {
     "data": {
      "text/html": [
       "<table>\n",
       "<thead>\n",
       "<tr><th>Scenario  </th><th style=\"text-align: right;\">  miss_pct [0, 1]</th><th style=\"text-align: right;\">  Our method</th><th style=\"text-align: right;\">   mean</th><th style=\"text-align: right;\">  miracle</th></tr>\n",
       "</thead>\n",
       "<tbody>\n",
       "<tr><td>MNAR      </td><td style=\"text-align: right;\">              0.3</td><td style=\"text-align: right;\">     7.04437</td><td style=\"text-align: right;\">5.78295</td><td style=\"text-align: right;\">  7.58695</td></tr>\n",
       "</tbody>\n",
       "</table>"
      ],
      "text/plain": [
       "<IPython.core.display.HTML object>"
      ]
     },
     "metadata": {},
     "output_type": "display_data"
    }
   ],
   "source": [
    "df = pd.read_csv('https://archive.ics.uci.edu/ml/machine-learning-databases/00291/airfoil_self_noise.dat', header = None, sep =\"\\\\t\")\n",
    "\n",
    "y = df[5]\n",
    "X_raw = df.drop(columns = [5])\n",
    "\n",
    "evaluate_dataset_repeated(\"airfoil_debug\", X_raw, y,        \n",
    "            scenarios =  [\"MNAR\"],      \n",
    "            ref_methods=[\"mean\", \"miracle\"],\n",
    "            debug = True,\n",
    "            n_iter = 1,\n",
    "            miss_pct = [0.3]\n",
    ")"
   ]
  },
  {
   "cell_type": "markdown",
   "id": "f47cf927",
   "metadata": {},
   "source": [
    "# Datasets"
   ]
  },
  {
   "cell_type": "code",
   "execution_count": 3,
   "id": "b7b57094",
   "metadata": {},
   "outputs": [],
   "source": [
    "import hyperimpute.logger as log\n",
    "\n",
    "log.remove()"
   ]
  },
  {
   "cell_type": "markdown",
   "id": "5d154c51",
   "metadata": {},
   "source": [
    "|           Dataset          |  Size |\n",
    "|:--------------------------:|:-----:|\n",
    "|     airfoil self noise     |  1503 |\n",
    "|     blood transfusion      |  748  |\n",
    "|  breast cancer diagnostic  |  569  |\n",
    "|         california         | 20640 |\n",
    "|   climate model crashes    |  540  |\n",
    "|    concrete compression    |  1030 |\n",
    "|       concrete slump       |  103  |\n",
    "| connectionist bench sonar  |  208  |\n",
    "|  connectionist bench vowel |  990  |\n",
    "|            iris            |  150  |\n",
    "|      wine quality red      |  1599 |\n",
    "|     wine quality white     |  4899 |\n",
    "|            yeast           |  1484 |"
   ]
  },
  {
   "cell_type": "markdown",
   "id": "9e804b73",
   "metadata": {},
   "source": [
    "## Dataset: UCI Airfoil Self-Noise Data Set\n",
    "\n",
    "https://archive.ics.uci.edu/ml/datasets/airfoil+self-noise\n"
   ]
  },
  {
   "cell_type": "code",
   "execution_count": null,
   "id": "1b74580a",
   "metadata": {},
   "outputs": [],
   "source": [
    "df = pd.read_csv('https://archive.ics.uci.edu/ml/machine-learning-databases/00291/airfoil_self_noise.dat', header = None, sep =\"\\\\t\")\n",
    "\n",
    "df"
   ]
  },
  {
   "cell_type": "code",
   "execution_count": null,
   "id": "1ce05b6e",
   "metadata": {
    "scrolled": false
   },
   "outputs": [],
   "source": [
    "last_col = df.columns[-1]\n",
    "y = df[last_col]\n",
    "X_raw = df.drop(columns = [last_col])\n",
    "\n",
    "evaluate_dataset_repeated(\"airfoil\", X_raw, y)"
   ]
  },
  {
   "cell_type": "markdown",
   "id": "31ddf41b",
   "metadata": {},
   "source": [
    "## Dataset: UCI Blood Transfusion Service Center Data Set\n",
    "\n",
    "https://archive.ics.uci.edu/ml/machine-learning-databases/blood-transfusion/transfusion.data"
   ]
  },
  {
   "cell_type": "code",
   "execution_count": null,
   "id": "ad01a14b",
   "metadata": {},
   "outputs": [],
   "source": [
    "df = pd.read_csv('https://archive.ics.uci.edu/ml/machine-learning-databases/blood-transfusion/transfusion.data')\n",
    "\n",
    "df"
   ]
  },
  {
   "cell_type": "code",
   "execution_count": null,
   "id": "1e8fc567",
   "metadata": {},
   "outputs": [],
   "source": [
    "last_col = df.columns[-1]\n",
    "y = df[last_col]\n",
    "X_raw = df.drop(columns = [last_col])\n",
    "\n",
    "evaluate_dataset_repeated(\"blood\", X_raw, y)"
   ]
  },
  {
   "cell_type": "markdown",
   "id": "e948afbe",
   "metadata": {},
   "source": [
    "## Dataset: Breast Cancer Wisconsin (Diagnostic)\n",
    "\n",
    "https://archive.ics.uci.edu/ml/datasets/Breast+Cancer+Wisconsin+(Diagnostic)"
   ]
  },
  {
   "cell_type": "code",
   "execution_count": null,
   "id": "408ef088",
   "metadata": {},
   "outputs": [],
   "source": [
    "from sklearn.datasets import load_breast_cancer\n",
    "\n",
    "X_raw, y = load_breast_cancer(as_frame = True, return_X_y = True)\n",
    "\n",
    "X_raw"
   ]
  },
  {
   "cell_type": "code",
   "execution_count": null,
   "id": "acfc039f",
   "metadata": {},
   "outputs": [],
   "source": [
    "evaluate_dataset_repeated(\"bc\", X_raw, y)"
   ]
  },
  {
   "cell_type": "markdown",
   "id": "2437d3ed",
   "metadata": {},
   "source": [
    "## Dataset: California Housing\n",
    "\n"
   ]
  },
  {
   "cell_type": "code",
   "execution_count": null,
   "id": "0801cf47",
   "metadata": {},
   "outputs": [],
   "source": [
    "from sklearn.datasets import fetch_california_housing\n",
    "\n",
    "X_raw, y = fetch_california_housing(as_frame = True, return_X_y = True)\n",
    "\n",
    "X_raw"
   ]
  },
  {
   "cell_type": "code",
   "execution_count": null,
   "id": "735ef3b5",
   "metadata": {},
   "outputs": [],
   "source": [
    "evaluate_dataset_repeated(\"california\", X_raw, y,\n",
    "                    ref_methods=[\"mean\", \"sklearn_missforest\", \"sklearn_ice\"],\n",
    "                         )"
   ]
  },
  {
   "cell_type": "markdown",
   "id": "78aa5248",
   "metadata": {},
   "source": [
    "# Dataset: Climate Model Simulation Crashes\n",
    "https://archive.ics.uci.edu/ml/datasets/climate+model+simulation+crashes"
   ]
  },
  {
   "cell_type": "code",
   "execution_count": null,
   "id": "f694a827",
   "metadata": {},
   "outputs": [],
   "source": [
    "samples = np.loadtxt(\"https://archive.ics.uci.edu/ml/machine-learning-databases/00252/pop_failures.dat\", skiprows=1)\n",
    "df = pd.DataFrame(samples)\n",
    "\n",
    "df"
   ]
  },
  {
   "cell_type": "code",
   "execution_count": null,
   "id": "965aece2",
   "metadata": {},
   "outputs": [],
   "source": [
    "last_col = df.columns[-1]\n",
    "y = df[last_col]\n",
    "X_raw = df.drop(columns = [last_col])\n",
    "\n",
    "evaluate_dataset_repeated(\"climate_model\", X_raw, y)"
   ]
  },
  {
   "cell_type": "markdown",
   "id": "3748baa7",
   "metadata": {},
   "source": [
    "## Concrete Compressive Strength Data Set\n",
    "https://archive.ics.uci.edu/ml/datasets/concrete+compressive+strength"
   ]
  },
  {
   "cell_type": "code",
   "execution_count": null,
   "id": "04ca75d1",
   "metadata": {},
   "outputs": [],
   "source": [
    "df = pd.read_excel(\"https://archive.ics.uci.edu/ml/machine-learning-databases/concrete/compressive/Concrete_Data.xls\")\n",
    "\n",
    "df"
   ]
  },
  {
   "cell_type": "code",
   "execution_count": null,
   "id": "05a6d950",
   "metadata": {},
   "outputs": [],
   "source": [
    "last_col = df.columns[-1]\n",
    "y = df[last_col]\n",
    "X_raw = df.drop(columns = [last_col])\n",
    "\n",
    "evaluate_dataset_repeated(\"concrete_compressive\", X_raw, y)"
   ]
  },
  {
   "cell_type": "markdown",
   "id": "ecc7544a",
   "metadata": {},
   "source": [
    "## Concrete Slump Test Data Set\n",
    "\n",
    "https://archive.ics.uci.edu/ml/datasets/concrete+slump+test"
   ]
  },
  {
   "cell_type": "code",
   "execution_count": null,
   "id": "d28615af",
   "metadata": {},
   "outputs": [],
   "source": [
    "df = pd.read_csv(\"https://archive.ics.uci.edu/ml/machine-learning-databases/concrete/slump/slump_test.data\")\n",
    "\n",
    "df"
   ]
  },
  {
   "cell_type": "code",
   "execution_count": null,
   "id": "00c68857",
   "metadata": {},
   "outputs": [],
   "source": [
    "last_col = df.columns[-1]\n",
    "y = df[last_col]\n",
    "X_raw = df.drop(columns = [\"No\", last_col])\n",
    "\n",
    "evaluate_dataset_repeated(\"concret_slump\", X_raw, y)"
   ]
  },
  {
   "cell_type": "markdown",
   "id": "50c7f050",
   "metadata": {},
   "source": [
    "## Connectionist Bench (Sonar, Mines vs. Rocks) Data Set\n",
    "\n",
    "https://archive.ics.uci.edu/ml/datasets/connectionist+bench+(sonar,+mines+vs.+rocks)"
   ]
  },
  {
   "cell_type": "code",
   "execution_count": null,
   "id": "26c621df",
   "metadata": {},
   "outputs": [],
   "source": [
    "df = pd.read_csv(\"https://archive.ics.uci.edu/ml/machine-learning-databases/undocumented/connectionist-bench/sonar/sonar.all-data\", header = None)\n",
    "\n",
    "df"
   ]
  },
  {
   "cell_type": "code",
   "execution_count": null,
   "id": "eddd9c63",
   "metadata": {},
   "outputs": [],
   "source": [
    "last_col = df.columns[-1]\n",
    "y = (df[last_col] == 'M').astype(int)\n",
    "X_raw = df.drop(columns = [last_col])\n",
    "\n",
    "evaluate_dataset_repeated(\"connectionist_sonar\", X_raw, y)"
   ]
  },
  {
   "cell_type": "markdown",
   "id": "45ee79c8",
   "metadata": {},
   "source": [
    "## Wine-Red dataset"
   ]
  },
  {
   "cell_type": "code",
   "execution_count": null,
   "id": "2f08eb92",
   "metadata": {},
   "outputs": [],
   "source": [
    "# Wine Quality Data Set\n",
    "\n",
    "df = pd.read_csv(\"https://archive.ics.uci.edu/ml/machine-learning-databases/wine-quality/winequality-red.csv\", sep = ';')\n",
    "\n",
    "df"
   ]
  },
  {
   "cell_type": "code",
   "execution_count": null,
   "id": "7a654176",
   "metadata": {},
   "outputs": [],
   "source": [
    "last_col = df.columns[-1]\n",
    "\n",
    "y = df[last_col]\n",
    "mapped_labels = sorted(y.unique())\n",
    "mapping = {}\n",
    "for idx, label in enumerate(mapped_labels):\n",
    "    mapping[label] = idx\n",
    "y = y.map(mapping)       \n",
    "\n",
    "X_raw = df.drop(columns = [last_col])\n",
    "\n",
    "evaluate_dataset_repeated(\"wine_red\", X_raw, y)"
   ]
  },
  {
   "cell_type": "markdown",
   "id": "47233931",
   "metadata": {},
   "source": [
    "## Wine-White dataset"
   ]
  },
  {
   "cell_type": "code",
   "execution_count": 8,
   "id": "0acdacaa",
   "metadata": {},
   "outputs": [
    {
     "data": {
      "text/html": [
       "<div>\n",
       "<style scoped>\n",
       "    .dataframe tbody tr th:only-of-type {\n",
       "        vertical-align: middle;\n",
       "    }\n",
       "\n",
       "    .dataframe tbody tr th {\n",
       "        vertical-align: top;\n",
       "    }\n",
       "\n",
       "    .dataframe thead th {\n",
       "        text-align: right;\n",
       "    }\n",
       "</style>\n",
       "<table border=\"1\" class=\"dataframe\">\n",
       "  <thead>\n",
       "    <tr style=\"text-align: right;\">\n",
       "      <th></th>\n",
       "      <th>fixed acidity</th>\n",
       "      <th>volatile acidity</th>\n",
       "      <th>citric acid</th>\n",
       "      <th>residual sugar</th>\n",
       "      <th>chlorides</th>\n",
       "      <th>free sulfur dioxide</th>\n",
       "      <th>total sulfur dioxide</th>\n",
       "      <th>density</th>\n",
       "      <th>pH</th>\n",
       "      <th>sulphates</th>\n",
       "      <th>alcohol</th>\n",
       "      <th>quality</th>\n",
       "    </tr>\n",
       "  </thead>\n",
       "  <tbody>\n",
       "    <tr>\n",
       "      <th>0</th>\n",
       "      <td>7.0</td>\n",
       "      <td>0.27</td>\n",
       "      <td>0.36</td>\n",
       "      <td>20.7</td>\n",
       "      <td>0.045</td>\n",
       "      <td>45.0</td>\n",
       "      <td>170.0</td>\n",
       "      <td>1.00100</td>\n",
       "      <td>3.00</td>\n",
       "      <td>0.45</td>\n",
       "      <td>8.8</td>\n",
       "      <td>6</td>\n",
       "    </tr>\n",
       "    <tr>\n",
       "      <th>1</th>\n",
       "      <td>6.3</td>\n",
       "      <td>0.30</td>\n",
       "      <td>0.34</td>\n",
       "      <td>1.6</td>\n",
       "      <td>0.049</td>\n",
       "      <td>14.0</td>\n",
       "      <td>132.0</td>\n",
       "      <td>0.99400</td>\n",
       "      <td>3.30</td>\n",
       "      <td>0.49</td>\n",
       "      <td>9.5</td>\n",
       "      <td>6</td>\n",
       "    </tr>\n",
       "    <tr>\n",
       "      <th>2</th>\n",
       "      <td>8.1</td>\n",
       "      <td>0.28</td>\n",
       "      <td>0.40</td>\n",
       "      <td>6.9</td>\n",
       "      <td>0.050</td>\n",
       "      <td>30.0</td>\n",
       "      <td>97.0</td>\n",
       "      <td>0.99510</td>\n",
       "      <td>3.26</td>\n",
       "      <td>0.44</td>\n",
       "      <td>10.1</td>\n",
       "      <td>6</td>\n",
       "    </tr>\n",
       "    <tr>\n",
       "      <th>3</th>\n",
       "      <td>7.2</td>\n",
       "      <td>0.23</td>\n",
       "      <td>0.32</td>\n",
       "      <td>8.5</td>\n",
       "      <td>0.058</td>\n",
       "      <td>47.0</td>\n",
       "      <td>186.0</td>\n",
       "      <td>0.99560</td>\n",
       "      <td>3.19</td>\n",
       "      <td>0.40</td>\n",
       "      <td>9.9</td>\n",
       "      <td>6</td>\n",
       "    </tr>\n",
       "    <tr>\n",
       "      <th>4</th>\n",
       "      <td>7.2</td>\n",
       "      <td>0.23</td>\n",
       "      <td>0.32</td>\n",
       "      <td>8.5</td>\n",
       "      <td>0.058</td>\n",
       "      <td>47.0</td>\n",
       "      <td>186.0</td>\n",
       "      <td>0.99560</td>\n",
       "      <td>3.19</td>\n",
       "      <td>0.40</td>\n",
       "      <td>9.9</td>\n",
       "      <td>6</td>\n",
       "    </tr>\n",
       "    <tr>\n",
       "      <th>...</th>\n",
       "      <td>...</td>\n",
       "      <td>...</td>\n",
       "      <td>...</td>\n",
       "      <td>...</td>\n",
       "      <td>...</td>\n",
       "      <td>...</td>\n",
       "      <td>...</td>\n",
       "      <td>...</td>\n",
       "      <td>...</td>\n",
       "      <td>...</td>\n",
       "      <td>...</td>\n",
       "      <td>...</td>\n",
       "    </tr>\n",
       "    <tr>\n",
       "      <th>4893</th>\n",
       "      <td>6.2</td>\n",
       "      <td>0.21</td>\n",
       "      <td>0.29</td>\n",
       "      <td>1.6</td>\n",
       "      <td>0.039</td>\n",
       "      <td>24.0</td>\n",
       "      <td>92.0</td>\n",
       "      <td>0.99114</td>\n",
       "      <td>3.27</td>\n",
       "      <td>0.50</td>\n",
       "      <td>11.2</td>\n",
       "      <td>6</td>\n",
       "    </tr>\n",
       "    <tr>\n",
       "      <th>4894</th>\n",
       "      <td>6.6</td>\n",
       "      <td>0.32</td>\n",
       "      <td>0.36</td>\n",
       "      <td>8.0</td>\n",
       "      <td>0.047</td>\n",
       "      <td>57.0</td>\n",
       "      <td>168.0</td>\n",
       "      <td>0.99490</td>\n",
       "      <td>3.15</td>\n",
       "      <td>0.46</td>\n",
       "      <td>9.6</td>\n",
       "      <td>5</td>\n",
       "    </tr>\n",
       "    <tr>\n",
       "      <th>4895</th>\n",
       "      <td>6.5</td>\n",
       "      <td>0.24</td>\n",
       "      <td>0.19</td>\n",
       "      <td>1.2</td>\n",
       "      <td>0.041</td>\n",
       "      <td>30.0</td>\n",
       "      <td>111.0</td>\n",
       "      <td>0.99254</td>\n",
       "      <td>2.99</td>\n",
       "      <td>0.46</td>\n",
       "      <td>9.4</td>\n",
       "      <td>6</td>\n",
       "    </tr>\n",
       "    <tr>\n",
       "      <th>4896</th>\n",
       "      <td>5.5</td>\n",
       "      <td>0.29</td>\n",
       "      <td>0.30</td>\n",
       "      <td>1.1</td>\n",
       "      <td>0.022</td>\n",
       "      <td>20.0</td>\n",
       "      <td>110.0</td>\n",
       "      <td>0.98869</td>\n",
       "      <td>3.34</td>\n",
       "      <td>0.38</td>\n",
       "      <td>12.8</td>\n",
       "      <td>7</td>\n",
       "    </tr>\n",
       "    <tr>\n",
       "      <th>4897</th>\n",
       "      <td>6.0</td>\n",
       "      <td>0.21</td>\n",
       "      <td>0.38</td>\n",
       "      <td>0.8</td>\n",
       "      <td>0.020</td>\n",
       "      <td>22.0</td>\n",
       "      <td>98.0</td>\n",
       "      <td>0.98941</td>\n",
       "      <td>3.26</td>\n",
       "      <td>0.32</td>\n",
       "      <td>11.8</td>\n",
       "      <td>6</td>\n",
       "    </tr>\n",
       "  </tbody>\n",
       "</table>\n",
       "<p>4898 rows × 12 columns</p>\n",
       "</div>"
      ],
      "text/plain": [
       "      fixed acidity  volatile acidity  citric acid  residual sugar  chlorides  \\\n",
       "0               7.0              0.27         0.36            20.7      0.045   \n",
       "1               6.3              0.30         0.34             1.6      0.049   \n",
       "2               8.1              0.28         0.40             6.9      0.050   \n",
       "3               7.2              0.23         0.32             8.5      0.058   \n",
       "4               7.2              0.23         0.32             8.5      0.058   \n",
       "...             ...               ...          ...             ...        ...   \n",
       "4893            6.2              0.21         0.29             1.6      0.039   \n",
       "4894            6.6              0.32         0.36             8.0      0.047   \n",
       "4895            6.5              0.24         0.19             1.2      0.041   \n",
       "4896            5.5              0.29         0.30             1.1      0.022   \n",
       "4897            6.0              0.21         0.38             0.8      0.020   \n",
       "\n",
       "      free sulfur dioxide  total sulfur dioxide  density    pH  sulphates  \\\n",
       "0                    45.0                 170.0  1.00100  3.00       0.45   \n",
       "1                    14.0                 132.0  0.99400  3.30       0.49   \n",
       "2                    30.0                  97.0  0.99510  3.26       0.44   \n",
       "3                    47.0                 186.0  0.99560  3.19       0.40   \n",
       "4                    47.0                 186.0  0.99560  3.19       0.40   \n",
       "...                   ...                   ...      ...   ...        ...   \n",
       "4893                 24.0                  92.0  0.99114  3.27       0.50   \n",
       "4894                 57.0                 168.0  0.99490  3.15       0.46   \n",
       "4895                 30.0                 111.0  0.99254  2.99       0.46   \n",
       "4896                 20.0                 110.0  0.98869  3.34       0.38   \n",
       "4897                 22.0                  98.0  0.98941  3.26       0.32   \n",
       "\n",
       "      alcohol  quality  \n",
       "0         8.8        6  \n",
       "1         9.5        6  \n",
       "2        10.1        6  \n",
       "3         9.9        6  \n",
       "4         9.9        6  \n",
       "...       ...      ...  \n",
       "4893     11.2        6  \n",
       "4894      9.6        5  \n",
       "4895      9.4        6  \n",
       "4896     12.8        7  \n",
       "4897     11.8        6  \n",
       "\n",
       "[4898 rows x 12 columns]"
      ]
     },
     "execution_count": 8,
     "metadata": {},
     "output_type": "execute_result"
    }
   ],
   "source": [
    "df = pd.read_csv(\"https://archive.ics.uci.edu/ml/machine-learning-databases/wine-quality/winequality-white.csv\", sep = ';')\n",
    "\n",
    "df"
   ]
  },
  {
   "cell_type": "code",
   "execution_count": null,
   "id": "4230133e",
   "metadata": {},
   "outputs": [],
   "source": [
    "last_col = df.columns[-1]\n",
    "\n",
    "y = df[last_col]\n",
    "mapped_labels = sorted(y.unique())\n",
    "mapping = {}\n",
    "for idx, label in enumerate(mapped_labels):\n",
    "    mapping[label] = idx\n",
    "y = y.map(mapping)  \n",
    "\n",
    "X_raw = df.drop(columns = [last_col])\n",
    "\n",
    "evaluate_dataset_repeated(\"wine_white\", X_raw, y)"
   ]
  },
  {
   "cell_type": "markdown",
   "id": "ba32ed49",
   "metadata": {},
   "source": [
    "## Yeast Data Set\n"
   ]
  },
  {
   "cell_type": "code",
   "execution_count": 6,
   "id": "22aa8a86",
   "metadata": {},
   "outputs": [
    {
     "data": {
      "text/html": [
       "<div>\n",
       "<style scoped>\n",
       "    .dataframe tbody tr th:only-of-type {\n",
       "        vertical-align: middle;\n",
       "    }\n",
       "\n",
       "    .dataframe tbody tr th {\n",
       "        vertical-align: top;\n",
       "    }\n",
       "\n",
       "    .dataframe thead th {\n",
       "        text-align: right;\n",
       "    }\n",
       "</style>\n",
       "<table border=\"1\" class=\"dataframe\">\n",
       "  <thead>\n",
       "    <tr style=\"text-align: right;\">\n",
       "      <th></th>\n",
       "      <th>1</th>\n",
       "      <th>2</th>\n",
       "      <th>3</th>\n",
       "      <th>4</th>\n",
       "      <th>5</th>\n",
       "      <th>6</th>\n",
       "      <th>7</th>\n",
       "      <th>8</th>\n",
       "      <th>9</th>\n",
       "    </tr>\n",
       "  </thead>\n",
       "  <tbody>\n",
       "    <tr>\n",
       "      <th>0</th>\n",
       "      <td>0.58</td>\n",
       "      <td>0.61</td>\n",
       "      <td>0.47</td>\n",
       "      <td>0.13</td>\n",
       "      <td>0.5</td>\n",
       "      <td>0.0</td>\n",
       "      <td>0.48</td>\n",
       "      <td>0.22</td>\n",
       "      <td>6</td>\n",
       "    </tr>\n",
       "    <tr>\n",
       "      <th>1</th>\n",
       "      <td>0.43</td>\n",
       "      <td>0.67</td>\n",
       "      <td>0.48</td>\n",
       "      <td>0.27</td>\n",
       "      <td>0.5</td>\n",
       "      <td>0.0</td>\n",
       "      <td>0.53</td>\n",
       "      <td>0.22</td>\n",
       "      <td>6</td>\n",
       "    </tr>\n",
       "    <tr>\n",
       "      <th>2</th>\n",
       "      <td>0.64</td>\n",
       "      <td>0.62</td>\n",
       "      <td>0.49</td>\n",
       "      <td>0.15</td>\n",
       "      <td>0.5</td>\n",
       "      <td>0.0</td>\n",
       "      <td>0.53</td>\n",
       "      <td>0.22</td>\n",
       "      <td>6</td>\n",
       "    </tr>\n",
       "    <tr>\n",
       "      <th>3</th>\n",
       "      <td>0.58</td>\n",
       "      <td>0.44</td>\n",
       "      <td>0.57</td>\n",
       "      <td>0.13</td>\n",
       "      <td>0.5</td>\n",
       "      <td>0.0</td>\n",
       "      <td>0.54</td>\n",
       "      <td>0.22</td>\n",
       "      <td>7</td>\n",
       "    </tr>\n",
       "    <tr>\n",
       "      <th>4</th>\n",
       "      <td>0.42</td>\n",
       "      <td>0.44</td>\n",
       "      <td>0.48</td>\n",
       "      <td>0.54</td>\n",
       "      <td>0.5</td>\n",
       "      <td>0.0</td>\n",
       "      <td>0.48</td>\n",
       "      <td>0.22</td>\n",
       "      <td>6</td>\n",
       "    </tr>\n",
       "    <tr>\n",
       "      <th>...</th>\n",
       "      <td>...</td>\n",
       "      <td>...</td>\n",
       "      <td>...</td>\n",
       "      <td>...</td>\n",
       "      <td>...</td>\n",
       "      <td>...</td>\n",
       "      <td>...</td>\n",
       "      <td>...</td>\n",
       "      <td>...</td>\n",
       "    </tr>\n",
       "    <tr>\n",
       "      <th>1479</th>\n",
       "      <td>0.81</td>\n",
       "      <td>0.62</td>\n",
       "      <td>0.43</td>\n",
       "      <td>0.17</td>\n",
       "      <td>0.5</td>\n",
       "      <td>0.0</td>\n",
       "      <td>0.53</td>\n",
       "      <td>0.22</td>\n",
       "      <td>4</td>\n",
       "    </tr>\n",
       "    <tr>\n",
       "      <th>1480</th>\n",
       "      <td>0.47</td>\n",
       "      <td>0.43</td>\n",
       "      <td>0.61</td>\n",
       "      <td>0.40</td>\n",
       "      <td>0.5</td>\n",
       "      <td>0.0</td>\n",
       "      <td>0.48</td>\n",
       "      <td>0.47</td>\n",
       "      <td>7</td>\n",
       "    </tr>\n",
       "    <tr>\n",
       "      <th>1481</th>\n",
       "      <td>0.67</td>\n",
       "      <td>0.57</td>\n",
       "      <td>0.36</td>\n",
       "      <td>0.19</td>\n",
       "      <td>0.5</td>\n",
       "      <td>0.0</td>\n",
       "      <td>0.56</td>\n",
       "      <td>0.22</td>\n",
       "      <td>4</td>\n",
       "    </tr>\n",
       "    <tr>\n",
       "      <th>1482</th>\n",
       "      <td>0.43</td>\n",
       "      <td>0.40</td>\n",
       "      <td>0.60</td>\n",
       "      <td>0.16</td>\n",
       "      <td>0.5</td>\n",
       "      <td>0.0</td>\n",
       "      <td>0.53</td>\n",
       "      <td>0.39</td>\n",
       "      <td>7</td>\n",
       "    </tr>\n",
       "    <tr>\n",
       "      <th>1483</th>\n",
       "      <td>0.65</td>\n",
       "      <td>0.54</td>\n",
       "      <td>0.54</td>\n",
       "      <td>0.13</td>\n",
       "      <td>0.5</td>\n",
       "      <td>0.0</td>\n",
       "      <td>0.53</td>\n",
       "      <td>0.22</td>\n",
       "      <td>0</td>\n",
       "    </tr>\n",
       "  </tbody>\n",
       "</table>\n",
       "<p>1484 rows × 9 columns</p>\n",
       "</div>"
      ],
      "text/plain": [
       "         1     2     3     4    5    6     7     8  9\n",
       "0     0.58  0.61  0.47  0.13  0.5  0.0  0.48  0.22  6\n",
       "1     0.43  0.67  0.48  0.27  0.5  0.0  0.53  0.22  6\n",
       "2     0.64  0.62  0.49  0.15  0.5  0.0  0.53  0.22  6\n",
       "3     0.58  0.44  0.57  0.13  0.5  0.0  0.54  0.22  7\n",
       "4     0.42  0.44  0.48  0.54  0.5  0.0  0.48  0.22  6\n",
       "...    ...   ...   ...   ...  ...  ...   ...   ... ..\n",
       "1479  0.81  0.62  0.43  0.17  0.5  0.0  0.53  0.22  4\n",
       "1480  0.47  0.43  0.61  0.40  0.5  0.0  0.48  0.47  7\n",
       "1481  0.67  0.57  0.36  0.19  0.5  0.0  0.56  0.22  4\n",
       "1482  0.43  0.40  0.60  0.16  0.5  0.0  0.53  0.39  7\n",
       "1483  0.65  0.54  0.54  0.13  0.5  0.0  0.53  0.22  0\n",
       "\n",
       "[1484 rows x 9 columns]"
      ]
     },
     "execution_count": 6,
     "metadata": {},
     "output_type": "execute_result"
    }
   ],
   "source": [
    "from sklearn.preprocessing import LabelEncoder\n",
    "\n",
    "df = pd.read_csv(\"https://archive.ics.uci.edu/ml/machine-learning-databases/yeast/yeast.data\",sep=\"\\s+\", header = None)\n",
    "\n",
    "df = df.drop(columns = [0])\n",
    "\n",
    "for col in [9]:\n",
    "    df[col] = LabelEncoder().fit_transform(df[col])\n",
    "\n",
    "df"
   ]
  },
  {
   "cell_type": "code",
   "execution_count": 7,
   "id": "509b2f61",
   "metadata": {},
   "outputs": [
    {
     "name": "stdout",
     "output_type": "stream",
     "text": [
      "benchmark took  1753.116238117218\n",
      "RMSE score\n"
     ]
    },
    {
     "data": {
      "text/html": [
       "<table>\n",
       "<thead>\n",
       "<tr><th>Scenario  </th><th style=\"text-align: right;\">  miss_pct [0, 1]</th><th style=\"text-align: right;\">  Our method</th><th style=\"text-align: right;\">    mean</th><th style=\"text-align: right;\">  sklearn_missforest</th><th style=\"text-align: right;\">  sklearn_ice</th><th style=\"text-align: right;\">    gain</th><th style=\"text-align: right;\">  sinkhorn</th><th style=\"text-align: right;\">  softimpute</th><th style=\"text-align: right;\">  miracle</th><th style=\"text-align: right;\">   miwae</th></tr>\n",
       "</thead>\n",
       "<tbody>\n",
       "<tr><td>MNAR      </td><td style=\"text-align: right;\">              0.1</td><td style=\"text-align: right;\">    0.125945</td><td style=\"text-align: right;\">0.138525</td><td style=\"text-align: right;\">            0.124456</td><td style=\"text-align: right;\">     0.124563</td><td style=\"text-align: right;\">0.130307</td><td style=\"text-align: right;\">  0.157895</td><td style=\"text-align: right;\">    0.140038</td><td style=\"text-align: right;\"> 0.125815</td><td style=\"text-align: right;\">0.14437 </td></tr>\n",
       "<tr><td>MNAR      </td><td style=\"text-align: right;\">              0.3</td><td style=\"text-align: right;\">    0.122669</td><td style=\"text-align: right;\">0.120924</td><td style=\"text-align: right;\">            0.138543</td><td style=\"text-align: right;\">     0.474408</td><td style=\"text-align: right;\">0.143974</td><td style=\"text-align: right;\">  0.146723</td><td style=\"text-align: right;\">    0.14805 </td><td style=\"text-align: right;\"> 0.116743</td><td style=\"text-align: right;\">0.211633</td></tr>\n",
       "<tr><td>MNAR      </td><td style=\"text-align: right;\">              0.5</td><td style=\"text-align: right;\">    0.143019</td><td style=\"text-align: right;\">0.117326</td><td style=\"text-align: right;\">            0.13094 </td><td style=\"text-align: right;\">     0.390336</td><td style=\"text-align: right;\">0.161258</td><td style=\"text-align: right;\">  0.142737</td><td style=\"text-align: right;\">    0.199797</td><td style=\"text-align: right;\"> 0.121093</td><td style=\"text-align: right;\">0.170488</td></tr>\n",
       "<tr><td>MNAR      </td><td style=\"text-align: right;\">              0.7</td><td style=\"text-align: right;\">    0.131071</td><td style=\"text-align: right;\">0.116965</td><td style=\"text-align: right;\">            0.189294</td><td style=\"text-align: right;\">     0.129047</td><td style=\"text-align: right;\">0.270225</td><td style=\"text-align: right;\">  0.143452</td><td style=\"text-align: right;\">    0.243708</td><td style=\"text-align: right;\"> 0.13265 </td><td style=\"text-align: right;\">0.189738</td></tr>\n",
       "<tr><td>MCAR      </td><td style=\"text-align: right;\">              0.1</td><td style=\"text-align: right;\">    0.102408</td><td style=\"text-align: right;\">0.110117</td><td style=\"text-align: right;\">            0.105621</td><td style=\"text-align: right;\">     0.102596</td><td style=\"text-align: right;\">0.112878</td><td style=\"text-align: right;\">  0.134744</td><td style=\"text-align: right;\">    0.117223</td><td style=\"text-align: right;\"> 0.103615</td><td style=\"text-align: right;\">0.180807</td></tr>\n",
       "<tr><td>MCAR      </td><td style=\"text-align: right;\">              0.3</td><td style=\"text-align: right;\">    0.12223 </td><td style=\"text-align: right;\">0.11964 </td><td style=\"text-align: right;\">            0.117849</td><td style=\"text-align: right;\">     0.114406</td><td style=\"text-align: right;\">0.12425 </td><td style=\"text-align: right;\">  0.141791</td><td style=\"text-align: right;\">    0.14305 </td><td style=\"text-align: right;\"> 0.116015</td><td style=\"text-align: right;\">0.149102</td></tr>\n",
       "<tr><td>MCAR      </td><td style=\"text-align: right;\">              0.5</td><td style=\"text-align: right;\">    0.227462</td><td style=\"text-align: right;\">0.11546 </td><td style=\"text-align: right;\">            0.132303</td><td style=\"text-align: right;\">     0.15258 </td><td style=\"text-align: right;\">0.148788</td><td style=\"text-align: right;\">  0.145145</td><td style=\"text-align: right;\">    0.166237</td><td style=\"text-align: right;\"> 0.116336</td><td style=\"text-align: right;\">0.206251</td></tr>\n",
       "<tr><td>MCAR      </td><td style=\"text-align: right;\">              0.7</td><td style=\"text-align: right;\">    0.123386</td><td style=\"text-align: right;\">0.118576</td><td style=\"text-align: right;\">            0.1414  </td><td style=\"text-align: right;\">     0.121886</td><td style=\"text-align: right;\">0.194473</td><td style=\"text-align: right;\">  0.149475</td><td style=\"text-align: right;\">    0.227563</td><td style=\"text-align: right;\"> 0.226918</td><td style=\"text-align: right;\">0.125716</td></tr>\n",
       "<tr><td>MAR       </td><td style=\"text-align: right;\">              0.1</td><td style=\"text-align: right;\">    0.128327</td><td style=\"text-align: right;\">0.139384</td><td style=\"text-align: right;\">            0.130077</td><td style=\"text-align: right;\">     0.135631</td><td style=\"text-align: right;\">0.168567</td><td style=\"text-align: right;\">  0.152255</td><td style=\"text-align: right;\">    0.276507</td><td style=\"text-align: right;\"> 0.130812</td><td style=\"text-align: right;\">0.241397</td></tr>\n",
       "<tr><td>MAR       </td><td style=\"text-align: right;\">              0.3</td><td style=\"text-align: right;\">    0.1234  </td><td style=\"text-align: right;\">0.132449</td><td style=\"text-align: right;\">            0.130485</td><td style=\"text-align: right;\">     0.122758</td><td style=\"text-align: right;\">0.135329</td><td style=\"text-align: right;\">  0.152172</td><td style=\"text-align: right;\">    0.139881</td><td style=\"text-align: right;\"> 0.126263</td><td style=\"text-align: right;\">0.200659</td></tr>\n",
       "<tr><td>MAR       </td><td style=\"text-align: right;\">              0.5</td><td style=\"text-align: right;\">    0.14551 </td><td style=\"text-align: right;\">0.132097</td><td style=\"text-align: right;\">            0.13422 </td><td style=\"text-align: right;\">     0.134277</td><td style=\"text-align: right;\">0.136151</td><td style=\"text-align: right;\">  0.142508</td><td style=\"text-align: right;\">    0.139624</td><td style=\"text-align: right;\"> 0.134903</td><td style=\"text-align: right;\">0.140296</td></tr>\n",
       "<tr><td>MAR       </td><td style=\"text-align: right;\">              0.7</td><td style=\"text-align: right;\">    0.205796</td><td style=\"text-align: right;\">0.121425</td><td style=\"text-align: right;\">            0.126156</td><td style=\"text-align: right;\">     0.752051</td><td style=\"text-align: right;\">0.123906</td><td style=\"text-align: right;\">  0.135053</td><td style=\"text-align: right;\">    0.120183</td><td style=\"text-align: right;\"> 0.16022 </td><td style=\"text-align: right;\">0.151631</td></tr>\n",
       "</tbody>\n",
       "</table>"
      ],
      "text/plain": [
       "<IPython.core.display.HTML object>"
      ]
     },
     "metadata": {},
     "output_type": "display_data"
    },
    {
     "name": "stdout",
     "output_type": "stream",
     "text": [
      "\n",
      "==========================================================\n",
      "\n",
      "Wasserstein score\n"
     ]
    },
    {
     "data": {
      "text/html": [
       "<table>\n",
       "<thead>\n",
       "<tr><th>Scenario  </th><th style=\"text-align: right;\">  miss_pct [0, 1]</th><th style=\"text-align: right;\">  Our method</th><th style=\"text-align: right;\">     mean</th><th style=\"text-align: right;\">  sklearn_missforest</th><th style=\"text-align: right;\">  sklearn_ice</th><th style=\"text-align: right;\">     gain</th><th style=\"text-align: right;\">  sinkhorn</th><th style=\"text-align: right;\">  softimpute</th><th style=\"text-align: right;\">  miracle</th><th style=\"text-align: right;\">    miwae</th></tr>\n",
       "</thead>\n",
       "<tbody>\n",
       "<tr><td>MNAR      </td><td style=\"text-align: right;\">              0.1</td><td style=\"text-align: right;\">   0.0435414</td><td style=\"text-align: right;\">0.0672621</td><td style=\"text-align: right;\">           0.0437175</td><td style=\"text-align: right;\">    0.0421781</td><td style=\"text-align: right;\">0.0452205</td><td style=\"text-align: right;\"> 0.0243323</td><td style=\"text-align: right;\">   0.0377831</td><td style=\"text-align: right;\">0.0509687</td><td style=\"text-align: right;\">0.0464627</td></tr>\n",
       "<tr><td>MNAR      </td><td style=\"text-align: right;\">              0.3</td><td style=\"text-align: right;\">   0.0734489</td><td style=\"text-align: right;\">0.17509  </td><td style=\"text-align: right;\">           0.114883 </td><td style=\"text-align: right;\">    0.167717 </td><td style=\"text-align: right;\">0.176139 </td><td style=\"text-align: right;\"> 0.0706597</td><td style=\"text-align: right;\">   0.113106 </td><td style=\"text-align: right;\">0.140562 </td><td style=\"text-align: right;\">0.198684 </td></tr>\n",
       "<tr><td>MNAR      </td><td style=\"text-align: right;\">              0.5</td><td style=\"text-align: right;\">   0.097977 </td><td style=\"text-align: right;\">0.294353 </td><td style=\"text-align: right;\">           0.139545 </td><td style=\"text-align: right;\">    0.251447 </td><td style=\"text-align: right;\">0.346287 </td><td style=\"text-align: right;\"> 0.126023 </td><td style=\"text-align: right;\">   0.266176 </td><td style=\"text-align: right;\">0.285289 </td><td style=\"text-align: right;\">0.187895 </td></tr>\n",
       "<tr><td>MNAR      </td><td style=\"text-align: right;\">              0.7</td><td style=\"text-align: right;\">   0.218443 </td><td style=\"text-align: right;\">0.40494  </td><td style=\"text-align: right;\">           0.310635 </td><td style=\"text-align: right;\">    0.298272 </td><td style=\"text-align: right;\">1.10663  </td><td style=\"text-align: right;\"> 0.175972 </td><td style=\"text-align: right;\">   0.630418 </td><td style=\"text-align: right;\">0.50876  </td><td style=\"text-align: right;\">0.248995 </td></tr>\n",
       "<tr><td>MCAR      </td><td style=\"text-align: right;\">              0.1</td><td style=\"text-align: right;\">   0.0376662</td><td style=\"text-align: right;\">0.0590753</td><td style=\"text-align: right;\">           0.0411014</td><td style=\"text-align: right;\">    0.0379584</td><td style=\"text-align: right;\">0.0438002</td><td style=\"text-align: right;\"> 0.0204809</td><td style=\"text-align: right;\">   0.0355375</td><td style=\"text-align: right;\">0.0471644</td><td style=\"text-align: right;\">0.034616 </td></tr>\n",
       "<tr><td>MCAR      </td><td style=\"text-align: right;\">              0.3</td><td style=\"text-align: right;\">   0.0693771</td><td style=\"text-align: right;\">0.175408 </td><td style=\"text-align: right;\">           0.0990736</td><td style=\"text-align: right;\">    0.103725 </td><td style=\"text-align: right;\">0.149387 </td><td style=\"text-align: right;\"> 0.0636714</td><td style=\"text-align: right;\">   0.10563  </td><td style=\"text-align: right;\">0.148063 </td><td style=\"text-align: right;\">0.10094  </td></tr>\n",
       "<tr><td>MCAR      </td><td style=\"text-align: right;\">              0.5</td><td style=\"text-align: right;\">   0.207005 </td><td style=\"text-align: right;\">0.289849 </td><td style=\"text-align: right;\">           0.143499 </td><td style=\"text-align: right;\">    0.207843 </td><td style=\"text-align: right;\">0.329727 </td><td style=\"text-align: right;\"> 0.114058 </td><td style=\"text-align: right;\">   0.209622 </td><td style=\"text-align: right;\">0.269919 </td><td style=\"text-align: right;\">0.338447 </td></tr>\n",
       "<tr><td>MCAR      </td><td style=\"text-align: right;\">              0.7</td><td style=\"text-align: right;\">   0.242141 </td><td style=\"text-align: right;\">0.404758 </td><td style=\"text-align: right;\">           0.230241 </td><td style=\"text-align: right;\">    0.279569 </td><td style=\"text-align: right;\">0.596333 </td><td style=\"text-align: right;\"> 0.176029 </td><td style=\"text-align: right;\">   0.588903 </td><td style=\"text-align: right;\">0.768945 </td><td style=\"text-align: right;\">0.263097 </td></tr>\n",
       "<tr><td>MAR       </td><td style=\"text-align: right;\">              0.1</td><td style=\"text-align: right;\">   0.0258716</td><td style=\"text-align: right;\">0.0386576</td><td style=\"text-align: right;\">           0.0264184</td><td style=\"text-align: right;\">    0.0226136</td><td style=\"text-align: right;\">0.0294993</td><td style=\"text-align: right;\"> 0.0158894</td><td style=\"text-align: right;\">   0.037025 </td><td style=\"text-align: right;\">0.0286939</td><td style=\"text-align: right;\">0.0193067</td></tr>\n",
       "<tr><td>MAR       </td><td style=\"text-align: right;\">              0.3</td><td style=\"text-align: right;\">   0.058119 </td><td style=\"text-align: right;\">0.0960556</td><td style=\"text-align: right;\">           0.0533997</td><td style=\"text-align: right;\">    0.056955 </td><td style=\"text-align: right;\">0.0821483</td><td style=\"text-align: right;\"> 0.0385997</td><td style=\"text-align: right;\">   0.0484831</td><td style=\"text-align: right;\">0.0703301</td><td style=\"text-align: right;\">0.0552522</td></tr>\n",
       "<tr><td>MAR       </td><td style=\"text-align: right;\">              0.5</td><td style=\"text-align: right;\">   0.0589682</td><td style=\"text-align: right;\">0.197798 </td><td style=\"text-align: right;\">           0.104998 </td><td style=\"text-align: right;\">    0.0918418</td><td style=\"text-align: right;\">0.162713 </td><td style=\"text-align: right;\"> 0.0557723</td><td style=\"text-align: right;\">   0.100506 </td><td style=\"text-align: right;\">0.167866 </td><td style=\"text-align: right;\">0.131888 </td></tr>\n",
       "<tr><td>MAR       </td><td style=\"text-align: right;\">              0.7</td><td style=\"text-align: right;\">   0.171472 </td><td style=\"text-align: right;\">0.169933 </td><td style=\"text-align: right;\">           0.13244  </td><td style=\"text-align: right;\">    0.17194  </td><td style=\"text-align: right;\">0.0792215</td><td style=\"text-align: right;\"> 0.108357 </td><td style=\"text-align: right;\">   0.116829 </td><td style=\"text-align: right;\">0.246109 </td><td style=\"text-align: right;\">0.089801 </td></tr>\n",
       "</tbody>\n",
       "</table>"
      ],
      "text/plain": [
       "<IPython.core.display.HTML object>"
      ]
     },
     "metadata": {},
     "output_type": "display_data"
    },
    {
     "name": "stdout",
     "output_type": "stream",
     "text": [
      "\n",
      "==========================================================\n",
      "\n",
      "Downstream model prediction error\n"
     ]
    },
    {
     "data": {
      "text/html": [
       "<table>\n",
       "<thead>\n",
       "<tr><th>Scenario  </th><th style=\"text-align: right;\">  miss_pct [0, 1]</th><th style=\"text-align: right;\">  Our method</th><th style=\"text-align: right;\">    mean</th><th style=\"text-align: right;\">  sklearn_missforest</th><th style=\"text-align: right;\">  sklearn_ice</th><th style=\"text-align: right;\">      gain</th><th style=\"text-align: right;\">  sinkhorn</th><th style=\"text-align: right;\">  softimpute</th><th style=\"text-align: right;\">  miracle</th><th style=\"text-align: right;\">    miwae</th></tr>\n",
       "</thead>\n",
       "<tbody>\n",
       "<tr><td>MNAR      </td><td style=\"text-align: right;\">              0.1</td><td style=\"text-align: right;\">    0.333842</td><td style=\"text-align: right;\">0.538279</td><td style=\"text-align: right;\">           -0.408829</td><td style=\"text-align: right;\">  -0.163807  </td><td style=\"text-align: right;\">-0.0273539</td><td style=\"text-align: right;\">-0.270486 </td><td style=\"text-align: right;\">   -0.220029</td><td style=\"text-align: right;\">-0.401102</td><td style=\"text-align: right;\">-0.105056</td></tr>\n",
       "<tr><td>MNAR      </td><td style=\"text-align: right;\">              0.3</td><td style=\"text-align: right;\">   -0.575868</td><td style=\"text-align: right;\">1.09426 </td><td style=\"text-align: right;\">            0.884959</td><td style=\"text-align: right;\">   0.832516  </td><td style=\"text-align: right;\"> 0.136983 </td><td style=\"text-align: right;\"> 0.834459 </td><td style=\"text-align: right;\">    1.21054 </td><td style=\"text-align: right;\"> 0.529605</td><td style=\"text-align: right;\">-0.644091</td></tr>\n",
       "<tr><td>MNAR      </td><td style=\"text-align: right;\">              0.5</td><td style=\"text-align: right;\">    1.09163 </td><td style=\"text-align: right;\">1.4047  </td><td style=\"text-align: right;\">            0.546397</td><td style=\"text-align: right;\">   0.0979955 </td><td style=\"text-align: right;\"> 0.486862 </td><td style=\"text-align: right;\"> 0.127368 </td><td style=\"text-align: right;\">    1.48724 </td><td style=\"text-align: right;\"> 1.0671  </td><td style=\"text-align: right;\"> 0.831851</td></tr>\n",
       "<tr><td>MNAR      </td><td style=\"text-align: right;\">              0.7</td><td style=\"text-align: right;\">    3.75583 </td><td style=\"text-align: right;\">3.79441 </td><td style=\"text-align: right;\">            2.2919  </td><td style=\"text-align: right;\">   2.81196   </td><td style=\"text-align: right;\"> 1.00333  </td><td style=\"text-align: right;\">-0.0093457</td><td style=\"text-align: right;\">   -0.304572</td><td style=\"text-align: right;\"> 2.04517 </td><td style=\"text-align: right;\">-0.137345</td></tr>\n",
       "<tr><td>MCAR      </td><td style=\"text-align: right;\">              0.1</td><td style=\"text-align: right;\">    0.038646</td><td style=\"text-align: right;\">0.345303</td><td style=\"text-align: right;\">            0.305334</td><td style=\"text-align: right;\">   0.223507  </td><td style=\"text-align: right;\"> 0.272635 </td><td style=\"text-align: right;\">-0.300882 </td><td style=\"text-align: right;\">    0.582269</td><td style=\"text-align: right;\"> 0.149741</td><td style=\"text-align: right;\">-0.925991</td></tr>\n",
       "<tr><td>MCAR      </td><td style=\"text-align: right;\">              0.3</td><td style=\"text-align: right;\">    0.086084</td><td style=\"text-align: right;\">1.40627 </td><td style=\"text-align: right;\">           -0.185991</td><td style=\"text-align: right;\">  -0.845075  </td><td style=\"text-align: right;\"> 0.585701 </td><td style=\"text-align: right;\">-0.100261 </td><td style=\"text-align: right;\">   -0.058128</td><td style=\"text-align: right;\">-0.57747 </td><td style=\"text-align: right;\">-1.38511 </td></tr>\n",
       "<tr><td>MCAR      </td><td style=\"text-align: right;\">              0.5</td><td style=\"text-align: right;\">    1.22857 </td><td style=\"text-align: right;\">3.90463 </td><td style=\"text-align: right;\">            1.79153 </td><td style=\"text-align: right;\">  -0.288388  </td><td style=\"text-align: right;\">-0.336008 </td><td style=\"text-align: right;\"> 0.210883 </td><td style=\"text-align: right;\">    2.17748 </td><td style=\"text-align: right;\"> 1.62608 </td><td style=\"text-align: right;\"> 1.43795 </td></tr>\n",
       "<tr><td>MCAR      </td><td style=\"text-align: right;\">              0.7</td><td style=\"text-align: right;\">    4.63469 </td><td style=\"text-align: right;\">6.47155 </td><td style=\"text-align: right;\">            5.22561 </td><td style=\"text-align: right;\">   1.36868   </td><td style=\"text-align: right;\"> 0.49681  </td><td style=\"text-align: right;\"> 1.15989  </td><td style=\"text-align: right;\">    1.67849 </td><td style=\"text-align: right;\"> 2.66846 </td><td style=\"text-align: right;\"> 0.505834</td></tr>\n",
       "<tr><td>MAR       </td><td style=\"text-align: right;\">              0.1</td><td style=\"text-align: right;\">    0.153869</td><td style=\"text-align: right;\">0.819711</td><td style=\"text-align: right;\">            0.579431</td><td style=\"text-align: right;\">   0.215426  </td><td style=\"text-align: right;\"> 0.249278 </td><td style=\"text-align: right;\"> 0.0124508</td><td style=\"text-align: right;\">    0.163121</td><td style=\"text-align: right;\"> 0.438526</td><td style=\"text-align: right;\"> 0.115126</td></tr>\n",
       "<tr><td>MAR       </td><td style=\"text-align: right;\">              0.3</td><td style=\"text-align: right;\">   -0.822019</td><td style=\"text-align: right;\">0.514985</td><td style=\"text-align: right;\">           -0.143287</td><td style=\"text-align: right;\">   0.205721  </td><td style=\"text-align: right;\">-0.0106678</td><td style=\"text-align: right;\"> 0.438263 </td><td style=\"text-align: right;\">    0.409718</td><td style=\"text-align: right;\"> 0.833489</td><td style=\"text-align: right;\"> 0.01622 </td></tr>\n",
       "<tr><td>MAR       </td><td style=\"text-align: right;\">              0.5</td><td style=\"text-align: right;\">    0.68959 </td><td style=\"text-align: right;\">2.07986 </td><td style=\"text-align: right;\">            0.74018 </td><td style=\"text-align: right;\">   0.262309  </td><td style=\"text-align: right;\"> 0.46528  </td><td style=\"text-align: right;\"> 1.09705  </td><td style=\"text-align: right;\">   -0.472637</td><td style=\"text-align: right;\"> 1.41687 </td><td style=\"text-align: right;\"> 1.64482 </td></tr>\n",
       "<tr><td>MAR       </td><td style=\"text-align: right;\">              0.7</td><td style=\"text-align: right;\">    0.735047</td><td style=\"text-align: right;\">2.3741  </td><td style=\"text-align: right;\">            1.19593 </td><td style=\"text-align: right;\">  -0.00510541</td><td style=\"text-align: right;\"> 0.539322 </td><td style=\"text-align: right;\"> 0.0606374</td><td style=\"text-align: right;\">    0.225828</td><td style=\"text-align: right;\"> 0.543583</td><td style=\"text-align: right;\"> 0.206509</td></tr>\n",
       "</tbody>\n",
       "</table>"
      ],
      "text/plain": [
       "<IPython.core.display.HTML object>"
      ]
     },
     "metadata": {},
     "output_type": "display_data"
    }
   ],
   "source": [
    "last_col = df.columns[-1]\n",
    "y = df[last_col]\n",
    "X_raw = df.drop(columns = [last_col])\n",
    "\n",
    "evaluate_dataset_repeated(\"yeast\", X_raw, y)"
   ]
  },
  {
   "cell_type": "code",
   "execution_count": null,
   "id": "c2927c6e",
   "metadata": {},
   "outputs": [],
   "source": []
  },
  {
   "cell_type": "markdown",
   "id": "74bb2e4a",
   "metadata": {},
   "source": [
    "## Diabetes\n"
   ]
  },
  {
   "cell_type": "code",
   "execution_count": 4,
   "id": "e373319d",
   "metadata": {},
   "outputs": [
    {
     "data": {
      "text/html": [
       "<div>\n",
       "<style scoped>\n",
       "    .dataframe tbody tr th:only-of-type {\n",
       "        vertical-align: middle;\n",
       "    }\n",
       "\n",
       "    .dataframe tbody tr th {\n",
       "        vertical-align: top;\n",
       "    }\n",
       "\n",
       "    .dataframe thead th {\n",
       "        text-align: right;\n",
       "    }\n",
       "</style>\n",
       "<table border=\"1\" class=\"dataframe\">\n",
       "  <thead>\n",
       "    <tr style=\"text-align: right;\">\n",
       "      <th></th>\n",
       "      <th>age</th>\n",
       "      <th>sex</th>\n",
       "      <th>bmi</th>\n",
       "      <th>bp</th>\n",
       "      <th>s1</th>\n",
       "      <th>s2</th>\n",
       "      <th>s3</th>\n",
       "      <th>s4</th>\n",
       "      <th>s5</th>\n",
       "      <th>s6</th>\n",
       "    </tr>\n",
       "  </thead>\n",
       "  <tbody>\n",
       "    <tr>\n",
       "      <th>0</th>\n",
       "      <td>0.038076</td>\n",
       "      <td>0.050680</td>\n",
       "      <td>0.061696</td>\n",
       "      <td>0.021872</td>\n",
       "      <td>-0.044223</td>\n",
       "      <td>-0.034821</td>\n",
       "      <td>-0.043401</td>\n",
       "      <td>-0.002592</td>\n",
       "      <td>0.019908</td>\n",
       "      <td>-0.017646</td>\n",
       "    </tr>\n",
       "    <tr>\n",
       "      <th>1</th>\n",
       "      <td>-0.001882</td>\n",
       "      <td>-0.044642</td>\n",
       "      <td>-0.051474</td>\n",
       "      <td>-0.026328</td>\n",
       "      <td>-0.008449</td>\n",
       "      <td>-0.019163</td>\n",
       "      <td>0.074412</td>\n",
       "      <td>-0.039493</td>\n",
       "      <td>-0.068330</td>\n",
       "      <td>-0.092204</td>\n",
       "    </tr>\n",
       "    <tr>\n",
       "      <th>2</th>\n",
       "      <td>0.085299</td>\n",
       "      <td>0.050680</td>\n",
       "      <td>0.044451</td>\n",
       "      <td>-0.005671</td>\n",
       "      <td>-0.045599</td>\n",
       "      <td>-0.034194</td>\n",
       "      <td>-0.032356</td>\n",
       "      <td>-0.002592</td>\n",
       "      <td>0.002864</td>\n",
       "      <td>-0.025930</td>\n",
       "    </tr>\n",
       "    <tr>\n",
       "      <th>3</th>\n",
       "      <td>-0.089063</td>\n",
       "      <td>-0.044642</td>\n",
       "      <td>-0.011595</td>\n",
       "      <td>-0.036656</td>\n",
       "      <td>0.012191</td>\n",
       "      <td>0.024991</td>\n",
       "      <td>-0.036038</td>\n",
       "      <td>0.034309</td>\n",
       "      <td>0.022692</td>\n",
       "      <td>-0.009362</td>\n",
       "    </tr>\n",
       "    <tr>\n",
       "      <th>4</th>\n",
       "      <td>0.005383</td>\n",
       "      <td>-0.044642</td>\n",
       "      <td>-0.036385</td>\n",
       "      <td>0.021872</td>\n",
       "      <td>0.003935</td>\n",
       "      <td>0.015596</td>\n",
       "      <td>0.008142</td>\n",
       "      <td>-0.002592</td>\n",
       "      <td>-0.031991</td>\n",
       "      <td>-0.046641</td>\n",
       "    </tr>\n",
       "    <tr>\n",
       "      <th>...</th>\n",
       "      <td>...</td>\n",
       "      <td>...</td>\n",
       "      <td>...</td>\n",
       "      <td>...</td>\n",
       "      <td>...</td>\n",
       "      <td>...</td>\n",
       "      <td>...</td>\n",
       "      <td>...</td>\n",
       "      <td>...</td>\n",
       "      <td>...</td>\n",
       "    </tr>\n",
       "    <tr>\n",
       "      <th>437</th>\n",
       "      <td>0.041708</td>\n",
       "      <td>0.050680</td>\n",
       "      <td>0.019662</td>\n",
       "      <td>0.059744</td>\n",
       "      <td>-0.005697</td>\n",
       "      <td>-0.002566</td>\n",
       "      <td>-0.028674</td>\n",
       "      <td>-0.002592</td>\n",
       "      <td>0.031193</td>\n",
       "      <td>0.007207</td>\n",
       "    </tr>\n",
       "    <tr>\n",
       "      <th>438</th>\n",
       "      <td>-0.005515</td>\n",
       "      <td>0.050680</td>\n",
       "      <td>-0.015906</td>\n",
       "      <td>-0.067642</td>\n",
       "      <td>0.049341</td>\n",
       "      <td>0.079165</td>\n",
       "      <td>-0.028674</td>\n",
       "      <td>0.034309</td>\n",
       "      <td>-0.018118</td>\n",
       "      <td>0.044485</td>\n",
       "    </tr>\n",
       "    <tr>\n",
       "      <th>439</th>\n",
       "      <td>0.041708</td>\n",
       "      <td>0.050680</td>\n",
       "      <td>-0.015906</td>\n",
       "      <td>0.017282</td>\n",
       "      <td>-0.037344</td>\n",
       "      <td>-0.013840</td>\n",
       "      <td>-0.024993</td>\n",
       "      <td>-0.011080</td>\n",
       "      <td>-0.046879</td>\n",
       "      <td>0.015491</td>\n",
       "    </tr>\n",
       "    <tr>\n",
       "      <th>440</th>\n",
       "      <td>-0.045472</td>\n",
       "      <td>-0.044642</td>\n",
       "      <td>0.039062</td>\n",
       "      <td>0.001215</td>\n",
       "      <td>0.016318</td>\n",
       "      <td>0.015283</td>\n",
       "      <td>-0.028674</td>\n",
       "      <td>0.026560</td>\n",
       "      <td>0.044528</td>\n",
       "      <td>-0.025930</td>\n",
       "    </tr>\n",
       "    <tr>\n",
       "      <th>441</th>\n",
       "      <td>-0.045472</td>\n",
       "      <td>-0.044642</td>\n",
       "      <td>-0.073030</td>\n",
       "      <td>-0.081414</td>\n",
       "      <td>0.083740</td>\n",
       "      <td>0.027809</td>\n",
       "      <td>0.173816</td>\n",
       "      <td>-0.039493</td>\n",
       "      <td>-0.004220</td>\n",
       "      <td>0.003064</td>\n",
       "    </tr>\n",
       "  </tbody>\n",
       "</table>\n",
       "<p>442 rows × 10 columns</p>\n",
       "</div>"
      ],
      "text/plain": [
       "          age       sex       bmi        bp        s1        s2        s3  \\\n",
       "0    0.038076  0.050680  0.061696  0.021872 -0.044223 -0.034821 -0.043401   \n",
       "1   -0.001882 -0.044642 -0.051474 -0.026328 -0.008449 -0.019163  0.074412   \n",
       "2    0.085299  0.050680  0.044451 -0.005671 -0.045599 -0.034194 -0.032356   \n",
       "3   -0.089063 -0.044642 -0.011595 -0.036656  0.012191  0.024991 -0.036038   \n",
       "4    0.005383 -0.044642 -0.036385  0.021872  0.003935  0.015596  0.008142   \n",
       "..        ...       ...       ...       ...       ...       ...       ...   \n",
       "437  0.041708  0.050680  0.019662  0.059744 -0.005697 -0.002566 -0.028674   \n",
       "438 -0.005515  0.050680 -0.015906 -0.067642  0.049341  0.079165 -0.028674   \n",
       "439  0.041708  0.050680 -0.015906  0.017282 -0.037344 -0.013840 -0.024993   \n",
       "440 -0.045472 -0.044642  0.039062  0.001215  0.016318  0.015283 -0.028674   \n",
       "441 -0.045472 -0.044642 -0.073030 -0.081414  0.083740  0.027809  0.173816   \n",
       "\n",
       "           s4        s5        s6  \n",
       "0   -0.002592  0.019908 -0.017646  \n",
       "1   -0.039493 -0.068330 -0.092204  \n",
       "2   -0.002592  0.002864 -0.025930  \n",
       "3    0.034309  0.022692 -0.009362  \n",
       "4   -0.002592 -0.031991 -0.046641  \n",
       "..        ...       ...       ...  \n",
       "437 -0.002592  0.031193  0.007207  \n",
       "438  0.034309 -0.018118  0.044485  \n",
       "439 -0.011080 -0.046879  0.015491  \n",
       "440  0.026560  0.044528 -0.025930  \n",
       "441 -0.039493 -0.004220  0.003064  \n",
       "\n",
       "[442 rows x 10 columns]"
      ]
     },
     "execution_count": 4,
     "metadata": {},
     "output_type": "execute_result"
    }
   ],
   "source": [
    "from sklearn.datasets import load_diabetes\n",
    "\n",
    "X, y = load_diabetes(as_frame = True, return_X_y = True)\n",
    "\n",
    "X"
   ]
  },
  {
   "cell_type": "code",
   "execution_count": 5,
   "id": "bd1572f8",
   "metadata": {},
   "outputs": [
    {
     "name": "stdout",
     "output_type": "stream",
     "text": [
      "benchmark took  1108.6461713314056\n",
      "RMSE score\n"
     ]
    },
    {
     "data": {
      "text/html": [
       "<table>\n",
       "<thead>\n",
       "<tr><th>Scenario  </th><th style=\"text-align: right;\">  miss_pct [0, 1]</th><th style=\"text-align: right;\">  Our method</th><th style=\"text-align: right;\">    mean</th><th style=\"text-align: right;\">  sklearn_missforest</th><th style=\"text-align: right;\">  sklearn_ice</th><th style=\"text-align: right;\">    gain</th><th style=\"text-align: right;\">  sinkhorn</th><th style=\"text-align: right;\">  softimpute</th><th style=\"text-align: right;\">  miracle</th><th style=\"text-align: right;\">   miwae</th></tr>\n",
       "</thead>\n",
       "<tbody>\n",
       "<tr><td>MNAR      </td><td style=\"text-align: right;\">              0.1</td><td style=\"text-align: right;\">    0.222286</td><td style=\"text-align: right;\">0.258611</td><td style=\"text-align: right;\">            0.207309</td><td style=\"text-align: right;\">     0.192466</td><td style=\"text-align: right;\">0.222272</td><td style=\"text-align: right;\">  0.317546</td><td style=\"text-align: right;\">    0.245276</td><td style=\"text-align: right;\"> 0.194138</td><td style=\"text-align: right;\">0.350423</td></tr>\n",
       "<tr><td>MNAR      </td><td style=\"text-align: right;\">              0.3</td><td style=\"text-align: right;\">    0.238452</td><td style=\"text-align: right;\">0.253043</td><td style=\"text-align: right;\">            0.215814</td><td style=\"text-align: right;\">     0.203783</td><td style=\"text-align: right;\">0.222732</td><td style=\"text-align: right;\">  0.289086</td><td style=\"text-align: right;\">    0.243985</td><td style=\"text-align: right;\"> 0.20139 </td><td style=\"text-align: right;\">0.273777</td></tr>\n",
       "<tr><td>MNAR      </td><td style=\"text-align: right;\">              0.5</td><td style=\"text-align: right;\">    0.303333</td><td style=\"text-align: right;\">0.250482</td><td style=\"text-align: right;\">            0.240296</td><td style=\"text-align: right;\">     0.243825</td><td style=\"text-align: right;\">0.24251 </td><td style=\"text-align: right;\">  0.267965</td><td style=\"text-align: right;\">    0.262982</td><td style=\"text-align: right;\"> 0.273621</td><td style=\"text-align: right;\">0.267322</td></tr>\n",
       "<tr><td>MNAR      </td><td style=\"text-align: right;\">              0.7</td><td style=\"text-align: right;\">    0.344291</td><td style=\"text-align: right;\">0.253511</td><td style=\"text-align: right;\">            0.276074</td><td style=\"text-align: right;\">     0.249656</td><td style=\"text-align: right;\">0.284133</td><td style=\"text-align: right;\">  0.249511</td><td style=\"text-align: right;\">    0.282974</td><td style=\"text-align: right;\"> 0.391341</td><td style=\"text-align: right;\">0.277253</td></tr>\n",
       "<tr><td>MCAR      </td><td style=\"text-align: right;\">              0.1</td><td style=\"text-align: right;\">    0.222616</td><td style=\"text-align: right;\">0.229916</td><td style=\"text-align: right;\">            0.205023</td><td style=\"text-align: right;\">     0.189248</td><td style=\"text-align: right;\">0.225382</td><td style=\"text-align: right;\">  0.268853</td><td style=\"text-align: right;\">    0.221326</td><td style=\"text-align: right;\"> 0.191103</td><td style=\"text-align: right;\">0.247555</td></tr>\n",
       "<tr><td>MCAR      </td><td style=\"text-align: right;\">              0.3</td><td style=\"text-align: right;\">    0.151096</td><td style=\"text-align: right;\">0.173332</td><td style=\"text-align: right;\">            0.142765</td><td style=\"text-align: right;\">     0.149044</td><td style=\"text-align: right;\">0.150582</td><td style=\"text-align: right;\">  0.148372</td><td style=\"text-align: right;\">    0.166595</td><td style=\"text-align: right;\"> 0.133709</td><td style=\"text-align: right;\">0.207213</td></tr>\n",
       "<tr><td>MCAR      </td><td style=\"text-align: right;\">              0.5</td><td style=\"text-align: right;\">    0.195569</td><td style=\"text-align: right;\">0.187574</td><td style=\"text-align: right;\">            0.173077</td><td style=\"text-align: right;\">     0.166205</td><td style=\"text-align: right;\">0.172847</td><td style=\"text-align: right;\">  0.166627</td><td style=\"text-align: right;\">    0.179487</td><td style=\"text-align: right;\"> 0.176458</td><td style=\"text-align: right;\">0.286744</td></tr>\n",
       "<tr><td>MCAR      </td><td style=\"text-align: right;\">              0.7</td><td style=\"text-align: right;\">    0.323852</td><td style=\"text-align: right;\">0.244087</td><td style=\"text-align: right;\">            0.261368</td><td style=\"text-align: right;\">     0.222087</td><td style=\"text-align: right;\">0.30203 </td><td style=\"text-align: right;\">  0.286302</td><td style=\"text-align: right;\">    0.265912</td><td style=\"text-align: right;\"> 0.503505</td><td style=\"text-align: right;\">0.263141</td></tr>\n",
       "<tr><td>MAR       </td><td style=\"text-align: right;\">              0.1</td><td style=\"text-align: right;\">    0.330602</td><td style=\"text-align: right;\">0.316601</td><td style=\"text-align: right;\">            0.302709</td><td style=\"text-align: right;\">     0.275914</td><td style=\"text-align: right;\">0.295659</td><td style=\"text-align: right;\">  0.385305</td><td style=\"text-align: right;\">    0.319713</td><td style=\"text-align: right;\"> 0.276921</td><td style=\"text-align: right;\">0.333016</td></tr>\n",
       "<tr><td>MAR       </td><td style=\"text-align: right;\">              0.3</td><td style=\"text-align: right;\">    0.126193</td><td style=\"text-align: right;\">0.182665</td><td style=\"text-align: right;\">            0.132853</td><td style=\"text-align: right;\">     0.125831</td><td style=\"text-align: right;\">0.157598</td><td style=\"text-align: right;\">  0.150815</td><td style=\"text-align: right;\">    0.163263</td><td style=\"text-align: right;\"> 0.128699</td><td style=\"text-align: right;\">0.196782</td></tr>\n",
       "<tr><td>MAR       </td><td style=\"text-align: right;\">              0.5</td><td style=\"text-align: right;\">    0.157845</td><td style=\"text-align: right;\">0.186788</td><td style=\"text-align: right;\">            0.153166</td><td style=\"text-align: right;\">     0.136834</td><td style=\"text-align: right;\">0.160771</td><td style=\"text-align: right;\">  0.158814</td><td style=\"text-align: right;\">    0.158586</td><td style=\"text-align: right;\"> 0.143115</td><td style=\"text-align: right;\">0.204737</td></tr>\n",
       "<tr><td>MAR       </td><td style=\"text-align: right;\">              0.7</td><td style=\"text-align: right;\">    0.147545</td><td style=\"text-align: right;\">0.183948</td><td style=\"text-align: right;\">            0.144987</td><td style=\"text-align: right;\">     0.128534</td><td style=\"text-align: right;\">0.150262</td><td style=\"text-align: right;\">  0.154032</td><td style=\"text-align: right;\">    0.183888</td><td style=\"text-align: right;\"> 0.224994</td><td style=\"text-align: right;\">0.214143</td></tr>\n",
       "</tbody>\n",
       "</table>"
      ],
      "text/plain": [
       "<IPython.core.display.HTML object>"
      ]
     },
     "metadata": {},
     "output_type": "display_data"
    },
    {
     "name": "stdout",
     "output_type": "stream",
     "text": [
      "\n",
      "==========================================================\n",
      "\n",
      "Wasserstein score\n"
     ]
    },
    {
     "data": {
      "text/html": [
       "<table>\n",
       "<thead>\n",
       "<tr><th>Scenario  </th><th style=\"text-align: right;\">  miss_pct [0, 1]</th><th style=\"text-align: right;\">  Our method</th><th style=\"text-align: right;\">    mean</th><th style=\"text-align: right;\">  sklearn_missforest</th><th style=\"text-align: right;\">  sklearn_ice</th><th style=\"text-align: right;\">     gain</th><th style=\"text-align: right;\">  sinkhorn</th><th style=\"text-align: right;\">  softimpute</th><th style=\"text-align: right;\">  miracle</th><th style=\"text-align: right;\">    miwae</th></tr>\n",
       "</thead>\n",
       "<tbody>\n",
       "<tr><td>MNAR      </td><td style=\"text-align: right;\">              0.1</td><td style=\"text-align: right;\">   0.0469299</td><td style=\"text-align: right;\">0.153246</td><td style=\"text-align: right;\">           0.0729738</td><td style=\"text-align: right;\">    0.0637556</td><td style=\"text-align: right;\">0.0741792</td><td style=\"text-align: right;\"> 0.102312 </td><td style=\"text-align: right;\">   0.0712301</td><td style=\"text-align: right;\">0.0657199</td><td style=\"text-align: right;\">0.136464 </td></tr>\n",
       "<tr><td>MNAR      </td><td style=\"text-align: right;\">              0.3</td><td style=\"text-align: right;\">   0.109953 </td><td style=\"text-align: right;\">0.481376</td><td style=\"text-align: right;\">           0.237646 </td><td style=\"text-align: right;\">    0.176171 </td><td style=\"text-align: right;\">0.256243 </td><td style=\"text-align: right;\"> 0.263264 </td><td style=\"text-align: right;\">   0.230681 </td><td style=\"text-align: right;\">0.218274 </td><td style=\"text-align: right;\">0.254482 </td></tr>\n",
       "<tr><td>MNAR      </td><td style=\"text-align: right;\">              0.5</td><td style=\"text-align: right;\">   0.338342 </td><td style=\"text-align: right;\">0.790299</td><td style=\"text-align: right;\">           0.272211 </td><td style=\"text-align: right;\">    0.348411 </td><td style=\"text-align: right;\">0.553691 </td><td style=\"text-align: right;\"> 0.399136 </td><td style=\"text-align: right;\">   0.34895  </td><td style=\"text-align: right;\">0.545561 </td><td style=\"text-align: right;\">0.544419 </td></tr>\n",
       "<tr><td>MNAR      </td><td style=\"text-align: right;\">              0.7</td><td style=\"text-align: right;\">   0.559856 </td><td style=\"text-align: right;\">1.101   </td><td style=\"text-align: right;\">           0.488051 </td><td style=\"text-align: right;\">    0.531964 </td><td style=\"text-align: right;\">0.776831 </td><td style=\"text-align: right;\"> 0.519599 </td><td style=\"text-align: right;\">   0.547205 </td><td style=\"text-align: right;\">0.927716 </td><td style=\"text-align: right;\">0.724568 </td></tr>\n",
       "<tr><td>MCAR      </td><td style=\"text-align: right;\">              0.1</td><td style=\"text-align: right;\">   0.0384297</td><td style=\"text-align: right;\">0.142666</td><td style=\"text-align: right;\">           0.0691897</td><td style=\"text-align: right;\">    0.0604959</td><td style=\"text-align: right;\">0.0827683</td><td style=\"text-align: right;\"> 0.0594415</td><td style=\"text-align: right;\">   0.0698783</td><td style=\"text-align: right;\">0.0662842</td><td style=\"text-align: right;\">0.0974609</td></tr>\n",
       "<tr><td>MCAR      </td><td style=\"text-align: right;\">              0.3</td><td style=\"text-align: right;\">   0.0818189</td><td style=\"text-align: right;\">0.334039</td><td style=\"text-align: right;\">           0.117347 </td><td style=\"text-align: right;\">    0.0875486</td><td style=\"text-align: right;\">0.149664 </td><td style=\"text-align: right;\"> 0.102048 </td><td style=\"text-align: right;\">   0.124006 </td><td style=\"text-align: right;\">0.124035 </td><td style=\"text-align: right;\">0.124664 </td></tr>\n",
       "<tr><td>MCAR      </td><td style=\"text-align: right;\">              0.5</td><td style=\"text-align: right;\">   0.177118 </td><td style=\"text-align: right;\">0.610403</td><td style=\"text-align: right;\">           0.200746 </td><td style=\"text-align: right;\">    0.2027   </td><td style=\"text-align: right;\">0.365513 </td><td style=\"text-align: right;\"> 0.223856 </td><td style=\"text-align: right;\">   0.250454 </td><td style=\"text-align: right;\">0.341473 </td><td style=\"text-align: right;\">0.230906 </td></tr>\n",
       "<tr><td>MCAR      </td><td style=\"text-align: right;\">              0.7</td><td style=\"text-align: right;\">   0.309347 </td><td style=\"text-align: right;\">1.03505 </td><td style=\"text-align: right;\">           0.354639 </td><td style=\"text-align: right;\">    0.540964 </td><td style=\"text-align: right;\">0.98299  </td><td style=\"text-align: right;\"> 0.566729 </td><td style=\"text-align: right;\">   0.476189 </td><td style=\"text-align: right;\">1.87154  </td><td style=\"text-align: right;\">0.567891 </td></tr>\n",
       "<tr><td>MAR       </td><td style=\"text-align: right;\">              0.1</td><td style=\"text-align: right;\">   0.0466857</td><td style=\"text-align: right;\">0.102145</td><td style=\"text-align: right;\">           0.0592968</td><td style=\"text-align: right;\">    0.0537279</td><td style=\"text-align: right;\">0.0597768</td><td style=\"text-align: right;\"> 0.0456732</td><td style=\"text-align: right;\">   0.0629418</td><td style=\"text-align: right;\">0.0543772</td><td style=\"text-align: right;\">0.0756726</td></tr>\n",
       "<tr><td>MAR       </td><td style=\"text-align: right;\">              0.3</td><td style=\"text-align: right;\">   0.0576067</td><td style=\"text-align: right;\">0.166087</td><td style=\"text-align: right;\">           0.0629178</td><td style=\"text-align: right;\">    0.0608146</td><td style=\"text-align: right;\">0.0994516</td><td style=\"text-align: right;\"> 0.0609499</td><td style=\"text-align: right;\">   0.0976604</td><td style=\"text-align: right;\">0.0726027</td><td style=\"text-align: right;\">0.0575837</td></tr>\n",
       "<tr><td>MAR       </td><td style=\"text-align: right;\">              0.5</td><td style=\"text-align: right;\">   0.0873941</td><td style=\"text-align: right;\">0.282765</td><td style=\"text-align: right;\">           0.0910881</td><td style=\"text-align: right;\">    0.0754356</td><td style=\"text-align: right;\">0.163569 </td><td style=\"text-align: right;\"> 0.119496 </td><td style=\"text-align: right;\">   0.132778 </td><td style=\"text-align: right;\">0.154177 </td><td style=\"text-align: right;\">0.170486 </td></tr>\n",
       "<tr><td>MAR       </td><td style=\"text-align: right;\">              0.7</td><td style=\"text-align: right;\">   0.115391 </td><td style=\"text-align: right;\">0.406877</td><td style=\"text-align: right;\">           0.119517 </td><td style=\"text-align: right;\">    0.107485 </td><td style=\"text-align: right;\">0.167605 </td><td style=\"text-align: right;\"> 0.220869 </td><td style=\"text-align: right;\">   0.227531 </td><td style=\"text-align: right;\">0.448699 </td><td style=\"text-align: right;\">0.246675 </td></tr>\n",
       "</tbody>\n",
       "</table>"
      ],
      "text/plain": [
       "<IPython.core.display.HTML object>"
      ]
     },
     "metadata": {},
     "output_type": "display_data"
    },
    {
     "name": "stdout",
     "output_type": "stream",
     "text": [
      "\n",
      "==========================================================\n",
      "\n",
      "Downstream model prediction error\n"
     ]
    },
    {
     "data": {
      "text/html": [
       "<table>\n",
       "<thead>\n",
       "<tr><th>Scenario  </th><th style=\"text-align: right;\">  miss_pct [0, 1]</th><th style=\"text-align: right;\">  Our method</th><th style=\"text-align: right;\">    mean</th><th style=\"text-align: right;\">  sklearn_missforest</th><th style=\"text-align: right;\">  sklearn_ice</th><th style=\"text-align: right;\">      gain</th><th style=\"text-align: right;\">  sinkhorn</th><th style=\"text-align: right;\">  softimpute</th><th style=\"text-align: right;\">  miracle</th><th style=\"text-align: right;\">    miwae</th></tr>\n",
       "</thead>\n",
       "<tbody>\n",
       "<tr><td>MNAR      </td><td style=\"text-align: right;\">              0.1</td><td style=\"text-align: right;\">    -325.036</td><td style=\"text-align: right;\">-864.114</td><td style=\"text-align: right;\">            -339.023</td><td style=\"text-align: right;\">      95.8308</td><td style=\"text-align: right;\">-420.316  </td><td style=\"text-align: right;\">   149.551</td><td style=\"text-align: right;\">     200.118</td><td style=\"text-align: right;\">  170.937</td><td style=\"text-align: right;\">-256.16  </td></tr>\n",
       "<tr><td>MNAR      </td><td style=\"text-align: right;\">              0.3</td><td style=\"text-align: right;\">    -146.815</td><td style=\"text-align: right;\"> 119.157</td><td style=\"text-align: right;\">            -114.473</td><td style=\"text-align: right;\">     171.962 </td><td style=\"text-align: right;\">1004.1    </td><td style=\"text-align: right;\">  -355.237</td><td style=\"text-align: right;\">    -276.54 </td><td style=\"text-align: right;\">  344.523</td><td style=\"text-align: right;\"> 394.528 </td></tr>\n",
       "<tr><td>MNAR      </td><td style=\"text-align: right;\">              0.5</td><td style=\"text-align: right;\">    1051.91 </td><td style=\"text-align: right;\">1059.82 </td><td style=\"text-align: right;\">             587.53 </td><td style=\"text-align: right;\">     -35.1043</td><td style=\"text-align: right;\">  91.2758 </td><td style=\"text-align: right;\">  -467.944</td><td style=\"text-align: right;\">    -236.901</td><td style=\"text-align: right;\"> -735.295</td><td style=\"text-align: right;\">-444.136 </td></tr>\n",
       "<tr><td>MNAR      </td><td style=\"text-align: right;\">              0.7</td><td style=\"text-align: right;\">     639.678</td><td style=\"text-align: right;\">1138.42 </td><td style=\"text-align: right;\">             811.315</td><td style=\"text-align: right;\">    -687.703 </td><td style=\"text-align: right;\"> 737.055  </td><td style=\"text-align: right;\">   364.014</td><td style=\"text-align: right;\">     586.555</td><td style=\"text-align: right;\">  776.966</td><td style=\"text-align: right;\"> 356.153 </td></tr>\n",
       "<tr><td>MCAR      </td><td style=\"text-align: right;\">              0.1</td><td style=\"text-align: right;\">    -121.636</td><td style=\"text-align: right;\">-379.81 </td><td style=\"text-align: right;\">            -295.321</td><td style=\"text-align: right;\">    -599.168 </td><td style=\"text-align: right;\"> -61.5442 </td><td style=\"text-align: right;\">  -174.726</td><td style=\"text-align: right;\">     301.752</td><td style=\"text-align: right;\">  174.434</td><td style=\"text-align: right;\"> 140.785 </td></tr>\n",
       "<tr><td>MCAR      </td><td style=\"text-align: right;\">              0.3</td><td style=\"text-align: right;\">    -376.672</td><td style=\"text-align: right;\"> 104.626</td><td style=\"text-align: right;\">            -339.398</td><td style=\"text-align: right;\">    -540.824 </td><td style=\"text-align: right;\"> 334.725  </td><td style=\"text-align: right;\">  -135.747</td><td style=\"text-align: right;\">     339.069</td><td style=\"text-align: right;\">  468.572</td><td style=\"text-align: right;\">  34.6182</td></tr>\n",
       "<tr><td>MCAR      </td><td style=\"text-align: right;\">              0.5</td><td style=\"text-align: right;\">    -132.582</td><td style=\"text-align: right;\">1376.02 </td><td style=\"text-align: right;\">             373.641</td><td style=\"text-align: right;\">     808.288 </td><td style=\"text-align: right;\"> 239.636  </td><td style=\"text-align: right;\">   388.16 </td><td style=\"text-align: right;\">    1880.01 </td><td style=\"text-align: right;\">  503.429</td><td style=\"text-align: right;\"> 215.095 </td></tr>\n",
       "<tr><td>MCAR      </td><td style=\"text-align: right;\">              0.7</td><td style=\"text-align: right;\">     981.332</td><td style=\"text-align: right;\">4824    </td><td style=\"text-align: right;\">            2133.63 </td><td style=\"text-align: right;\">    2609.51  </td><td style=\"text-align: right;\">1066.92   </td><td style=\"text-align: right;\">  1663.97 </td><td style=\"text-align: right;\">    1607.16 </td><td style=\"text-align: right;\"> 2318.03 </td><td style=\"text-align: right;\"> 360.839 </td></tr>\n",
       "<tr><td>MAR       </td><td style=\"text-align: right;\">              0.1</td><td style=\"text-align: right;\">     304.113</td><td style=\"text-align: right;\">-366.073</td><td style=\"text-align: right;\">            -299.474</td><td style=\"text-align: right;\">    -566.946 </td><td style=\"text-align: right;\">   9.13203</td><td style=\"text-align: right;\">  -195.649</td><td style=\"text-align: right;\">    -255.315</td><td style=\"text-align: right;\">  110.042</td><td style=\"text-align: right;\">  98.1373</td></tr>\n",
       "<tr><td>MAR       </td><td style=\"text-align: right;\">              0.3</td><td style=\"text-align: right;\">     402.979</td><td style=\"text-align: right;\"> 276.052</td><td style=\"text-align: right;\">            -362.258</td><td style=\"text-align: right;\">     791.25  </td><td style=\"text-align: right;\">  83.7996 </td><td style=\"text-align: right;\">   284.527</td><td style=\"text-align: right;\">     115.899</td><td style=\"text-align: right;\"> -869.057</td><td style=\"text-align: right;\"> 707.78  </td></tr>\n",
       "<tr><td>MAR       </td><td style=\"text-align: right;\">              0.5</td><td style=\"text-align: right;\">     220.095</td><td style=\"text-align: right;\"> 953.535</td><td style=\"text-align: right;\">             348.639</td><td style=\"text-align: right;\">     165.317 </td><td style=\"text-align: right;\"> -57.1497 </td><td style=\"text-align: right;\">  -169.41 </td><td style=\"text-align: right;\">     659.165</td><td style=\"text-align: right;\">  191.039</td><td style=\"text-align: right;\">-430.098 </td></tr>\n",
       "<tr><td>MAR       </td><td style=\"text-align: right;\">              0.7</td><td style=\"text-align: right;\">     268.222</td><td style=\"text-align: right;\">1224.44 </td><td style=\"text-align: right;\">            -239.386</td><td style=\"text-align: right;\">     572.872 </td><td style=\"text-align: right;\"> 585.662  </td><td style=\"text-align: right;\">   448.91 </td><td style=\"text-align: right;\">    -219.988</td><td style=\"text-align: right;\">  893.872</td><td style=\"text-align: right;\"> 672.204 </td></tr>\n",
       "</tbody>\n",
       "</table>"
      ],
      "text/plain": [
       "<IPython.core.display.HTML object>"
      ]
     },
     "metadata": {},
     "output_type": "display_data"
    }
   ],
   "source": [
    "evaluate_dataset_repeated(\"diabetes\", X, y)"
   ]
  },
  {
   "cell_type": "markdown",
   "id": "668a31f9",
   "metadata": {},
   "source": [
    "## Iris\n"
   ]
  },
  {
   "cell_type": "code",
   "execution_count": null,
   "id": "dab4e85f",
   "metadata": {},
   "outputs": [],
   "source": [
    "from sklearn.datasets import load_iris\n",
    "\n",
    "X, y = load_iris(as_frame = True, return_X_y = True)\n",
    "\n",
    "X"
   ]
  },
  {
   "cell_type": "code",
   "execution_count": null,
   "id": "2481a432",
   "metadata": {},
   "outputs": [],
   "source": [
    "evaluate_dataset_repeated(\"iris\", X, y)"
   ]
  },
  {
   "cell_type": "markdown",
   "id": "548637d8",
   "metadata": {},
   "source": [
    "# Conclusion\n"
   ]
  },
  {
   "cell_type": "code",
   "execution_count": null,
   "id": "73b8e05b",
   "metadata": {},
   "outputs": [],
   "source": []
  }
 ],
 "metadata": {
  "kernelspec": {
   "display_name": "py38",
   "language": "python",
   "name": "py38"
  },
  "language_info": {
   "codemirror_mode": {
    "name": "ipython",
    "version": 3
   },
   "file_extension": ".py",
   "mimetype": "text/x-python",
   "name": "python",
   "nbconvert_exporter": "python",
   "pygments_lexer": "ipython3",
   "version": "3.8.12"
  }
 },
 "nbformat": 4,
 "nbformat_minor": 5
}
