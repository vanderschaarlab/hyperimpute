{
 "cells": [
  {
   "cell_type": "markdown",
   "id": "molecular-moscow",
   "metadata": {},
   "source": [
    "# Simulating multiple imputation"
   ]
  },
  {
   "cell_type": "markdown",
   "id": "corrected-basis",
   "metadata": {},
   "source": [
    "You can simulate multiple imputation using HyperImpute, using multiple random seeds."
   ]
  },
  {
   "cell_type": "markdown",
   "id": "auburn-hygiene",
   "metadata": {},
   "source": [
    "### Setup"
   ]
  },
  {
   "cell_type": "code",
   "execution_count": 1,
   "id": "wanted-point",
   "metadata": {},
   "outputs": [],
   "source": [
    "import sys\n",
    "import warnings\n",
    "\n",
    "import numpy as np\n",
    "import pandas as pd\n",
    "\n",
    "from hyperimpute.plugins.utils.metrics import RMSE\n",
    "from hyperimpute.plugins.utils.simulate import simulate_nan\n",
    "\n",
    "\n",
    "from IPython.display import HTML, display\n",
    "import tabulate\n",
    "\n",
    "if not sys.warnoptions:\n",
    "    warnings.simplefilter(\"ignore\")"
   ]
  },
  {
   "cell_type": "markdown",
   "id": "devoted-console",
   "metadata": {},
   "source": [
    "### Loading the Imputation plugins\n",
    "\n",
    "Make sure that you have installed HyperImpute in your workspace.\n",
    "\n",
    "You can do that by running `pip install .` in the root of the repository."
   ]
  },
  {
   "cell_type": "code",
   "execution_count": 2,
   "id": "coated-innocent",
   "metadata": {},
   "outputs": [],
   "source": [
    "from hyperimpute.plugins.imputers import Imputers, ImputerPlugin\n",
    "\n",
    "imputers = Imputers()"
   ]
  },
  {
   "cell_type": "markdown",
   "id": "advance-expert",
   "metadata": {},
   "source": [
    "### Load the dataset"
   ]
  },
  {
   "cell_type": "code",
   "execution_count": 7,
   "id": "preceding-vermont",
   "metadata": {},
   "outputs": [],
   "source": [
    "import pandas as pd\n",
    "from sklearn.preprocessing import LabelEncoder\n",
    "from sklearn.model_selection import train_test_split\n",
    "\n",
    "# third party\n",
    "from pathlib import Path\n",
    "def download_dataset() -> pd.DataFrame:\n",
    "    Path(\"data\").mkdir(parents=True, exist_ok=True)\n",
    "    bkp_file = Path(\"data\") / \"anneal.csv\"\n",
    "    \n",
    "    if bkp_file.exists():\n",
    "        return pd.read_csv(bkp_file)\n",
    "    \n",
    "    df = pd.read_csv(\n",
    "        \"https://archive.ics.uci.edu/ml/machine-learning-databases/annealing/anneal.data\",\n",
    "         header=None,\n",
    "    )\n",
    "    df.to_csv(bkp_file, index = None)\n",
    "    \n",
    "    return df\n",
    "\n",
    "def dataset(random_state: int = 0) -> pd.DataFrame:\n",
    "    df = download_dataset()\n",
    "    df = df.replace('?', np.nan)\n",
    "\n",
    "    for col in df.columns:\n",
    "        df.loc[df[col].notna(), col] = LabelEncoder().fit_transform(df.loc[df[col].notna(), col] )\n",
    "\n",
    "    drop = []\n",
    "    for col in df.columns:\n",
    "        if len(df.loc[df[col].notna(), col].unique()) <= 1:\n",
    "            drop.append(col)\n",
    "            \n",
    "    df = df.drop(columns = drop).astype(float)\n",
    "    X = df.drop(columns = [df.columns[-1]])\n",
    "    y = df[df.columns[-1]]\n",
    "\n",
    "    X = pd.DataFrame(X)\n",
    "    y = pd.Series(y)\n",
    "\n",
    "    X.columns = X.columns.astype(str)\n",
    "    return train_test_split(X, y, test_size=0.2, stratify = y, random_state = random_state)\n",
    "\n",
    "\n",
    "def ampute(x, mechanism, p_miss):\n",
    "    x_simulated = simulate_nan(np.asarray(x), p_miss, mechanism)\n",
    "\n",
    "    mask = x_simulated[\"mask\"]\n",
    "    x_miss = x_simulated[\"X_incomp\"]\n",
    "\n",
    "    return pd.DataFrame(x), pd.DataFrame(x_miss, columns = x.columns), pd.DataFrame(mask, columns = x.columns)"
   ]
  },
  {
   "cell_type": "code",
   "execution_count": 8,
   "id": "chief-jimmy",
   "metadata": {},
   "outputs": [],
   "source": [
    "ampute_mechanism = \"MCAR\"\n",
    "p_miss = 0.5"
   ]
  },
  {
   "cell_type": "markdown",
   "id": "b331e636",
   "metadata": {},
   "source": [
    "## Load model"
   ]
  },
  {
   "cell_type": "code",
   "execution_count": 12,
   "id": "42971b3b",
   "metadata": {},
   "outputs": [],
   "source": [
    "from sklearn import metrics\n",
    "from hyperimpute.plugins.imputers import Imputers, ImputerPlugin\n",
    "import xgboost as xgb\n",
    "\n",
    "\n",
    "metrics_headers = [\"Seed\", \"AUROC\"]\n",
    "test_score = []\n",
    "\n",
    "def get_metrics(X_train, y_train, X_test, y_test):\n",
    "    xgb_clf = xgb.XGBClassifier(verbosity=0)\n",
    "    xgb_clf = xgb_clf.fit(X_train, y_train)\n",
    "\n",
    "    y_pred = xgb_clf.predict_proba(X_test)\n",
    "\n",
    "    auroc = metrics.roc_auc_score(\n",
    "        y_test,\n",
    "        y_pred,\n",
    "        multi_class=\"ovr\",\n",
    "    )\n",
    "\n",
    "    return auroc\n",
    "\n",
    "plugin = \"ice\"\n",
    "\n",
    "for seed in range(5):\n",
    "    X_train, X_test, y_train, y_test = dataset(random_state = seed)\n",
    "    x, x_miss, mask = ampute(X_train, ampute_mechanism, p_miss)\n",
    "\n",
    "    model = Imputers().get(plugin, random_state = seed)\n",
    "    X_train_imp = model.fit_transform(x_miss.copy()).astype(float)\n",
    "    \n",
    "    drop = []\n",
    "    for col in X_test.columns:\n",
    "        if col not in X_train_imp.columns:\n",
    "            drop.append(col)\n",
    "            \n",
    "    X_test_eval = X_test.drop(columns = drop)\n",
    "    assert X_train_imp.shape[1] == X_test_eval.shape[1]\n",
    "    auroc = get_metrics(X_train_imp, y_train, X_test_eval, y_test)\n",
    "\n",
    "    test_score.append([seed, auroc])  "
   ]
  },
  {
   "cell_type": "code",
   "execution_count": null,
   "id": "10301aea",
   "metadata": {},
   "outputs": [],
   "source": [
    "display(\n",
    "    HTML(\n",
    "        tabulate.tabulate(test_score, headers=metrics_headers, tablefmt=\"html\")\n",
    "    )\n",
    ")"
   ]
  }
 ],
 "metadata": {
  "kernelspec": {
   "display_name": "Python 3 (ipykernel)",
   "language": "python",
   "name": "python3"
  },
  "language_info": {
   "codemirror_mode": {
    "name": "ipython",
    "version": 3
   },
   "file_extension": ".py",
   "mimetype": "text/x-python",
   "name": "python",
   "nbconvert_exporter": "python",
   "pygments_lexer": "ipython3",
   "version": "3.9.15"
  }
 },
 "nbformat": 4,
 "nbformat_minor": 5
}
