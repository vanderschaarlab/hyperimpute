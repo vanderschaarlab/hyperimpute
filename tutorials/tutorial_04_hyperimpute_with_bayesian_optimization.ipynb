{
 "cells": [
  {
   "cell_type": "code",
   "execution_count": 1,
   "id": "2b69b924",
   "metadata": {},
   "outputs": [
    {
     "name": "stdout",
     "output_type": "stream",
     "text": [
      "WARNING:tensorflow:From /code/anaconda3/envs/py38/lib/python3.8/site-packages/tensorflow/python/compat/v2_compat.py:111: disable_resource_variables (from tensorflow.python.ops.variable_scope) is deprecated and will be removed in a future version.\n",
      "Instructions for updating:\n",
      "non-resource variables are not supported in the long term\n"
     ]
    }
   ],
   "source": [
    "import copy\n",
    "import os\n",
    "import time\n",
    "import random\n",
    "import sys\n",
    "import warnings\n",
    "\n",
    "import numpy as np\n",
    "import pandas as pd\n",
    "from typing import Any\n",
    "\n",
    "\n",
    "from hyperimpute.plugins.imputers import Imputers\n",
    "from hyperimpute.utils.distributions import enable_reproducible_results\n",
    "import hyperimpute.logger as log\n",
    "\n",
    "from benchmark_imputation import evaluate_dataset_repeated_internal\n",
    "\n",
    "from IPython.display import HTML, display\n",
    "import tabulate\n",
    "\n",
    "import json\n",
    "\n",
    "warnings.filterwarnings('ignore')\n",
    "enable_reproducible_results()\n",
    "\n",
    "imputers = Imputers()\n",
    "log.add(sink=sys.stderr, level=\"INFO\")"
   ]
  },
  {
   "cell_type": "code",
   "execution_count": 2,
   "id": "fa238824",
   "metadata": {},
   "outputs": [],
   "source": [
    "from pathlib import Path\n",
    "\n",
    "def get_imputer():\n",
    "    return imputers.get(\"hyperimpute\", \n",
    "        optimizer = \"bayesian\"\n",
    "    )\n",
    "\n",
    "def save_results(fname, results):\n",
    "    path = Path(\"tutorial_04_hyperimpute_with_bayesian_optimization\")\n",
    "    path.mkdir(parents=True, exist_ok=True)\n",
    "\n",
    "    out = path / fname\n",
    "    \n",
    "    with open(out, 'w') as outfile:\n",
    "        json.dump(results, outfile)\n",
    "        \n",
    "def evaluate_dataset_repeated(\n",
    "    name,\n",
    "    X_raw,\n",
    "    y,\n",
    "    ref_methods=[\"mean\", \"sklearn_missforest\", \"sklearn_ice\", \n",
    "                 \"gain\", \"sinkhorn\", \"softimpute\"],\n",
    "    scenarios=[\"MNAR\", \"MCAR\", \"MAR\"],\n",
    "    miss_pct=[0.1, 0.3, 0.5, 0.7],\n",
    "    n_iter=1,\n",
    "    debug=False,\n",
    "):\n",
    "    results = evaluate_dataset_repeated_internal(\n",
    "        name = name,\n",
    "        evaluated_model = get_imputer(),\n",
    "        X_raw = X_raw,\n",
    "        y = y,\n",
    "        ref_methods=ref_methods,\n",
    "        scenarios=scenarios,\n",
    "        miss_pct=miss_pct,\n",
    "        n_iter=n_iter,\n",
    "        debug=debug,\n",
    "    )\n",
    "    \n",
    "    save_results(name, results)"
   ]
  },
  {
   "cell_type": "code",
   "execution_count": null,
   "id": "c860d806",
   "metadata": {},
   "outputs": [],
   "source": []
  },
  {
   "cell_type": "markdown",
   "id": "a13f18f0",
   "metadata": {},
   "source": [
    "## Sanity check in  debug mode"
   ]
  },
  {
   "cell_type": "code",
   "execution_count": 3,
   "id": "9008e15c",
   "metadata": {
    "scrolled": false
   },
   "outputs": [
    {
     "name": "stderr",
     "output_type": "stream",
     "text": [
      "[2022-01-15T09:29:27.390995+0200][3462534][INFO]   > BO iter 0\n"
     ]
    },
    {
     "name": "stdout",
     "output_type": "stream",
     "text": [
      "> evaluation trial  0\n",
      "  > eval  MNAR 0.3\n"
     ]
    },
    {
     "name": "stderr",
     "output_type": "stream",
     "text": [
      "[2022-01-15T09:29:29.224130+0200][3462534][INFO]      >>> Column 0 <-- score -0.02207321259644897 <-- Model random_forest_regressor({})\n",
      "[2022-01-15T09:29:31.894495+0200][3462534][INFO]      >>> Column 1 <-- score -0.022626636607867054 <-- Model catboost_regressor({'depth': 4, 'grow_policy': 0})\n",
      "[2022-01-15T09:29:34.321885+0200][3462534][INFO]      >>> Column 2 <-- score -0.03353003598458554 <-- Model catboost_regressor({})\n",
      "[2022-01-15T09:29:37.456986+0200][3462534][INFO]   > BO iter 1\n",
      "[2022-01-15T09:29:40.247758+0200][3462534][INFO]      >>> Column 3 <-- score -0.04560194020543111 <-- Model xgboost_regressor({'max_depth': 4, 'lr': 0.1})\n",
      "[2022-01-15T09:29:42.260088+0200][3462534][INFO]      >>> Column 4 <-- score -0.0002623047721986451 <-- Model xgboost_regressor({'max_depth': 4, 'lr': 0.1})\n",
      "[2022-01-15T09:29:44.715146+0200][3462534][INFO]   > BO iter 2\n",
      "[2022-01-15T09:29:46.479213+0200][3462534][INFO]      >>> Column 3 <-- score -0.03778916089834308 <-- Model xgboost_regressor({'max_depth': 6, 'lr': 0.1})\n",
      "[2022-01-15T09:29:48.976732+0200][3462534][INFO]      >>> Column 0 <-- score -0.021647187755507363 <-- Model random_forest_regressor({'criterion': 0, 'max_features': 2, 'min_samples_split': 2, 'min_samples_leaf': 2})\n",
      "[2022-01-15T09:29:50.922559+0200][3462534][INFO]      >>> Column 2 <-- score -0.0017249351898310646 <-- Model catboost_regressor({})\n",
      "[2022-01-15T09:29:52.214252+0200][3462534][INFO]      >>> Column 1 <-- score -0.00020619377458942827 <-- Model xgboost_regressor({'max_depth': 4, 'lr': 0.1})\n",
      "[2022-01-15T09:29:55.245202+0200][3462534][INFO]   > BO iter 3\n",
      "[2022-01-15T09:29:56.586263+0200][3462534][INFO]      >>> Column 4 <-- score -0.0002623047721986451 <-- Model xgboost_regressor({'max_depth': 4, 'lr': 0.1})\n",
      "[2022-01-15T09:29:57.925777+0200][3462534][INFO]      >>> Column 0 <-- score -0.021647187755507363 <-- Model random_forest_regressor({'criterion': 0, 'max_features': 2, 'min_samples_split': 2, 'min_samples_leaf': 2})\n",
      "[2022-01-15T09:29:59.087108+0200][3462534][INFO]      >>> Column 1 <-- score -0.00020619377458942827 <-- Model xgboost_regressor({'max_depth': 4, 'lr': 0.1})\n",
      "[2022-01-15T09:30:01.784990+0200][3462534][INFO]   > BO iter 4\n",
      "[2022-01-15T09:30:02.412506+0200][3462534][INFO]      >>> Column 1 <-- score -0.00020619377458942827 <-- Model xgboost_regressor({'max_depth': 4, 'lr': 0.1})\n",
      "[2022-01-15T09:30:02.978730+0200][3462534][INFO]      >>> Column 4 <-- score -0.0001106799488701439 <-- Model xgboost_regressor({})\n",
      "[2022-01-15T09:30:05.745017+0200][3462534][INFO] Number of Indicators = 5\n",
      "[2022-01-15T09:30:07.757001+0200][3462534][INFO] Using hyperparameters\n",
      "            reg_lambda = 1,\n",
      "            reg_beta = 1,\n",
      "            reg_m = 1.0, lr = 0.001\n",
      "            \n"
     ]
    },
    {
     "name": "stdout",
     "output_type": "stream",
     "text": [
      "benchmark took  79.05066728591919\n",
      "RMSE score\n"
     ]
    },
    {
     "data": {
      "text/html": [
       "<table>\n",
       "<thead>\n",
       "<tr><th>Scenario  </th><th style=\"text-align: right;\">  miss_pct [0, 1]</th><th style=\"text-align: right;\">  Our method</th><th style=\"text-align: right;\">    mean</th><th style=\"text-align: right;\">  miracle</th></tr>\n",
       "</thead>\n",
       "<tbody>\n",
       "<tr><td>MNAR      </td><td style=\"text-align: right;\">              0.3</td><td style=\"text-align: right;\">    0.218589</td><td style=\"text-align: right;\">0.291261</td><td style=\"text-align: right;\"> 0.265125</td></tr>\n",
       "</tbody>\n",
       "</table>"
      ],
      "text/plain": [
       "<IPython.core.display.HTML object>"
      ]
     },
     "metadata": {},
     "output_type": "display_data"
    },
    {
     "name": "stdout",
     "output_type": "stream",
     "text": [
      "\n",
      "==========================================================\n",
      "\n",
      "Wasserstein score\n"
     ]
    },
    {
     "data": {
      "text/html": [
       "<table>\n",
       "<thead>\n",
       "<tr><th>Scenario  </th><th style=\"text-align: right;\">  miss_pct [0, 1]</th><th style=\"text-align: right;\">  Our method</th><th style=\"text-align: right;\">    mean</th><th style=\"text-align: right;\">  miracle</th></tr>\n",
       "</thead>\n",
       "<tbody>\n",
       "<tr><td>MNAR      </td><td style=\"text-align: right;\">              0.3</td><td style=\"text-align: right;\">   0.0646634</td><td style=\"text-align: right;\">0.368713</td><td style=\"text-align: right;\">  0.22579</td></tr>\n",
       "</tbody>\n",
       "</table>"
      ],
      "text/plain": [
       "<IPython.core.display.HTML object>"
      ]
     },
     "metadata": {},
     "output_type": "display_data"
    },
    {
     "name": "stdout",
     "output_type": "stream",
     "text": [
      "\n",
      "==========================================================\n",
      "\n",
      "Downstream model prediction error\n"
     ]
    },
    {
     "data": {
      "text/html": [
       "<table>\n",
       "<thead>\n",
       "<tr><th>Scenario  </th><th style=\"text-align: right;\">  miss_pct [0, 1]</th><th style=\"text-align: right;\">  Our method</th><th style=\"text-align: right;\">  mean</th><th style=\"text-align: right;\">  miracle</th></tr>\n",
       "</thead>\n",
       "<tbody>\n",
       "<tr><td>MNAR      </td><td style=\"text-align: right;\">              0.3</td><td style=\"text-align: right;\">     6.76528</td><td style=\"text-align: right;\">6.1621</td><td style=\"text-align: right;\">  6.97617</td></tr>\n",
       "</tbody>\n",
       "</table>"
      ],
      "text/plain": [
       "<IPython.core.display.HTML object>"
      ]
     },
     "metadata": {},
     "output_type": "display_data"
    }
   ],
   "source": [
    "df = pd.read_csv('https://archive.ics.uci.edu/ml/machine-learning-databases/00291/airfoil_self_noise.dat', header = None, sep =\"\\\\t\")\n",
    "\n",
    "y = df[5]\n",
    "X_raw = df.drop(columns = [5])\n",
    "\n",
    "evaluate_dataset_repeated(\"airfoil_debug\", X_raw, y,        \n",
    "            scenarios =  [\"MNAR\"],      \n",
    "            ref_methods=[\"mean\", \"miracle\"],\n",
    "            debug = True,\n",
    "            n_iter = 1,\n",
    "            miss_pct = [0.3]\n",
    ")"
   ]
  },
  {
   "cell_type": "markdown",
   "id": "f47cf927",
   "metadata": {},
   "source": [
    "# Datasets"
   ]
  },
  {
   "cell_type": "code",
   "execution_count": 4,
   "id": "b7b57094",
   "metadata": {},
   "outputs": [],
   "source": [
    "import hyperimpute.logger as log\n",
    "\n",
    "log.remove()"
   ]
  },
  {
   "cell_type": "markdown",
   "id": "666072e7",
   "metadata": {},
   "source": [
    "| Dataset     | Length | Features |\n",
    "|-------------|--------|----------|\n",
    "| airfoil     | 1503   | 6        |\n",
    "| blood       | 748    | 5        |\n",
    "| bc          | 569    | 30       |\n",
    "| california  | 20640  | 8        |\n",
    "| climate     | 540    | 21       |\n",
    "| compression | 1030   | 9        |\n",
    "| slump       | 103    | 11       |\n",
    "| sonar       | 208    | 61       |\n",
    "| diabetes    | 442    | 10       |\n",
    "| wine_red    | 1599   | 12       |\n",
    "| wine_white  | 4898   | 12       |\n",
    "| yeast       | 1484   | 10       |\n",
    "| iris        | 150    | 4        |\n",
    "| libras      | 360    | 91       |\n",
    "| parkinsons  | 195    | 24       |\n",
    "| yacht       | 308    | 7        |\n",
    "| ionosphere  | 351    | 35       |\n",
    "| letter      | 20000  | 17       |\n",
    "| spam        | 4600   | 58       |\n",
    "| credit      | 690    | 16       |"
   ]
  },
  {
   "cell_type": "markdown",
   "id": "9e804b73",
   "metadata": {},
   "source": [
    "## Dataset: UCI Airfoil Self-Noise Data Set\n",
    "\n",
    "https://archive.ics.uci.edu/ml/datasets/airfoil+self-noise\n"
   ]
  },
  {
   "cell_type": "code",
   "execution_count": 5,
   "id": "1b74580a",
   "metadata": {},
   "outputs": [
    {
     "data": {
      "text/html": [
       "<div>\n",
       "<style scoped>\n",
       "    .dataframe tbody tr th:only-of-type {\n",
       "        vertical-align: middle;\n",
       "    }\n",
       "\n",
       "    .dataframe tbody tr th {\n",
       "        vertical-align: top;\n",
       "    }\n",
       "\n",
       "    .dataframe thead th {\n",
       "        text-align: right;\n",
       "    }\n",
       "</style>\n",
       "<table border=\"1\" class=\"dataframe\">\n",
       "  <thead>\n",
       "    <tr style=\"text-align: right;\">\n",
       "      <th></th>\n",
       "      <th>0</th>\n",
       "      <th>1</th>\n",
       "      <th>2</th>\n",
       "      <th>3</th>\n",
       "      <th>4</th>\n",
       "      <th>5</th>\n",
       "    </tr>\n",
       "  </thead>\n",
       "  <tbody>\n",
       "    <tr>\n",
       "      <th>0</th>\n",
       "      <td>800</td>\n",
       "      <td>0.0</td>\n",
       "      <td>0.3048</td>\n",
       "      <td>71.3</td>\n",
       "      <td>0.002663</td>\n",
       "      <td>126.201</td>\n",
       "    </tr>\n",
       "    <tr>\n",
       "      <th>1</th>\n",
       "      <td>1000</td>\n",
       "      <td>0.0</td>\n",
       "      <td>0.3048</td>\n",
       "      <td>71.3</td>\n",
       "      <td>0.002663</td>\n",
       "      <td>125.201</td>\n",
       "    </tr>\n",
       "    <tr>\n",
       "      <th>2</th>\n",
       "      <td>1250</td>\n",
       "      <td>0.0</td>\n",
       "      <td>0.3048</td>\n",
       "      <td>71.3</td>\n",
       "      <td>0.002663</td>\n",
       "      <td>125.951</td>\n",
       "    </tr>\n",
       "    <tr>\n",
       "      <th>3</th>\n",
       "      <td>1600</td>\n",
       "      <td>0.0</td>\n",
       "      <td>0.3048</td>\n",
       "      <td>71.3</td>\n",
       "      <td>0.002663</td>\n",
       "      <td>127.591</td>\n",
       "    </tr>\n",
       "    <tr>\n",
       "      <th>4</th>\n",
       "      <td>2000</td>\n",
       "      <td>0.0</td>\n",
       "      <td>0.3048</td>\n",
       "      <td>71.3</td>\n",
       "      <td>0.002663</td>\n",
       "      <td>127.461</td>\n",
       "    </tr>\n",
       "    <tr>\n",
       "      <th>...</th>\n",
       "      <td>...</td>\n",
       "      <td>...</td>\n",
       "      <td>...</td>\n",
       "      <td>...</td>\n",
       "      <td>...</td>\n",
       "      <td>...</td>\n",
       "    </tr>\n",
       "    <tr>\n",
       "      <th>1498</th>\n",
       "      <td>2500</td>\n",
       "      <td>15.6</td>\n",
       "      <td>0.1016</td>\n",
       "      <td>39.6</td>\n",
       "      <td>0.052849</td>\n",
       "      <td>110.264</td>\n",
       "    </tr>\n",
       "    <tr>\n",
       "      <th>1499</th>\n",
       "      <td>3150</td>\n",
       "      <td>15.6</td>\n",
       "      <td>0.1016</td>\n",
       "      <td>39.6</td>\n",
       "      <td>0.052849</td>\n",
       "      <td>109.254</td>\n",
       "    </tr>\n",
       "    <tr>\n",
       "      <th>1500</th>\n",
       "      <td>4000</td>\n",
       "      <td>15.6</td>\n",
       "      <td>0.1016</td>\n",
       "      <td>39.6</td>\n",
       "      <td>0.052849</td>\n",
       "      <td>106.604</td>\n",
       "    </tr>\n",
       "    <tr>\n",
       "      <th>1501</th>\n",
       "      <td>5000</td>\n",
       "      <td>15.6</td>\n",
       "      <td>0.1016</td>\n",
       "      <td>39.6</td>\n",
       "      <td>0.052849</td>\n",
       "      <td>106.224</td>\n",
       "    </tr>\n",
       "    <tr>\n",
       "      <th>1502</th>\n",
       "      <td>6300</td>\n",
       "      <td>15.6</td>\n",
       "      <td>0.1016</td>\n",
       "      <td>39.6</td>\n",
       "      <td>0.052849</td>\n",
       "      <td>104.204</td>\n",
       "    </tr>\n",
       "  </tbody>\n",
       "</table>\n",
       "<p>1503 rows × 6 columns</p>\n",
       "</div>"
      ],
      "text/plain": [
       "         0     1       2     3         4        5\n",
       "0      800   0.0  0.3048  71.3  0.002663  126.201\n",
       "1     1000   0.0  0.3048  71.3  0.002663  125.201\n",
       "2     1250   0.0  0.3048  71.3  0.002663  125.951\n",
       "3     1600   0.0  0.3048  71.3  0.002663  127.591\n",
       "4     2000   0.0  0.3048  71.3  0.002663  127.461\n",
       "...    ...   ...     ...   ...       ...      ...\n",
       "1498  2500  15.6  0.1016  39.6  0.052849  110.264\n",
       "1499  3150  15.6  0.1016  39.6  0.052849  109.254\n",
       "1500  4000  15.6  0.1016  39.6  0.052849  106.604\n",
       "1501  5000  15.6  0.1016  39.6  0.052849  106.224\n",
       "1502  6300  15.6  0.1016  39.6  0.052849  104.204\n",
       "\n",
       "[1503 rows x 6 columns]"
      ]
     },
     "execution_count": 5,
     "metadata": {},
     "output_type": "execute_result"
    }
   ],
   "source": [
    "df = pd.read_csv('https://archive.ics.uci.edu/ml/machine-learning-databases/00291/airfoil_self_noise.dat', header = None, sep =\"\\\\t\")\n",
    "\n",
    "df"
   ]
  },
  {
   "cell_type": "code",
   "execution_count": null,
   "id": "1ce05b6e",
   "metadata": {
    "scrolled": false
   },
   "outputs": [],
   "source": [
    "last_col = df.columns[-1]\n",
    "y = df[last_col]\n",
    "X_raw = df.drop(columns = [last_col])\n",
    "\n",
    "evaluate_dataset_repeated(\"airfoil\", X_raw, y)"
   ]
  },
  {
   "cell_type": "markdown",
   "id": "31ddf41b",
   "metadata": {},
   "source": [
    "## Dataset: UCI Blood Transfusion Service Center Data Set\n",
    "\n",
    "https://archive.ics.uci.edu/ml/machine-learning-databases/blood-transfusion/transfusion.data"
   ]
  },
  {
   "cell_type": "code",
   "execution_count": null,
   "id": "ad01a14b",
   "metadata": {},
   "outputs": [],
   "source": [
    "df = pd.read_csv('https://archive.ics.uci.edu/ml/machine-learning-databases/blood-transfusion/transfusion.data')\n",
    "\n",
    "df"
   ]
  },
  {
   "cell_type": "code",
   "execution_count": null,
   "id": "1e8fc567",
   "metadata": {},
   "outputs": [],
   "source": [
    "last_col = df.columns[-1]\n",
    "y = df[last_col]\n",
    "X_raw = df.drop(columns = [last_col])\n",
    "\n",
    "evaluate_dataset_repeated(\"blood\", X_raw, y)"
   ]
  },
  {
   "cell_type": "markdown",
   "id": "e948afbe",
   "metadata": {},
   "source": [
    "## Dataset: Breast Cancer Wisconsin (Diagnostic)\n",
    "\n",
    "https://archive.ics.uci.edu/ml/datasets/Breast+Cancer+Wisconsin+(Diagnostic)"
   ]
  },
  {
   "cell_type": "code",
   "execution_count": null,
   "id": "408ef088",
   "metadata": {},
   "outputs": [],
   "source": [
    "from sklearn.datasets import load_breast_cancer\n",
    "\n",
    "X_raw, y = load_breast_cancer(as_frame = True, return_X_y = True)\n",
    "\n",
    "X_raw"
   ]
  },
  {
   "cell_type": "code",
   "execution_count": null,
   "id": "acfc039f",
   "metadata": {},
   "outputs": [],
   "source": [
    "evaluate_dataset_repeated(\"bc\", X_raw, y)"
   ]
  },
  {
   "cell_type": "markdown",
   "id": "2437d3ed",
   "metadata": {},
   "source": [
    "## Dataset: California Housing\n",
    "\n"
   ]
  },
  {
   "cell_type": "code",
   "execution_count": null,
   "id": "0801cf47",
   "metadata": {},
   "outputs": [],
   "source": [
    "from sklearn.datasets import fetch_california_housing\n",
    "\n",
    "X_raw, y = fetch_california_housing(as_frame = True, return_X_y = True)\n",
    "\n",
    "X_raw"
   ]
  },
  {
   "cell_type": "code",
   "execution_count": null,
   "id": "735ef3b5",
   "metadata": {},
   "outputs": [],
   "source": [
    "evaluate_dataset_repeated(\"california\", X_raw, y)"
   ]
  },
  {
   "cell_type": "markdown",
   "id": "78aa5248",
   "metadata": {},
   "source": [
    "## Dataset: Climate Model Simulation Crashes\n",
    "https://archive.ics.uci.edu/ml/datasets/climate+model+simulation+crashes"
   ]
  },
  {
   "cell_type": "code",
   "execution_count": null,
   "id": "f694a827",
   "metadata": {},
   "outputs": [],
   "source": [
    "samples = np.loadtxt(\"https://archive.ics.uci.edu/ml/machine-learning-databases/00252/pop_failures.dat\", skiprows=1)\n",
    "df = pd.DataFrame(samples)\n",
    "\n",
    "df"
   ]
  },
  {
   "cell_type": "code",
   "execution_count": null,
   "id": "965aece2",
   "metadata": {},
   "outputs": [],
   "source": [
    "last_col = df.columns[-1]\n",
    "y = df[last_col]\n",
    "X_raw = df.drop(columns = [last_col])\n",
    "\n",
    "evaluate_dataset_repeated(\"climate\", X_raw, y)"
   ]
  },
  {
   "cell_type": "markdown",
   "id": "3748baa7",
   "metadata": {},
   "source": [
    "## Concrete Compressive Strength Data Set\n",
    "https://archive.ics.uci.edu/ml/datasets/concrete+compressive+strength"
   ]
  },
  {
   "cell_type": "code",
   "execution_count": null,
   "id": "04ca75d1",
   "metadata": {},
   "outputs": [],
   "source": [
    "df = pd.read_excel(\"https://archive.ics.uci.edu/ml/machine-learning-databases/concrete/compressive/Concrete_Data.xls\")\n",
    "\n",
    "df"
   ]
  },
  {
   "cell_type": "code",
   "execution_count": null,
   "id": "05a6d950",
   "metadata": {},
   "outputs": [],
   "source": [
    "last_col = df.columns[-1]\n",
    "y = df[last_col]\n",
    "X_raw = df.drop(columns = [last_col])\n",
    "\n",
    "evaluate_dataset_repeated(\"compression\", X_raw, y)"
   ]
  },
  {
   "cell_type": "markdown",
   "id": "ecc7544a",
   "metadata": {},
   "source": [
    "## Concrete Slump Test Data Set\n",
    "\n",
    "https://archive.ics.uci.edu/ml/datasets/concrete+slump+test"
   ]
  },
  {
   "cell_type": "code",
   "execution_count": null,
   "id": "d28615af",
   "metadata": {},
   "outputs": [],
   "source": [
    "df = pd.read_csv(\"https://archive.ics.uci.edu/ml/machine-learning-databases/concrete/slump/slump_test.data\")\n",
    "\n",
    "df"
   ]
  },
  {
   "cell_type": "code",
   "execution_count": null,
   "id": "00c68857",
   "metadata": {},
   "outputs": [],
   "source": [
    "last_col = df.columns[-1]\n",
    "y = df[last_col]\n",
    "X_raw = df.drop(columns = [\"No\", last_col])\n",
    "\n",
    "evaluate_dataset_repeated(\"slump\", X_raw, y)"
   ]
  },
  {
   "cell_type": "markdown",
   "id": "50c7f050",
   "metadata": {},
   "source": [
    "## Connectionist Bench (Sonar, Mines vs. Rocks) Data Set\n",
    "\n",
    "https://archive.ics.uci.edu/ml/datasets/connectionist+bench+(sonar,+mines+vs.+rocks)"
   ]
  },
  {
   "cell_type": "code",
   "execution_count": null,
   "id": "26c621df",
   "metadata": {},
   "outputs": [],
   "source": [
    "df = pd.read_csv(\"https://archive.ics.uci.edu/ml/machine-learning-databases/undocumented/connectionist-bench/sonar/sonar.all-data\", header = None)\n",
    "\n",
    "df"
   ]
  },
  {
   "cell_type": "code",
   "execution_count": null,
   "id": "eddd9c63",
   "metadata": {},
   "outputs": [],
   "source": [
    "last_col = df.columns[-1]\n",
    "y = (df[last_col] == 'M').astype(int)\n",
    "X_raw = df.drop(columns = [last_col])\n",
    "\n",
    "evaluate_dataset_repeated(\"sonar\", X_raw, y)"
   ]
  },
  {
   "cell_type": "markdown",
   "id": "45ee79c8",
   "metadata": {},
   "source": [
    "## Wine-Red dataset"
   ]
  },
  {
   "cell_type": "code",
   "execution_count": null,
   "id": "2f08eb92",
   "metadata": {},
   "outputs": [],
   "source": [
    "# Wine Quality Data Set\n",
    "\n",
    "df = pd.read_csv(\"https://archive.ics.uci.edu/ml/machine-learning-databases/wine-quality/winequality-red.csv\", sep = ';')\n",
    "\n",
    "df"
   ]
  },
  {
   "cell_type": "code",
   "execution_count": null,
   "id": "7a654176",
   "metadata": {},
   "outputs": [],
   "source": [
    "last_col = df.columns[-1]\n",
    "\n",
    "y = df[last_col]\n",
    "mapped_labels = sorted(y.unique())\n",
    "mapping = {}\n",
    "for idx, label in enumerate(mapped_labels):\n",
    "    mapping[label] = idx\n",
    "y = y.map(mapping)       \n",
    "\n",
    "X_raw = df.drop(columns = [last_col])\n",
    "\n",
    "evaluate_dataset_repeated(\"wine_red\", X_raw, y)"
   ]
  },
  {
   "cell_type": "markdown",
   "id": "47233931",
   "metadata": {},
   "source": [
    "## Wine-White dataset"
   ]
  },
  {
   "cell_type": "code",
   "execution_count": null,
   "id": "0acdacaa",
   "metadata": {},
   "outputs": [],
   "source": [
    "df = pd.read_csv(\"https://archive.ics.uci.edu/ml/machine-learning-databases/wine-quality/winequality-white.csv\", sep = ';')\n",
    "\n",
    "df"
   ]
  },
  {
   "cell_type": "code",
   "execution_count": null,
   "id": "4230133e",
   "metadata": {},
   "outputs": [],
   "source": [
    "last_col = df.columns[-1]\n",
    "\n",
    "y = df[last_col]\n",
    "mapped_labels = sorted(y.unique())\n",
    "mapping = {}\n",
    "for idx, label in enumerate(mapped_labels):\n",
    "    mapping[label] = idx\n",
    "y = y.map(mapping)  \n",
    "\n",
    "X_raw = df.drop(columns = [last_col])\n",
    "\n",
    "evaluate_dataset_repeated(\"wine_white\", X_raw, y)"
   ]
  },
  {
   "cell_type": "markdown",
   "id": "ba32ed49",
   "metadata": {},
   "source": [
    "## Yeast Data Set\n"
   ]
  },
  {
   "cell_type": "code",
   "execution_count": null,
   "id": "22aa8a86",
   "metadata": {},
   "outputs": [],
   "source": [
    "from sklearn.preprocessing import LabelEncoder\n",
    "\n",
    "df = pd.read_csv(\"https://archive.ics.uci.edu/ml/machine-learning-databases/yeast/yeast.data\",sep=\"\\s+\", header = None)\n",
    "\n",
    "df = df.drop(columns = [0])\n",
    "\n",
    "for col in [9]:\n",
    "    df[col] = LabelEncoder().fit_transform(df[col])\n",
    "\n",
    "df"
   ]
  },
  {
   "cell_type": "code",
   "execution_count": null,
   "id": "509b2f61",
   "metadata": {},
   "outputs": [],
   "source": [
    "last_col = df.columns[-1]\n",
    "y = df[last_col]\n",
    "X_raw = df.drop(columns = [last_col])\n",
    "\n",
    "evaluate_dataset_repeated(\"yeast\", X_raw, y)"
   ]
  },
  {
   "cell_type": "code",
   "execution_count": null,
   "id": "c2927c6e",
   "metadata": {},
   "outputs": [],
   "source": []
  },
  {
   "cell_type": "markdown",
   "id": "74bb2e4a",
   "metadata": {},
   "source": [
    "## Diabetes\n"
   ]
  },
  {
   "cell_type": "code",
   "execution_count": null,
   "id": "e373319d",
   "metadata": {},
   "outputs": [],
   "source": [
    "from sklearn.datasets import load_diabetes\n",
    "\n",
    "X, y = load_diabetes(as_frame = True, return_X_y = True)\n",
    "\n",
    "X"
   ]
  },
  {
   "cell_type": "code",
   "execution_count": null,
   "id": "bd1572f8",
   "metadata": {},
   "outputs": [],
   "source": [
    "evaluate_dataset_repeated(\"diabetes\", X, y)"
   ]
  },
  {
   "cell_type": "markdown",
   "id": "668a31f9",
   "metadata": {},
   "source": [
    "## Iris\n"
   ]
  },
  {
   "cell_type": "code",
   "execution_count": null,
   "id": "dab4e85f",
   "metadata": {},
   "outputs": [],
   "source": [
    "from sklearn.datasets import load_iris\n",
    "\n",
    "X, y = load_iris(as_frame = True, return_X_y = True)\n",
    "\n",
    "X"
   ]
  },
  {
   "cell_type": "code",
   "execution_count": null,
   "id": "2481a432",
   "metadata": {},
   "outputs": [],
   "source": [
    "evaluate_dataset_repeated(\"iris\", X, y)"
   ]
  },
  {
   "cell_type": "code",
   "execution_count": null,
   "id": "a86166d5",
   "metadata": {},
   "outputs": [],
   "source": []
  },
  {
   "cell_type": "markdown",
   "id": "884eb0e7",
   "metadata": {},
   "source": [
    "## Ionosphere"
   ]
  },
  {
   "cell_type": "code",
   "execution_count": null,
   "id": "d10e0fac",
   "metadata": {},
   "outputs": [],
   "source": [
    "df = pd.read_csv(\"https://archive.ics.uci.edu/ml/machine-learning-databases/ionosphere/ionosphere.data\",sep=\",\", header = None)\n",
    "\n",
    "for col in df.columns:\n",
    "    if df[col].dtype == \"object\":\n",
    "        df[col] = LabelEncoder().fit_transform(df[col])\n",
    "\n",
    "last_col = df.columns[-1]\n",
    "y = df[last_col]\n",
    "X_raw = df.drop(columns = [last_col])\n",
    "\n",
    "X_raw"
   ]
  },
  {
   "cell_type": "code",
   "execution_count": null,
   "id": "0ac697da",
   "metadata": {},
   "outputs": [],
   "source": [
    "evaluate_dataset_repeated(\"ionosphere\", X_raw, y)"
   ]
  },
  {
   "cell_type": "markdown",
   "id": "4421f99b",
   "metadata": {},
   "source": [
    "## Libras"
   ]
  },
  {
   "cell_type": "code",
   "execution_count": null,
   "id": "a7d01aa3",
   "metadata": {},
   "outputs": [],
   "source": [
    "df = pd.read_csv(\"https://archive.ics.uci.edu/ml/machine-learning-databases/libras/movement_libras.data\",sep=\",\", header = None)\n",
    "\n",
    "last_col = df.columns[-1]\n",
    "y = df[last_col]\n",
    "X_raw = df.drop(columns = [last_col])\n",
    "\n",
    "X_raw"
   ]
  },
  {
   "cell_type": "code",
   "execution_count": null,
   "id": "2df53386",
   "metadata": {},
   "outputs": [],
   "source": [
    "evaluate_dataset_repeated(\"libras\", X_raw, y)"
   ]
  },
  {
   "cell_type": "markdown",
   "id": "ff518fc0",
   "metadata": {},
   "source": [
    "## Parkinsons"
   ]
  },
  {
   "cell_type": "code",
   "execution_count": null,
   "id": "e8ac48ee",
   "metadata": {},
   "outputs": [],
   "source": [
    "df = pd.read_csv(\"https://archive.ics.uci.edu/ml/machine-learning-databases/parkinsons/parkinsons.data\",sep=\",\")\n",
    "\n",
    "for col in df.columns:\n",
    "    if df[col].dtype == \"object\":\n",
    "        df[col] = LabelEncoder().fit_transform(df[col])\n",
    "  \n",
    "df = df.drop(columns = [\"name\"])\n",
    "\n",
    "last_col = df.columns[-1]\n",
    "y = df[last_col]\n",
    "X_raw = df.drop(columns = [last_col])\n",
    "\n",
    "X_raw"
   ]
  },
  {
   "cell_type": "code",
   "execution_count": null,
   "id": "1fdd08e0",
   "metadata": {},
   "outputs": [],
   "source": [
    "evaluate_dataset_repeated(\"parkinsons\", X_raw, y)"
   ]
  },
  {
   "cell_type": "markdown",
   "id": "1ea1c31f",
   "metadata": {},
   "source": [
    "## Yacht"
   ]
  },
  {
   "cell_type": "code",
   "execution_count": null,
   "id": "77e970e3",
   "metadata": {},
   "outputs": [],
   "source": [
    "df = pd.read_csv(\"https://archive.ics.uci.edu/ml/machine-learning-databases/00243/yacht_hydrodynamics.data\",sep=\"\\s+\", header = None)\n",
    "\n",
    "for col in df.columns:\n",
    "    if df[col].dtype == \"object\":\n",
    "        df[col] = LabelEncoder().fit_transform(df[col])\n",
    "  \n",
    "last_col = df.columns[-1]\n",
    "y = df[last_col]\n",
    "X_raw = df.drop(columns = [last_col])\n",
    "\n",
    "X_raw"
   ]
  },
  {
   "cell_type": "code",
   "execution_count": null,
   "id": "2ddaf202",
   "metadata": {},
   "outputs": [],
   "source": [
    "evaluate_dataset_repeated(\"yacht\", X_raw, y)"
   ]
  },
  {
   "cell_type": "markdown",
   "id": "bc884b32",
   "metadata": {},
   "source": [
    "## Spam"
   ]
  },
  {
   "cell_type": "code",
   "execution_count": null,
   "id": "b543b33f",
   "metadata": {},
   "outputs": [],
   "source": [
    "from sklearn.preprocessing import LabelEncoder\n",
    "\n",
    "df = pd.read_csv(\"https://archive.ics.uci.edu/ml/machine-learning-databases/spambase/spambase.data\")\n",
    "\n",
    "for col in df.columns:\n",
    "    if df[col].dtype == \"object\":\n",
    "        df[col] = LabelEncoder().fit_transform(df[col])\n",
    "  \n",
    "last_col = df.columns[-1]\n",
    "y = df[last_col]\n",
    "X_raw = df.drop(columns = [last_col])\n",
    "\n",
    "X_raw"
   ]
  },
  {
   "cell_type": "code",
   "execution_count": null,
   "id": "7597c33f",
   "metadata": {},
   "outputs": [],
   "source": [
    "evaluate_dataset_repeated(\"spam\", X_raw, y)"
   ]
  },
  {
   "cell_type": "markdown",
   "id": "c017cb3d",
   "metadata": {},
   "source": [
    "## Letter dataset"
   ]
  },
  {
   "cell_type": "code",
   "execution_count": null,
   "id": "2164ddb3",
   "metadata": {},
   "outputs": [],
   "source": [
    "from sklearn.preprocessing import LabelEncoder\n",
    "\n",
    "df = pd.read_csv(\"https://archive.ics.uci.edu/ml/machine-learning-databases/letter-recognition/letter-recognition.data\", header = None)\n",
    "\n",
    "for col in df.columns:\n",
    "    if df[col].dtype == \"object\":\n",
    "        df[col] = LabelEncoder().fit_transform(df[col])\n",
    "  \n",
    "last_col = df.columns[-1]\n",
    "y = df[last_col]\n",
    "X_raw = df.drop(columns = [last_col])\n",
    "\n",
    "X_raw"
   ]
  },
  {
   "cell_type": "code",
   "execution_count": null,
   "id": "de60952f",
   "metadata": {},
   "outputs": [],
   "source": [
    "evaluate_dataset_repeated(\"letter\", X_raw, y)"
   ]
  },
  {
   "cell_type": "markdown",
   "id": "3ed24558",
   "metadata": {},
   "source": [
    "## Credit dataset"
   ]
  },
  {
   "cell_type": "code",
   "execution_count": null,
   "id": "d55edc98",
   "metadata": {},
   "outputs": [],
   "source": [
    "from sklearn.preprocessing import LabelEncoder\n",
    "\n",
    "df = pd.read_csv(\"https://archive.ics.uci.edu/ml/machine-learning-databases/credit-screening/crx.data\", header = None)\n",
    "\n",
    "for col in df.columns:\n",
    "    if df[col].dtype == \"object\":\n",
    "        df[col] = LabelEncoder().fit_transform(df[col])\n",
    "  \n",
    "last_col = df.columns[-1]\n",
    "y = df[last_col]\n",
    "X_raw = df.drop(columns = [last_col])\n",
    "\n",
    "X_raw"
   ]
  },
  {
   "cell_type": "code",
   "execution_count": null,
   "id": "dbab7c63",
   "metadata": {},
   "outputs": [],
   "source": [
    "evaluate_dataset_repeated(\"credit\", X_raw, y)"
   ]
  },
  {
   "cell_type": "code",
   "execution_count": null,
   "id": "7043eb4d",
   "metadata": {},
   "outputs": [],
   "source": [
    "## "
   ]
  }
 ],
 "metadata": {
  "kernelspec": {
   "display_name": "py38",
   "language": "python",
   "name": "py38"
  },
  "language_info": {
   "codemirror_mode": {
    "name": "ipython",
    "version": 3
   },
   "file_extension": ".py",
   "mimetype": "text/x-python",
   "name": "python",
   "nbconvert_exporter": "python",
   "pygments_lexer": "ipython3",
   "version": "3.8.12"
  }
 },
 "nbformat": 4,
 "nbformat_minor": 5
}
